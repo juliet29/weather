{
 "cells": [
  {
   "cell_type": "code",
   "execution_count": 1,
   "metadata": {},
   "outputs": [],
   "source": [
    "%load_ext autoreload\n",
    "%autoreload 2"
   ]
  },
  {
   "cell_type": "code",
   "execution_count": 84,
   "metadata": {},
   "outputs": [],
   "source": [
    "from datetime import datetime\n",
    "from functools import partial\n",
    "\n",
    "import polars as pl\n",
    "import altair as alt\n",
    "import numpy as np\n",
    "from numpy.random import multivariate_normal\n",
    "from scipy.interpolate import CubicSpline\n",
    "\n",
    "from weather.helpers.epw_read import read_epw\n",
    "from weather.helpers.weather_data import PALO_ALTO_20\n",
    "from weather.helpers.filter import filter_df_by_month\n",
    "\n"
   ]
  },
  {
   "cell_type": "code",
   "execution_count": 48,
   "metadata": {},
   "outputs": [],
   "source": [
    "df = read_epw(PALO_ALTO_20.path)\n",
    "month_filter = partial(filter_df_by_month, df, PALO_ALTO_20)\n",
    "june = month_filter(6).filter(pl.col(\"datetime\").dt.day() != 30)\n",
    "assert (june[\"datetime\"].dt.date().unique_counts().unique() == 24).all()"
   ]
  },
  {
   "cell_type": "code",
   "execution_count": 49,
   "metadata": {},
   "outputs": [
    {
     "data": {
      "text/html": [
       "<div><style>\n",
       ".dataframe > thead > tr,\n",
       ".dataframe > tbody > tr {\n",
       "  text-align: right;\n",
       "  white-space: pre-wrap;\n",
       "}\n",
       "</style>\n",
       "<small>shape: (5, 28)</small><table border=\"1\" class=\"dataframe\"><thead><tr><th>datetime</th><th>Dry Bulb Temperature</th><th>Dew Point Temperature</th><th>Relative Humidity</th><th>Extraterrestrial Horizontal Radiation</th><th>Extraterrestrial Direct Normal Radiation</th><th>Horizontal Infrared Radiation Intensity</th><th>Global Horizontal Radiation</th><th>Direct Normal Radiation</th><th>Diffuse Horizontal Radiation</th><th>Global Horizontal Illuminance</th><th>Direct Normal Illuminance</th><th>Diffuse Horizontal Illuminance</th><th>Zenith Luminance</th><th>Wind Direction</th><th>Wind Speed</th><th>Total Sky Cover</th><th>Opaque Sky Cover (used if Horizontal IR Intensity missing)</th><th>Visibility</th><th>Ceiling Height</th><th>Present Weather Observation</th><th>Precipitable Water</th><th>Aerosol Optical Depth</th><th>Snow Depth</th><th>Days Since Last Snowfall</th><th>Albedo</th><th>Liquid Precipitation Depth</th><th>Liquid Precipitation Quantity</th></tr><tr><td>datetime[μs]</td><td>f64</td><td>f64</td><td>i64</td><td>i64</td><td>i64</td><td>i64</td><td>i64</td><td>i64</td><td>i64</td><td>i64</td><td>i64</td><td>i64</td><td>i64</td><td>i64</td><td>f64</td><td>i64</td><td>i64</td><td>f64</td><td>i64</td><td>i64</td><td>i64</td><td>f64</td><td>i64</td><td>i64</td><td>f64</td><td>f64</td><td>f64</td></tr></thead><tbody><tr><td>2020-06-01 00:00:00</td><td>16.0</td><td>7.8</td><td>58</td><td>0</td><td>0</td><td>339</td><td>0</td><td>0</td><td>0</td><td>0</td><td>0</td><td>0</td><td>0</td><td>350</td><td>2.9</td><td>5</td><td>5</td><td>16.1</td><td>77777</td><td>9</td><td>160</td><td>0.0</td><td>0</td><td>88</td><td>999.0</td><td>0.0</td><td>1.0</td></tr><tr><td>2020-06-01 01:00:00</td><td>15.8</td><td>8.5</td><td>62</td><td>0</td><td>0</td><td>339</td><td>0</td><td>0</td><td>0</td><td>0</td><td>0</td><td>0</td><td>0</td><td>350</td><td>2.7</td><td>5</td><td>5</td><td>16.1</td><td>77777</td><td>9</td><td>170</td><td>0.0</td><td>0</td><td>88</td><td>999.0</td><td>0.0</td><td>1.0</td></tr><tr><td>2020-06-01 02:00:00</td><td>15.5</td><td>9.2</td><td>66</td><td>0</td><td>0</td><td>339</td><td>0</td><td>0</td><td>0</td><td>0</td><td>0</td><td>0</td><td>0</td><td>350</td><td>2.4</td><td>5</td><td>5</td><td>16.1</td><td>77777</td><td>9</td><td>179</td><td>0.0</td><td>0</td><td>88</td><td>999.0</td><td>0.0</td><td>1.0</td></tr><tr><td>2020-06-01 03:00:00</td><td>15.3</td><td>10.0</td><td>71</td><td>0</td><td>0</td><td>339</td><td>0</td><td>0</td><td>0</td><td>0</td><td>0</td><td>0</td><td>0</td><td>350</td><td>2.2</td><td>5</td><td>5</td><td>16.1</td><td>77777</td><td>9</td><td>189</td><td>0.0</td><td>0</td><td>88</td><td>999.0</td><td>0.0</td><td>1.0</td></tr><tr><td>2020-06-01 04:00:00</td><td>15.1</td><td>10.7</td><td>75</td><td>3</td><td>192</td><td>339</td><td>1</td><td>0</td><td>1</td><td>147</td><td>0</td><td>231</td><td>6</td><td>350</td><td>1.9</td><td>5</td><td>5</td><td>16.1</td><td>77777</td><td>9</td><td>200</td><td>0.0</td><td>0</td><td>88</td><td>999.0</td><td>0.0</td><td>1.0</td></tr></tbody></table></div>"
      ],
      "text/plain": [
       "shape: (5, 28)\n",
       "┌────────────┬────────────┬───────────┬───────────┬───┬───────────┬────────┬───────────┬───────────┐\n",
       "│ datetime   ┆ Dry Bulb   ┆ Dew Point ┆ Relative  ┆ … ┆ Days      ┆ Albedo ┆ Liquid    ┆ Liquid    │\n",
       "│ ---        ┆ Temperatur ┆ Temperatu ┆ Humidity  ┆   ┆ Since     ┆ ---    ┆ Precipita ┆ Precipita │\n",
       "│ datetime[μ ┆ e          ┆ re        ┆ ---       ┆   ┆ Last      ┆ f64    ┆ tion      ┆ tion      │\n",
       "│ s]         ┆ ---        ┆ ---       ┆ i64       ┆   ┆ Snowfall  ┆        ┆ Depth     ┆ Quantity  │\n",
       "│            ┆ f64        ┆ f64       ┆           ┆   ┆ ---       ┆        ┆ ---       ┆ ---       │\n",
       "│            ┆            ┆           ┆           ┆   ┆ i64       ┆        ┆ f64       ┆ f64       │\n",
       "╞════════════╪════════════╪═══════════╪═══════════╪═══╪═══════════╪════════╪═══════════╪═══════════╡\n",
       "│ 2020-06-01 ┆ 16.0       ┆ 7.8       ┆ 58        ┆ … ┆ 88        ┆ 999.0  ┆ 0.0       ┆ 1.0       │\n",
       "│ 00:00:00   ┆            ┆           ┆           ┆   ┆           ┆        ┆           ┆           │\n",
       "│ 2020-06-01 ┆ 15.8       ┆ 8.5       ┆ 62        ┆ … ┆ 88        ┆ 999.0  ┆ 0.0       ┆ 1.0       │\n",
       "│ 01:00:00   ┆            ┆           ┆           ┆   ┆           ┆        ┆           ┆           │\n",
       "│ 2020-06-01 ┆ 15.5       ┆ 9.2       ┆ 66        ┆ … ┆ 88        ┆ 999.0  ┆ 0.0       ┆ 1.0       │\n",
       "│ 02:00:00   ┆            ┆           ┆           ┆   ┆           ┆        ┆           ┆           │\n",
       "│ 2020-06-01 ┆ 15.3       ┆ 10.0      ┆ 71        ┆ … ┆ 88        ┆ 999.0  ┆ 0.0       ┆ 1.0       │\n",
       "│ 03:00:00   ┆            ┆           ┆           ┆   ┆           ┆        ┆           ┆           │\n",
       "│ 2020-06-01 ┆ 15.1       ┆ 10.7      ┆ 75        ┆ … ┆ 88        ┆ 999.0  ┆ 0.0       ┆ 1.0       │\n",
       "│ 04:00:00   ┆            ┆           ┆           ┆   ┆           ┆        ┆           ┆           │\n",
       "└────────────┴────────────┴───────────┴───────────┴───┴───────────┴────────┴───────────┴───────────┘"
      ]
     },
     "execution_count": 49,
     "metadata": {},
     "output_type": "execute_result"
    }
   ],
   "source": [
    "june.head()"
   ]
  },
  {
   "cell_type": "code",
   "execution_count": 82,
   "metadata": {},
   "outputs": [],
   "source": [
    "hours = [0, 6, 12, 18, 23] # TODO apply! \n",
    "\n",
    "def create_time_df(df):\n",
    "    def filter_hour(hour):\n",
    "        return df.filter(pl.col(\"datetime\").dt.hour() == hour)[\"Dry Bulb Temperature\"]\n",
    "\n",
    "    return pl.DataFrame().with_columns(\n",
    "        begin = filter_hour(0),\n",
    "        am = filter_hour(6),\n",
    "        noon = filter_hour(12),\n",
    "        pm = filter_hour(18),\n",
    "        end = filter_hour(23)\n",
    "    )"
   ]
  },
  {
   "cell_type": "code",
   "execution_count": 53,
   "metadata": {},
   "outputs": [
    {
     "data": {
      "text/html": [
       "<div><style>\n",
       ".dataframe > thead > tr,\n",
       ".dataframe > tbody > tr {\n",
       "  text-align: right;\n",
       "  white-space: pre-wrap;\n",
       "}\n",
       "</style>\n",
       "<small>shape: (5, 6)</small><table border=\"1\" class=\"dataframe\"><thead><tr><th>day in month</th><th>begin</th><th>am</th><th>noon</th><th>pm</th><th>end</th></tr><tr><td>u32</td><td>f64</td><td>f64</td><td>f64</td><td>f64</td><td>f64</td></tr></thead><tbody><tr><td>0</td><td>16.0</td><td>16.2</td><td>22.2</td><td>19.9</td><td>18.6</td></tr><tr><td>1</td><td>18.3</td><td>18.2</td><td>28.2</td><td>25.4</td><td>22.9</td></tr><tr><td>2</td><td>22.4</td><td>21.2</td><td>29.4</td><td>25.4</td><td>21.6</td></tr><tr><td>3</td><td>20.8</td><td>18.2</td><td>27.9</td><td>23.0</td><td>19.8</td></tr><tr><td>4</td><td>19.2</td><td>17.1</td><td>19.0</td><td>16.6</td><td>16.1</td></tr></tbody></table></div>"
      ],
      "text/plain": [
       "shape: (5, 6)\n",
       "┌──────────────┬───────┬──────┬──────┬──────┬──────┐\n",
       "│ day in month ┆ begin ┆ am   ┆ noon ┆ pm   ┆ end  │\n",
       "│ ---          ┆ ---   ┆ ---  ┆ ---  ┆ ---  ┆ ---  │\n",
       "│ u32          ┆ f64   ┆ f64  ┆ f64  ┆ f64  ┆ f64  │\n",
       "╞══════════════╪═══════╪══════╪══════╪══════╪══════╡\n",
       "│ 0            ┆ 16.0  ┆ 16.2 ┆ 22.2 ┆ 19.9 ┆ 18.6 │\n",
       "│ 1            ┆ 18.3  ┆ 18.2 ┆ 28.2 ┆ 25.4 ┆ 22.9 │\n",
       "│ 2            ┆ 22.4  ┆ 21.2 ┆ 29.4 ┆ 25.4 ┆ 21.6 │\n",
       "│ 3            ┆ 20.8  ┆ 18.2 ┆ 27.9 ┆ 23.0 ┆ 19.8 │\n",
       "│ 4            ┆ 19.2  ┆ 17.1 ┆ 19.0 ┆ 16.6 ┆ 16.1 │\n",
       "└──────────────┴───────┴──────┴──────┴──────┴──────┘"
      ]
     },
     "execution_count": 53,
     "metadata": {},
     "output_type": "execute_result"
    }
   ],
   "source": [
    "tdf = create_time_df(june).with_row_index(\"day in month\")\n",
    "tdf.head()"
   ]
  },
  {
   "cell_type": "code",
   "execution_count": null,
   "metadata": {},
   "outputs": [
    {
     "data": {
      "text/html": [
       "\n",
       "<style>\n",
       "  #altair-viz-0d6a73138c37475fb2a10d28ceb2c3f2.vega-embed {\n",
       "    width: 100%;\n",
       "    display: flex;\n",
       "  }\n",
       "\n",
       "  #altair-viz-0d6a73138c37475fb2a10d28ceb2c3f2.vega-embed details,\n",
       "  #altair-viz-0d6a73138c37475fb2a10d28ceb2c3f2.vega-embed details summary {\n",
       "    position: relative;\n",
       "  }\n",
       "</style>\n",
       "<div id=\"altair-viz-0d6a73138c37475fb2a10d28ceb2c3f2\"></div>\n",
       "<script type=\"text/javascript\">\n",
       "  var VEGA_DEBUG = (typeof VEGA_DEBUG == \"undefined\") ? {} : VEGA_DEBUG;\n",
       "  (function(spec, embedOpt){\n",
       "    let outputDiv = document.currentScript.previousElementSibling;\n",
       "    if (outputDiv.id !== \"altair-viz-0d6a73138c37475fb2a10d28ceb2c3f2\") {\n",
       "      outputDiv = document.getElementById(\"altair-viz-0d6a73138c37475fb2a10d28ceb2c3f2\");\n",
       "    }\n",
       "\n",
       "    const paths = {\n",
       "      \"vega\": \"https://cdn.jsdelivr.net/npm/vega@5?noext\",\n",
       "      \"vega-lib\": \"https://cdn.jsdelivr.net/npm/vega-lib?noext\",\n",
       "      \"vega-lite\": \"https://cdn.jsdelivr.net/npm/vega-lite@5.20.1?noext\",\n",
       "      \"vega-embed\": \"https://cdn.jsdelivr.net/npm/vega-embed@6?noext\",\n",
       "    };\n",
       "\n",
       "    function maybeLoadScript(lib, version) {\n",
       "      var key = `${lib.replace(\"-\", \"\")}_version`;\n",
       "      return (VEGA_DEBUG[key] == version) ?\n",
       "        Promise.resolve(paths[lib]) :\n",
       "        new Promise(function(resolve, reject) {\n",
       "          var s = document.createElement('script');\n",
       "          document.getElementsByTagName(\"head\")[0].appendChild(s);\n",
       "          s.async = true;\n",
       "          s.onload = () => {\n",
       "            VEGA_DEBUG[key] = version;\n",
       "            return resolve(paths[lib]);\n",
       "          };\n",
       "          s.onerror = () => reject(`Error loading script: ${paths[lib]}`);\n",
       "          s.src = paths[lib];\n",
       "        });\n",
       "    }\n",
       "\n",
       "    function showError(err) {\n",
       "      outputDiv.innerHTML = `<div class=\"error\" style=\"color:red;\">${err}</div>`;\n",
       "      throw err;\n",
       "    }\n",
       "\n",
       "    function displayChart(vegaEmbed) {\n",
       "      vegaEmbed(outputDiv, spec, embedOpt)\n",
       "        .catch(err => showError(`Javascript Error: ${err.message}<br>This usually means there's a typo in your chart specification. See the javascript console for the full traceback.`));\n",
       "    }\n",
       "\n",
       "    if(typeof define === \"function\" && define.amd) {\n",
       "      requirejs.config({paths});\n",
       "      let deps = [\"vega-embed\"];\n",
       "      require(deps, displayChart, err => showError(`Error loading script: ${err.message}`));\n",
       "    } else {\n",
       "      maybeLoadScript(\"vega\", \"5\")\n",
       "        .then(() => maybeLoadScript(\"vega-lite\", \"5.20.1\"))\n",
       "        .then(() => maybeLoadScript(\"vega-embed\", \"6\"))\n",
       "        .catch(showError)\n",
       "        .then(() => displayChart(vegaEmbed));\n",
       "    }\n",
       "  })({\"config\": {\"view\": {\"continuousWidth\": 300, \"continuousHeight\": 300}}, \"data\": {\"name\": \"data-ca6ffc6eadcb11dbae3bf2cc29641f7c\"}, \"mark\": {\"type\": \"line\"}, \"encoding\": {\"color\": {\"field\": \"key\", \"sort\": [\"begin\", \"am\", \"noon\", \"pm\", \"end\"], \"type\": \"nominal\"}, \"x\": {\"field\": \"day in month\", \"type\": \"quantitative\"}, \"y\": {\"field\": \"value\", \"type\": \"quantitative\"}}, \"transform\": [{\"fold\": [\"begin\", \"am\", \"noon\", \"pm\", \"end\"]}], \"$schema\": \"https://vega.github.io/schema/vega-lite/v5.20.1.json\", \"datasets\": {\"data-ca6ffc6eadcb11dbae3bf2cc29641f7c\": [{\"day in month\": 0, \"begin\": 16.0, \"am\": 16.2, \"noon\": 22.2, \"pm\": 19.9, \"end\": 18.6}, {\"day in month\": 1, \"begin\": 18.3, \"am\": 18.2, \"noon\": 28.2, \"pm\": 25.4, \"end\": 22.9}, {\"day in month\": 2, \"begin\": 22.4, \"am\": 21.2, \"noon\": 29.4, \"pm\": 25.4, \"end\": 21.6}, {\"day in month\": 3, \"begin\": 20.8, \"am\": 18.2, \"noon\": 27.9, \"pm\": 23.0, \"end\": 19.8}, {\"day in month\": 4, \"begin\": 19.2, \"am\": 17.1, \"noon\": 19.0, \"pm\": 16.6, \"end\": 16.1}, {\"day in month\": 5, \"begin\": 15.9, \"am\": 17.0, \"noon\": 19.4, \"pm\": 16.4, \"end\": 14.9}, {\"day in month\": 6, \"begin\": 14.5, \"am\": 14.4, \"noon\": 20.0, \"pm\": 16.5, \"end\": 16.3}, {\"day in month\": 7, \"begin\": 16.2, \"am\": 17.0, \"noon\": 25.2, \"pm\": 20.4, \"end\": 18.0}, {\"day in month\": 8, \"begin\": 17.5, \"am\": 16.4, \"noon\": 27.4, \"pm\": 22.2, \"end\": 19.4}, {\"day in month\": 9, \"begin\": 18.8, \"am\": 17.2, \"noon\": 27.0, \"pm\": 20.7, \"end\": 18.1}, {\"day in month\": 10, \"begin\": 17.6, \"am\": 16.4, \"noon\": 26.0, \"pm\": 20.6, \"end\": 18.3}, {\"day in month\": 11, \"begin\": 17.8, \"am\": 17.0, \"noon\": 20.0, \"pm\": 16.1, \"end\": 15.2}, {\"day in month\": 12, \"begin\": 15.0, \"am\": 16.0, \"noon\": 21.0, \"pm\": 17.4, \"end\": 16.6}, {\"day in month\": 13, \"begin\": 16.5, \"am\": 17.5, \"noon\": 22.7, \"pm\": 17.8, \"end\": 17.1}, {\"day in month\": 14, \"begin\": 16.9, \"am\": 18.0, \"noon\": 23.6, \"pm\": 18.5, \"end\": 16.9}, {\"day in month\": 15, \"begin\": 16.6, \"am\": 16.2, \"noon\": 22.0, \"pm\": 18.0, \"end\": 17.1}, {\"day in month\": 16, \"begin\": 16.9, \"am\": 17.7, \"noon\": 28.4, \"pm\": 23.7, \"end\": 20.6}, {\"day in month\": 17, \"begin\": 20.0, \"am\": 18.4, \"noon\": 29.8, \"pm\": 23.9, \"end\": 20.3}, {\"day in month\": 18, \"begin\": 19.6, \"am\": 17.2, \"noon\": 23.0, \"pm\": 18.2, \"end\": 16.8}, {\"day in month\": 19, \"begin\": 16.5, \"am\": 16.0, \"noon\": 21.0, \"pm\": 17.5, \"end\": 16.8}, {\"day in month\": 20, \"begin\": 16.6, \"am\": 18.0, \"noon\": 23.0, \"pm\": 18.8, \"end\": 17.6}, {\"day in month\": 21, \"begin\": 17.3, \"am\": 17.6, \"noon\": 24.0, \"pm\": 19.5, \"end\": 18.3}, {\"day in month\": 22, \"begin\": 18.0, \"am\": 18.0, \"noon\": 24.0, \"pm\": 19.1, \"end\": 17.7}, {\"day in month\": 23, \"begin\": 17.4, \"am\": 17.2, \"noon\": 23.5, \"pm\": 19.4, \"end\": 17.9}, {\"day in month\": 24, \"begin\": 17.5, \"am\": 17.2, \"noon\": 23.8, \"pm\": 19.0, \"end\": 18.1}, {\"day in month\": 25, \"begin\": 17.9, \"am\": 18.0, \"noon\": 22.6, \"pm\": 18.0, \"end\": 17.1}, {\"day in month\": 26, \"begin\": 16.9, \"am\": 17.2, \"noon\": 22.2, \"pm\": 18.4, \"end\": 16.9}, {\"day in month\": 27, \"begin\": 16.5, \"am\": 16.2, \"noon\": 22.2, \"pm\": 17.6, \"end\": 15.5}, {\"day in month\": 28, \"begin\": 15.1, \"am\": 14.4, \"noon\": 24.0, \"pm\": 19.7, \"end\": 18.2}]}}, {\"mode\": \"vega-lite\"});\n",
       "</script>"
      ],
      "text/plain": [
       "alt.Chart(...)"
      ]
     },
     "execution_count": 59,
     "metadata": {},
     "output_type": "execute_result"
    }
   ],
   "source": [
    "alt.Chart(tdf).transform_fold(\n",
    "tdf.columns[1:],\n",
    ").mark_line().encode(\n",
    "    x='day in month:Q',\n",
    "    y='value:Q',\n",
    "    color=alt.Color('key:N').sort(tdf.columns[1:])\n",
    ")\n"
   ]
  },
  {
   "cell_type": "code",
   "execution_count": 63,
   "metadata": {},
   "outputs": [
    {
     "data": {
      "text/html": [
       "\n",
       "<style>\n",
       "  #altair-viz-2f61bcca3c154073ba31c8fc5d53d182.vega-embed {\n",
       "    width: 100%;\n",
       "    display: flex;\n",
       "  }\n",
       "\n",
       "  #altair-viz-2f61bcca3c154073ba31c8fc5d53d182.vega-embed details,\n",
       "  #altair-viz-2f61bcca3c154073ba31c8fc5d53d182.vega-embed details summary {\n",
       "    position: relative;\n",
       "  }\n",
       "</style>\n",
       "<div id=\"altair-viz-2f61bcca3c154073ba31c8fc5d53d182\"></div>\n",
       "<script type=\"text/javascript\">\n",
       "  var VEGA_DEBUG = (typeof VEGA_DEBUG == \"undefined\") ? {} : VEGA_DEBUG;\n",
       "  (function(spec, embedOpt){\n",
       "    let outputDiv = document.currentScript.previousElementSibling;\n",
       "    if (outputDiv.id !== \"altair-viz-2f61bcca3c154073ba31c8fc5d53d182\") {\n",
       "      outputDiv = document.getElementById(\"altair-viz-2f61bcca3c154073ba31c8fc5d53d182\");\n",
       "    }\n",
       "\n",
       "    const paths = {\n",
       "      \"vega\": \"https://cdn.jsdelivr.net/npm/vega@5?noext\",\n",
       "      \"vega-lib\": \"https://cdn.jsdelivr.net/npm/vega-lib?noext\",\n",
       "      \"vega-lite\": \"https://cdn.jsdelivr.net/npm/vega-lite@5.20.1?noext\",\n",
       "      \"vega-embed\": \"https://cdn.jsdelivr.net/npm/vega-embed@6?noext\",\n",
       "    };\n",
       "\n",
       "    function maybeLoadScript(lib, version) {\n",
       "      var key = `${lib.replace(\"-\", \"\")}_version`;\n",
       "      return (VEGA_DEBUG[key] == version) ?\n",
       "        Promise.resolve(paths[lib]) :\n",
       "        new Promise(function(resolve, reject) {\n",
       "          var s = document.createElement('script');\n",
       "          document.getElementsByTagName(\"head\")[0].appendChild(s);\n",
       "          s.async = true;\n",
       "          s.onload = () => {\n",
       "            VEGA_DEBUG[key] = version;\n",
       "            return resolve(paths[lib]);\n",
       "          };\n",
       "          s.onerror = () => reject(`Error loading script: ${paths[lib]}`);\n",
       "          s.src = paths[lib];\n",
       "        });\n",
       "    }\n",
       "\n",
       "    function showError(err) {\n",
       "      outputDiv.innerHTML = `<div class=\"error\" style=\"color:red;\">${err}</div>`;\n",
       "      throw err;\n",
       "    }\n",
       "\n",
       "    function displayChart(vegaEmbed) {\n",
       "      vegaEmbed(outputDiv, spec, embedOpt)\n",
       "        .catch(err => showError(`Javascript Error: ${err.message}<br>This usually means there's a typo in your chart specification. See the javascript console for the full traceback.`));\n",
       "    }\n",
       "\n",
       "    if(typeof define === \"function\" && define.amd) {\n",
       "      requirejs.config({paths});\n",
       "      let deps = [\"vega-embed\"];\n",
       "      require(deps, displayChart, err => showError(`Error loading script: ${err.message}`));\n",
       "    } else {\n",
       "      maybeLoadScript(\"vega\", \"5\")\n",
       "        .then(() => maybeLoadScript(\"vega-lite\", \"5.20.1\"))\n",
       "        .then(() => maybeLoadScript(\"vega-embed\", \"6\"))\n",
       "        .catch(showError)\n",
       "        .then(() => displayChart(vegaEmbed));\n",
       "    }\n",
       "  })({\"config\": {\"view\": {\"continuousWidth\": 300, \"continuousHeight\": 300}}, \"data\": {\"name\": \"data-ca6ffc6eadcb11dbae3bf2cc29641f7c\"}, \"mark\": {\"type\": \"bar\"}, \"encoding\": {\"row\": {\"field\": \"key\", \"sort\": [\"begin\", \"am\", \"noon\", \"pm\", \"end\"], \"type\": \"nominal\"}, \"x\": {\"field\": \"value\", \"type\": \"quantitative\"}, \"y\": {\"aggregate\": \"count\", \"type\": \"quantitative\"}}, \"height\": 50, \"transform\": [{\"fold\": [\"begin\", \"am\", \"noon\", \"pm\", \"end\"]}], \"width\": 300, \"$schema\": \"https://vega.github.io/schema/vega-lite/v5.20.1.json\", \"datasets\": {\"data-ca6ffc6eadcb11dbae3bf2cc29641f7c\": [{\"day in month\": 0, \"begin\": 16.0, \"am\": 16.2, \"noon\": 22.2, \"pm\": 19.9, \"end\": 18.6}, {\"day in month\": 1, \"begin\": 18.3, \"am\": 18.2, \"noon\": 28.2, \"pm\": 25.4, \"end\": 22.9}, {\"day in month\": 2, \"begin\": 22.4, \"am\": 21.2, \"noon\": 29.4, \"pm\": 25.4, \"end\": 21.6}, {\"day in month\": 3, \"begin\": 20.8, \"am\": 18.2, \"noon\": 27.9, \"pm\": 23.0, \"end\": 19.8}, {\"day in month\": 4, \"begin\": 19.2, \"am\": 17.1, \"noon\": 19.0, \"pm\": 16.6, \"end\": 16.1}, {\"day in month\": 5, \"begin\": 15.9, \"am\": 17.0, \"noon\": 19.4, \"pm\": 16.4, \"end\": 14.9}, {\"day in month\": 6, \"begin\": 14.5, \"am\": 14.4, \"noon\": 20.0, \"pm\": 16.5, \"end\": 16.3}, {\"day in month\": 7, \"begin\": 16.2, \"am\": 17.0, \"noon\": 25.2, \"pm\": 20.4, \"end\": 18.0}, {\"day in month\": 8, \"begin\": 17.5, \"am\": 16.4, \"noon\": 27.4, \"pm\": 22.2, \"end\": 19.4}, {\"day in month\": 9, \"begin\": 18.8, \"am\": 17.2, \"noon\": 27.0, \"pm\": 20.7, \"end\": 18.1}, {\"day in month\": 10, \"begin\": 17.6, \"am\": 16.4, \"noon\": 26.0, \"pm\": 20.6, \"end\": 18.3}, {\"day in month\": 11, \"begin\": 17.8, \"am\": 17.0, \"noon\": 20.0, \"pm\": 16.1, \"end\": 15.2}, {\"day in month\": 12, \"begin\": 15.0, \"am\": 16.0, \"noon\": 21.0, \"pm\": 17.4, \"end\": 16.6}, {\"day in month\": 13, \"begin\": 16.5, \"am\": 17.5, \"noon\": 22.7, \"pm\": 17.8, \"end\": 17.1}, {\"day in month\": 14, \"begin\": 16.9, \"am\": 18.0, \"noon\": 23.6, \"pm\": 18.5, \"end\": 16.9}, {\"day in month\": 15, \"begin\": 16.6, \"am\": 16.2, \"noon\": 22.0, \"pm\": 18.0, \"end\": 17.1}, {\"day in month\": 16, \"begin\": 16.9, \"am\": 17.7, \"noon\": 28.4, \"pm\": 23.7, \"end\": 20.6}, {\"day in month\": 17, \"begin\": 20.0, \"am\": 18.4, \"noon\": 29.8, \"pm\": 23.9, \"end\": 20.3}, {\"day in month\": 18, \"begin\": 19.6, \"am\": 17.2, \"noon\": 23.0, \"pm\": 18.2, \"end\": 16.8}, {\"day in month\": 19, \"begin\": 16.5, \"am\": 16.0, \"noon\": 21.0, \"pm\": 17.5, \"end\": 16.8}, {\"day in month\": 20, \"begin\": 16.6, \"am\": 18.0, \"noon\": 23.0, \"pm\": 18.8, \"end\": 17.6}, {\"day in month\": 21, \"begin\": 17.3, \"am\": 17.6, \"noon\": 24.0, \"pm\": 19.5, \"end\": 18.3}, {\"day in month\": 22, \"begin\": 18.0, \"am\": 18.0, \"noon\": 24.0, \"pm\": 19.1, \"end\": 17.7}, {\"day in month\": 23, \"begin\": 17.4, \"am\": 17.2, \"noon\": 23.5, \"pm\": 19.4, \"end\": 17.9}, {\"day in month\": 24, \"begin\": 17.5, \"am\": 17.2, \"noon\": 23.8, \"pm\": 19.0, \"end\": 18.1}, {\"day in month\": 25, \"begin\": 17.9, \"am\": 18.0, \"noon\": 22.6, \"pm\": 18.0, \"end\": 17.1}, {\"day in month\": 26, \"begin\": 16.9, \"am\": 17.2, \"noon\": 22.2, \"pm\": 18.4, \"end\": 16.9}, {\"day in month\": 27, \"begin\": 16.5, \"am\": 16.2, \"noon\": 22.2, \"pm\": 17.6, \"end\": 15.5}, {\"day in month\": 28, \"begin\": 15.1, \"am\": 14.4, \"noon\": 24.0, \"pm\": 19.7, \"end\": 18.2}]}}, {\"mode\": \"vega-lite\"});\n",
       "</script>"
      ],
      "text/plain": [
       "alt.Chart(...)"
      ]
     },
     "execution_count": 63,
     "metadata": {},
     "output_type": "execute_result"
    }
   ],
   "source": [
    "alt.Chart(tdf).transform_fold(\n",
    "tdf.columns[1:],\n",
    ").mark_bar().encode(\n",
    "    x='value:Q',\n",
    "    y='count()',\n",
    "    row=alt.Row(\"key:N\").sort(tdf.columns[1:])\n",
    ").properties(\n",
    "    width=300, height=50\n",
    ")\n"
   ]
  },
  {
   "cell_type": "code",
   "execution_count": 76,
   "metadata": {},
   "outputs": [
    {
     "data": {
      "text/plain": [
       "array([[1.        , 0.78259065, 0.57257922, 0.56273579, 0.49017695],\n",
       "       [0.78259065, 1.        , 0.53465627, 0.54844945, 0.50046856],\n",
       "       [0.57257922, 0.53465627, 1.        , 0.95322279, 0.88801313],\n",
       "       [0.56273579, 0.54844945, 0.95322279, 1.        , 0.96749648],\n",
       "       [0.49017695, 0.50046856, 0.88801313, 0.96749648, 1.        ]])"
      ]
     },
     "execution_count": 76,
     "metadata": {},
     "output_type": "execute_result"
    }
   ],
   "source": [
    "tdfo = tdf.drop(\"day in month\")\n",
    "\n",
    "tdfo.mean().to_numpy().flatten()\n",
    "tdfo.corr().to_numpy()"
   ]
  },
  {
   "cell_type": "code",
   "execution_count": 98,
   "metadata": {},
   "outputs": [
    {
     "data": {
      "text/plain": [
       "array([[18.34126089, 17.90347305, 23.41704726, 19.03601232, 17.44896397],\n",
       "       [16.1306236 , 16.54716142, 22.34777658, 17.90338084, 16.19329307],\n",
       "       [18.0998365 , 17.11716936, 25.56716004, 20.76798848, 19.05225536],\n",
       "       [18.39477289, 17.71353755, 24.87100073, 20.46113913, 18.58425083],\n",
       "       [16.65235891, 16.0382873 , 22.01273836, 17.9950282 , 16.58760088],\n",
       "       [15.33222581, 16.26691805, 23.18211163, 18.7893017 , 17.06503278],\n",
       "       [17.78677733, 17.46985602, 23.88825561, 19.44639213, 17.54110795],\n",
       "       [16.01367072, 15.34522051, 23.47834345, 19.18324936, 17.69565821],\n",
       "       [17.39272418, 17.65951666, 24.36859047, 19.94043542, 18.00532467],\n",
       "       [17.32053975, 15.33893381, 23.97223903, 19.65354724, 17.64984968]])"
      ]
     },
     "execution_count": 98,
     "metadata": {},
     "output_type": "execute_result"
    }
   ],
   "source": [
    "samples = multivariate_normal(tdfo.mean().to_numpy().flatten(), tdfo.corr().to_numpy(), size=10)\n",
    "samples"
   ]
  },
  {
   "cell_type": "code",
   "execution_count": 112,
   "metadata": {},
   "outputs": [],
   "source": [
    "times = np.arange(0, 24, 1)\n",
    "fits = [CubicSpline(np.array(hours), sample)(times) for sample in samples]\n"
   ]
  },
  {
   "cell_type": "code",
   "execution_count": 113,
   "metadata": {},
   "outputs": [
    {
     "data": {
      "text/html": [
       "<div><style>\n",
       ".dataframe > thead > tr,\n",
       ".dataframe > tbody > tr {\n",
       "  text-align: right;\n",
       "  white-space: pre-wrap;\n",
       "}\n",
       "</style>\n",
       "<small>shape: (240, 3)</small><table border=\"1\" class=\"dataframe\"><thead><tr><th>time</th><th>variable</th><th>value</th></tr><tr><td>i64</td><td>str</td><td>f64</td></tr></thead><tbody><tr><td>0</td><td>&quot;column_0&quot;</td><td>18.341261</td></tr><tr><td>1</td><td>&quot;column_0&quot;</td><td>16.868289</td></tr><tr><td>2</td><td>&quot;column_0&quot;</td><td>16.098842</td></tr><tr><td>3</td><td>&quot;column_0&quot;</td><td>15.925279</td></tr><tr><td>4</td><td>&quot;column_0&quot;</td><td>16.239958</td></tr><tr><td>&hellip;</td><td>&hellip;</td><td>&hellip;</td></tr><tr><td>19</td><td>&quot;column_9&quot;</td><td>18.56351</td></tr><tr><td>20</td><td>&quot;column_9&quot;</td><td>17.695276</td></tr><tr><td>21</td><td>&quot;column_9&quot;</td><td>17.17169</td></tr><tr><td>22</td><td>&quot;column_9&quot;</td><td>17.1156</td></tr><tr><td>23</td><td>&quot;column_9&quot;</td><td>17.64985</td></tr></tbody></table></div>"
      ],
      "text/plain": [
       "shape: (240, 3)\n",
       "┌──────┬──────────┬───────────┐\n",
       "│ time ┆ variable ┆ value     │\n",
       "│ ---  ┆ ---      ┆ ---       │\n",
       "│ i64  ┆ str      ┆ f64       │\n",
       "╞══════╪══════════╪═══════════╡\n",
       "│ 0    ┆ column_0 ┆ 18.341261 │\n",
       "│ 1    ┆ column_0 ┆ 16.868289 │\n",
       "│ 2    ┆ column_0 ┆ 16.098842 │\n",
       "│ 3    ┆ column_0 ┆ 15.925279 │\n",
       "│ 4    ┆ column_0 ┆ 16.239958 │\n",
       "│ …    ┆ …        ┆ …         │\n",
       "│ 19   ┆ column_9 ┆ 18.56351  │\n",
       "│ 20   ┆ column_9 ┆ 17.695276 │\n",
       "│ 21   ┆ column_9 ┆ 17.17169  │\n",
       "│ 22   ┆ column_9 ┆ 17.1156   │\n",
       "│ 23   ┆ column_9 ┆ 17.64985  │\n",
       "└──────┴──────────┴───────────┘"
      ]
     },
     "execution_count": 113,
     "metadata": {},
     "output_type": "execute_result"
    }
   ],
   "source": [
    "samples_df = pl.DataFrame(data=fits).insert_column(0, pl.Series(\"time\", times)).unpivot(index=\"time\")\n",
    "samples_df"
   ]
  },
  {
   "cell_type": "code",
   "execution_count": 115,
   "metadata": {},
   "outputs": [
    {
     "data": {
      "text/html": [
       "\n",
       "<style>\n",
       "  #altair-viz-1a6c9f0006d84977ac723ee5ab433e08.vega-embed {\n",
       "    width: 100%;\n",
       "    display: flex;\n",
       "  }\n",
       "\n",
       "  #altair-viz-1a6c9f0006d84977ac723ee5ab433e08.vega-embed details,\n",
       "  #altair-viz-1a6c9f0006d84977ac723ee5ab433e08.vega-embed details summary {\n",
       "    position: relative;\n",
       "  }\n",
       "</style>\n",
       "<div id=\"altair-viz-1a6c9f0006d84977ac723ee5ab433e08\"></div>\n",
       "<script type=\"text/javascript\">\n",
       "  var VEGA_DEBUG = (typeof VEGA_DEBUG == \"undefined\") ? {} : VEGA_DEBUG;\n",
       "  (function(spec, embedOpt){\n",
       "    let outputDiv = document.currentScript.previousElementSibling;\n",
       "    if (outputDiv.id !== \"altair-viz-1a6c9f0006d84977ac723ee5ab433e08\") {\n",
       "      outputDiv = document.getElementById(\"altair-viz-1a6c9f0006d84977ac723ee5ab433e08\");\n",
       "    }\n",
       "\n",
       "    const paths = {\n",
       "      \"vega\": \"https://cdn.jsdelivr.net/npm/vega@5?noext\",\n",
       "      \"vega-lib\": \"https://cdn.jsdelivr.net/npm/vega-lib?noext\",\n",
       "      \"vega-lite\": \"https://cdn.jsdelivr.net/npm/vega-lite@5.20.1?noext\",\n",
       "      \"vega-embed\": \"https://cdn.jsdelivr.net/npm/vega-embed@6?noext\",\n",
       "    };\n",
       "\n",
       "    function maybeLoadScript(lib, version) {\n",
       "      var key = `${lib.replace(\"-\", \"\")}_version`;\n",
       "      return (VEGA_DEBUG[key] == version) ?\n",
       "        Promise.resolve(paths[lib]) :\n",
       "        new Promise(function(resolve, reject) {\n",
       "          var s = document.createElement('script');\n",
       "          document.getElementsByTagName(\"head\")[0].appendChild(s);\n",
       "          s.async = true;\n",
       "          s.onload = () => {\n",
       "            VEGA_DEBUG[key] = version;\n",
       "            return resolve(paths[lib]);\n",
       "          };\n",
       "          s.onerror = () => reject(`Error loading script: ${paths[lib]}`);\n",
       "          s.src = paths[lib];\n",
       "        });\n",
       "    }\n",
       "\n",
       "    function showError(err) {\n",
       "      outputDiv.innerHTML = `<div class=\"error\" style=\"color:red;\">${err}</div>`;\n",
       "      throw err;\n",
       "    }\n",
       "\n",
       "    function displayChart(vegaEmbed) {\n",
       "      vegaEmbed(outputDiv, spec, embedOpt)\n",
       "        .catch(err => showError(`Javascript Error: ${err.message}<br>This usually means there's a typo in your chart specification. See the javascript console for the full traceback.`));\n",
       "    }\n",
       "\n",
       "    if(typeof define === \"function\" && define.amd) {\n",
       "      requirejs.config({paths});\n",
       "      let deps = [\"vega-embed\"];\n",
       "      require(deps, displayChart, err => showError(`Error loading script: ${err.message}`));\n",
       "    } else {\n",
       "      maybeLoadScript(\"vega\", \"5\")\n",
       "        .then(() => maybeLoadScript(\"vega-lite\", \"5.20.1\"))\n",
       "        .then(() => maybeLoadScript(\"vega-embed\", \"6\"))\n",
       "        .catch(showError)\n",
       "        .then(() => displayChart(vegaEmbed));\n",
       "    }\n",
       "  })({\"config\": {\"view\": {\"continuousWidth\": 300, \"continuousHeight\": 300}}, \"data\": {\"name\": \"data-654454ffcb30f1dab8ca34d976489494\"}, \"mark\": {\"type\": \"line\"}, \"encoding\": {\"color\": {\"field\": \"variable\", \"type\": \"ordinal\"}, \"x\": {\"field\": \"time\", \"type\": \"quantitative\"}, \"y\": {\"field\": \"value\", \"scale\": {\"zero\": false}, \"type\": \"quantitative\"}}, \"$schema\": \"https://vega.github.io/schema/vega-lite/v5.20.1.json\", \"datasets\": {\"data-654454ffcb30f1dab8ca34d976489494\": [{\"time\": 0, \"variable\": \"column_0\", \"value\": 18.341260886648975}, {\"time\": 1, \"variable\": \"column_0\", \"value\": 16.868288577236175}, {\"time\": 2, \"variable\": \"column_0\", \"value\": 16.0988420471659}, {\"time\": 3, \"variable\": \"column_0\", \"value\": 15.925279263006995}, {\"time\": 4, \"variable\": \"column_0\", \"value\": 16.23995819132832}, {\"time\": 5, \"variable\": \"column_0\", \"value\": 16.93523679869871}, {\"time\": 6, \"variable\": \"column_0\", \"value\": 17.90347305168703}, {\"time\": 7, \"variable\": \"column_0\", \"value\": 19.037024916862123}, {\"time\": 8, \"variable\": \"column_0\", \"value\": 20.22825036079284}, {\"time\": 9, \"variable\": \"column_0\", \"value\": 21.36950735004803}, {\"time\": 10, \"variable\": \"column_0\", \"value\": 22.353153851196538}, {\"time\": 11, \"variable\": \"column_0\", \"value\": 23.071547830807226}, {\"time\": 12, \"variable\": \"column_0\", \"value\": 23.417047255448935}, {\"time\": 13, \"variable\": \"column_0\", \"value\": 23.31629114746548}, {\"time\": 14, \"variable\": \"column_0\", \"value\": 22.833042752300532}, {\"time\": 15, \"variable\": \"column_0\", \"value\": 22.065346371172712}, {\"time\": 16, \"variable\": \"column_0\", \"value\": 21.111246305300646}, {\"time\": 17, \"variable\": \"column_0\", \"value\": 20.06878685590297}, {\"time\": 18, \"variable\": \"column_0\", \"value\": 19.03601232419831}, {\"time\": 19, \"variable\": \"column_0\", \"value\": 18.110967011405293}, {\"time\": 20, \"variable\": \"column_0\", \"value\": 17.39169521874255}, {\"time\": 21, \"variable\": \"column_0\", \"value\": 16.976241247428703}, {\"time\": 22, \"variable\": \"column_0\", \"value\": 16.962649398682387}, {\"time\": 23, \"variable\": \"column_0\", \"value\": 17.44896397372223}, {\"time\": 0, \"variable\": \"column_1\", \"value\": 16.130623597183106}, {\"time\": 1, \"variable\": \"column_1\", \"value\": 14.84802647574276}, {\"time\": 2, \"variable\": \"column_1\", \"value\": 14.248510239118632}, {\"time\": 3, \"variable\": \"column_1\", \"value\": 14.225370251155665}, {\"time\": 4, \"variable\": \"column_1\", \"value\": 14.671901875698802}, {\"time\": 5, \"variable\": \"column_1\", \"value\": 15.481400476592992}, {\"time\": 6, \"variable\": \"column_1\", \"value\": 16.547161417683178}, {\"time\": 7, \"variable\": \"column_1\", \"value\": 17.7624800628143}, {\"time\": 8, \"variable\": \"column_1\", \"value\": 19.020651775831308}, {\"time\": 9, \"variable\": \"column_1\", \"value\": 20.214971920579142}, {\"time\": 10, \"variable\": \"column_1\", \"value\": 21.238735860902743}, {\"time\": 11, \"variable\": \"column_1\", \"value\": 21.985238960647063}, {\"time\": 12, \"variable\": \"column_1\", \"value\": 22.347776583657044}, {\"time\": 13, \"variable\": \"column_1\", \"value\": 22.253991839865336}, {\"time\": 14, \"variable\": \"column_1\", \"value\": 21.768918823555406}, {\"time\": 15, \"variable\": \"column_1\", \"value\": 20.991939375098458}, {\"time\": 16, \"variable\": \"column_1\", \"value\": 20.022435334865655}, {\"time\": 17, \"variable\": \"column_1\", \"value\": 18.95978854322819}, {\"time\": 18, \"variable\": \"column_1\", \"value\": 17.903380840557237}, {\"time\": 19, \"variable\": \"column_1\", \"value\": 16.95259406722399}, {\"time\": 20, \"variable\": \"column_1\", \"value\": 16.206810063599622}, {\"time\": 21, \"variable\": \"column_1\", \"value\": 15.765410670055328}, {\"time\": 22, \"variable\": \"column_1\", \"value\": 15.727777726962278}, {\"time\": 23, \"variable\": \"column_1\", \"value\": 16.193293074691663}, {\"time\": 0, \"variable\": \"column_2\", \"value\": 18.099836498550115}, {\"time\": 1, \"variable\": \"column_2\", \"value\": 15.889058447110461}, {\"time\": 2, \"variable\": \"column_2\", \"value\": 14.699546585135877}, {\"time\": 3, \"variable\": \"column_2\", \"value\": 14.37945132924188}, {\"time\": 4, \"variable\": \"column_2\", \"value\": 14.776923096043998}, {\"time\": 5, \"variable\": \"column_2\", \"value\": 15.740112302157744}, {\"time\": 6, \"variable\": \"column_2\", \"value\": 17.11716936419865}, {\"time\": 7, \"variable\": \"column_2\", \"value\": 18.756244698782226}, {\"time\": 8, \"variable\": \"column_2\", \"value\": 20.505488722523996}, {\"time\": 9, \"variable\": \"column_2\", \"value\": 22.213051852039477}, {\"time\": 10, \"variable\": \"column_2\", \"value\": 23.7270845039442}, {\"time\": 11, \"variable\": \"column_2\", \"value\": 24.895737094853683}, {\"time\": 12, \"variable\": \"column_2\", \"value\": 25.567160041383442}, {\"time\": 13, \"variable\": \"column_2\", \"value\": 25.636344917389625}, {\"time\": 14, \"variable\": \"column_2\", \"value\": 25.185647925690848}, {\"time\": 15, \"variable\": \"column_2\", \"value\": 24.34426642634638}, {\"time\": 16, \"variable\": \"column_2\", \"value\": 23.24139777941547}, {\"time\": 17, \"variable\": \"column_2\", \"value\": 22.006239344957354}, {\"time\": 18, \"variable\": \"column_2\", \"value\": 20.7679884830313}, {\"time\": 19, \"variable\": \"column_2\", \"value\": 19.65584255369655}, {\"time\": 20, \"variable\": \"column_2\", \"value\": 18.79899891701236}, {\"time\": 21, \"variable\": \"column_2\", \"value\": 18.32665493303798}, {\"time\": 22, \"variable\": \"column_2\", \"value\": 18.368007961832653}, {\"time\": 23, \"variable\": \"column_2\", \"value\": 19.05225536345565}, {\"time\": 0, \"variable\": \"column_3\", \"value\": 18.39477289267016}, {\"time\": 1, \"variable\": \"column_3\", \"value\": 16.54564040338617}, {\"time\": 2, \"variable\": \"column_3\", \"value\": 15.564016377167189}, {\"time\": 3, \"variable\": \"column_3\", \"value\": 15.319947446494853}, {\"time\": 4, \"variable\": \"column_3\", \"value\": 15.683480243850804}, {\"time\": 5, \"variable\": \"column_3\", \"value\": 16.52466140171667}, {\"time\": 6, \"variable\": \"column_3\", \"value\": 17.7135375525741}, {\"time\": 7, \"variable\": \"column_3\", \"value\": 19.12015532890472}, {\"time\": 8, \"variable\": \"column_3\", \"value\": 20.614561363190166}, {\"time\": 9, \"variable\": \"column_3\", \"value\": 22.06680228791208}, {\"time\": 10, \"variable\": \"column_3\", \"value\": 23.34692473555209}, {\"time\": 11, \"variable\": \"column_3\", \"value\": 24.324975338591845}, {\"time\": 12, \"variable\": \"column_3\", \"value\": 24.87100072951297}, {\"time\": 13, \"variable\": \"column_3\", \"value\": 24.895158207893857}, {\"time\": 14, \"variable\": \"column_3\", \"value\": 24.46804774169989}, {\"time\": 15, \"variable\": \"column_3\", \"value\": 23.700379965993207}, {\"time\": 16, \"variable\": \"column_3\", \"value\": 22.702865515835942}, {\"time\": 17, \"variable\": \"column_3\", \"value\": 21.586215026290226}, {\"time\": 18, \"variable\": \"column_3\", \"value\": 20.4611391324182}, {\"time\": 19, \"variable\": \"column_3\", \"value\": 19.438348469282}, {\"time\": 20, \"variable\": \"column_3\", \"value\": 18.62855367194376}, {\"time\": 21, \"variable\": \"column_3\", \"value\": 18.14246537546562}, {\"time\": 22, \"variable\": \"column_3\", \"value\": 18.090794214909707}, {\"time\": 23, \"variable\": \"column_3\", \"value\": 18.584250825338163}, {\"time\": 0, \"variable\": \"column_4\", \"value\": 16.652358909481066}, {\"time\": 1, \"variable\": \"column_4\", \"value\": 15.067393267803144}, {\"time\": 2, \"variable\": \"column_4\", \"value\": 14.224578913447969}, {\"time\": 3, \"variable\": \"column_4\", \"value\": 14.01208849273981}, {\"time\": 4, \"variable\": \"column_4\", \"value\": 14.318094652002932}, {\"time\": 5, \"variable\": \"column_4\", \"value\": 15.030770037561606}, {\"time\": 6, \"variable\": \"column_4\", \"value\": 16.03828729574009}, {\"time\": 7, \"variable\": \"column_4\", \"value\": 17.22881907286266}, {\"time\": 8, \"variable\": \"column_4\", \"value\": 18.49053801525358}, {\"time\": 9, \"variable\": \"column_4\", \"value\": 19.71161676923712}, {\"time\": 10, \"variable\": \"column_4\", \"value\": 20.780227981137543}, {\"time\": 11, \"variable\": \"column_4\", \"value\": 21.584544297279113}, {\"time\": 12, \"variable\": \"column_4\", \"value\": 22.01273836398611}, {\"time\": 13, \"variable\": \"column_4\", \"value\": 21.98804775575087}, {\"time\": 14, \"variable\": \"column_4\", \"value\": 21.573969759738084}, {\"time\": 15, \"variable\": \"column_4\", \"value\": 20.8690665912805}, {\"time\": 16, \"variable\": \"column_4\", \"value\": 19.971900465710892}, {\"time\": 17, \"variable\": \"column_4\", \"value\": 18.981033598362018}, {\"time\": 18, \"variable\": \"column_4\", \"value\": 17.995028204566644}, {\"time\": 19, \"variable\": \"column_4\", \"value\": 17.112446499657526}, {\"time\": 20, \"variable\": \"column_4\", \"value\": 16.431850698967434}, {\"time\": 21, \"variable\": \"column_4\", \"value\": 16.05180301782912}, {\"time\": 22, \"variable\": \"column_4\", \"value\": 16.07086567157535}, {\"time\": 23, \"variable\": \"column_4\", \"value\": 16.58760087553889}, {\"time\": 0, \"variable\": \"column_5\", \"value\": 15.33222581054699}, {\"time\": 1, \"variable\": \"column_5\", \"value\": 13.995011938268936}, {\"time\": 2, \"variable\": \"column_5\", \"value\": 13.411750368280407}, {\"time\": 3, \"variable\": \"column_5\", \"value\": 13.464875647545576}, {\"time\": 4, \"variable\": \"column_5\", \"value\": 14.036822323028627}, {\"time\": 5, \"variable\": \"column_5\", \"value\": 15.010024941693736}, {\"time\": 6, \"variable\": \"column_5\", \"value\": 16.266918050505087}, {\"time\": 7, \"variable\": \"column_5\", \"value\": 17.689936196426853}, {\"time\": 8, \"variable\": \"column_5\", \"value\": 19.161513926423222}, {\"time\": 9, \"variable\": \"column_5\", \"value\": 20.56408578745836}, {\"time\": 10, \"variable\": \"column_5\", \"value\": 21.780086326496452}, {\"time\": 11, \"variable\": \"column_5\", \"value\": 22.69195009050168}, {\"time\": 12, \"variable\": \"column_5\", \"value\": 23.182111626438225}, {\"time\": 13, \"variable\": \"column_5\", \"value\": 23.17053156006627}, {\"time\": 14, \"variable\": \"column_5\", \"value\": 22.72727483233004}, {\"time\": 15, \"variable\": \"column_5\", \"value\": 21.959932462969775}, {\"time\": 16, \"variable\": \"column_5\", \"value\": 20.976095471725714}, {\"time\": 17, \"variable\": \"column_5\", \"value\": 19.883354878338082}, {\"time\": 18, \"variable\": \"column_5\", \"value\": 18.78930170254712}, {\"time\": 19, \"variable\": \"column_5\", \"value\": 17.801526964093068}, {\"time\": 20, \"variable\": \"column_5\", \"value\": 17.027621682716156}, {\"time\": 21, \"variable\": \"column_5\", \"value\": 16.575176878156626}, {\"time\": 22, \"variable\": \"column_5\", \"value\": 16.5517835701547}, {\"time\": 23, \"variable\": \"column_5\", \"value\": 17.06503277845063}, {\"time\": 0, \"variable\": \"column_6\", \"value\": 17.786777330636642}, {\"time\": 1, \"variable\": \"column_6\", \"value\": 16.179401102284533}, {\"time\": 2, \"variable\": \"column_6\", \"value\": 15.351930971760984}, {\"time\": 3, \"variable\": \"column_6\", \"value\": 15.185804168880756}, {\"time\": 4, \"variable\": \"column_6\", \"value\": 15.562457923458597}, {\"time\": 5, \"variable\": \"column_6\", \"value\": 16.36332946530927}, {\"time\": 6, \"variable\": \"column_6\", \"value\": 17.469856024247527}, {\"time\": 7, \"variable\": \"column_6\", \"value\": 18.76347483008812}, {\"time\": 8, \"variable\": \"column_6\", \"value\": 20.12562311264581}, {\"time\": 9, \"variable\": \"column_6\", \"value\": 21.437738101735352}, {\"time\": 10, \"variable\": \"column_6\", \"value\": 22.5812570271715}, {\"time\": 11, \"variable\": \"column_6\", \"value\": 23.437617118769}, {\"time\": 12, \"variable\": \"column_6\", \"value\": 23.888255606342625}, {\"time\": 13, \"variable\": \"column_6\", \"value\": 23.851711453083148}, {\"time\": 14, \"variable\": \"column_6\", \"value\": 23.394930555685487}, {\"time\": 15, \"variable\": \"column_6\", \"value\": 22.621960544220574}, {\"time\": 16, \"variable\": \"column_6\", \"value\": 21.63684904875936}, {\"time\": 17, \"variable\": \"column_6\", \"value\": 20.543643699372783}, {\"time\": 18, \"variable\": \"column_6\", \"value\": 19.446392126131784}, {\"time\": 19, \"variable\": \"column_6\", \"value\": 18.4491419591073}, {\"time\": 20, \"variable\": \"column_6\", \"value\": 17.655940828370284}, {\"time\": 21, \"variable\": \"column_6\", \"value\": 17.170836363991665}, {\"time\": 22, \"variable\": \"column_6\", \"value\": 17.09787619604239}, {\"time\": 23, \"variable\": \"column_6\", \"value\": 17.5411079545934}, {\"time\": 0, \"variable\": \"column_7\", \"value\": 16.013670721240477}, {\"time\": 1, \"variable\": \"column_7\", \"value\": 13.988568842086968}, {\"time\": 2, \"variable\": \"column_7\", \"value\": 12.918395007792464}, {\"time\": 3, \"variable\": \"column_7\", \"value\": 12.661061237967001}, {\"time\": 4, \"variable\": \"column_7\", \"value\": 13.074479552220605}, {\"time\": 5, \"variable\": \"column_7\", \"value\": 14.016561970163316}, {\"time\": 6, \"variable\": \"column_7\", \"value\": 15.345220511405163}, {\"time\": 7, \"variable\": \"column_7\", \"value\": 16.91836719555618}, {\"time\": 8, \"variable\": \"column_7\", \"value\": 18.59391404222641}, {\"time\": 9, \"variable\": \"column_7\", \"value\": 20.229773071025868}, {\"time\": 10, \"variable\": \"column_7\", \"value\": 21.683856301564603}, {\"time\": 11, \"variable\": \"column_7\", \"value\": 22.81407575345264}, {\"time\": 12, \"variable\": \"column_7\", \"value\": 23.47834344630002}, {\"time\": 13, \"variable\": \"column_7\", \"value\": 23.5783733145406}, {\"time\": 14, \"variable\": \"column_7\", \"value\": 23.191086951903564}, {\"time\": 15, \"variable\": \"column_7\", \"value\": 22.437207866941932}, {\"time\": 16, \"variable\": \"column_7\", \"value\": 21.437459568208713}, {\"time\": 17, \"variable\": \"column_7\", \"value\": 20.312565564256918}, {\"time\": 18, \"variable\": \"column_7\", \"value\": 19.183249363639565}, {\"time\": 19, \"variable\": \"column_7\", \"value\": 18.170234474909666}, {\"time\": 20, \"variable\": \"column_7\", \"value\": 17.39424440662024}, {\"time\": 21, \"variable\": \"column_7\", \"value\": 16.976002667324295}, {\"time\": 22, \"variable\": \"column_7\", \"value\": 17.03623276557484}, {\"time\": 23, \"variable\": \"column_7\", \"value\": 17.695658209924904}, {\"time\": 0, \"variable\": \"column_8\", \"value\": 17.392724180153827}, {\"time\": 1, \"variable\": \"column_8\", \"value\": 15.901296677036571}, {\"time\": 2, \"variable\": \"column_8\", \"value\": 15.182555398256461}, {\"time\": 3, \"variable\": \"column_8\", \"value\": 15.117753550714115}, {\"time\": 4, \"variable\": \"column_8\", \"value\": 15.58814434131016}, {\"time\": 5, \"variable\": \"column_8\", \"value\": 16.47498097694522}, {\"time\": 6, \"variable\": \"column_8\", \"value\": 17.659516664519906}, {\"time\": 7, \"variable\": \"column_8\", \"value\": 19.023004610934848}, {\"time\": 8, \"variable\": \"column_8\", \"value\": 20.44669802309067}, {\"time\": 9, \"variable\": \"column_8\", \"value\": 21.811850107887988}, {\"time\": 10, \"variable\": \"column_8\", \"value\": 22.99971407222743}, {\"time\": 11, \"variable\": \"column_8\", \"value\": 23.89154312300961}, {\"time\": 12, \"variable\": \"column_8\", \"value\": 24.368590467135157}, {\"time\": 13, \"variable\": \"column_8\", \"value\": 24.349469483470873}, {\"time\": 14, \"variable\": \"column_8\", \"value\": 23.902234238748306}, {\"time\": 15, \"variable\": \"column_8\", \"value\": 23.13229897166518}, {\"time\": 16, \"variable\": \"column_8\", \"value\": 22.145077920919228}, {\"time\": 17, \"variable\": \"column_8\", \"value\": 21.045985325208168}, {\"time\": 18, \"variable\": \"column_8\", \"value\": 19.940435423229737}, {\"time\": 19, \"variable\": \"column_8\", \"value\": 18.93384245368166}, {\"time\": 20, \"variable\": \"column_8\", \"value\": 18.13162065526166}, {\"time\": 21, \"variable\": \"column_8\", \"value\": 17.639184266667474}, {\"time\": 22, \"variable\": \"column_8\", \"value\": 17.561947526596825}, {\"time\": 23, \"variable\": \"column_8\", \"value\": 18.005324673747435}, {\"time\": 0, \"variable\": \"column_9\", \"value\": 17.320539745773576}, {\"time\": 1, \"variable\": \"column_9\", \"value\": 14.827740972549451}, {\"time\": 2, \"variable\": \"column_9\", \"value\": 13.407283302416058}, {\"time\": 3, \"variable\": \"column_9\", \"value\": 12.903670243362322}, {\"time\": 4, \"variable\": \"column_9\", \"value\": 13.16140530337717}, {\"time\": 5, \"variable\": \"column_9\", \"value\": 14.024991990449525}, {\"time\": 6, \"variable\": \"column_9\", \"value\": 15.338933812568314}, {\"time\": 7, \"variable\": \"column_9\", \"value\": 16.94773427772246}, {\"time\": 8, \"variable\": \"column_9\", \"value\": 18.69589689390089}, {\"time\": 9, \"variable\": \"column_9\", \"value\": 20.42792516909253}, {\"time\": 10, \"variable\": \"column_9\", \"value\": 21.9883226112863}, {\"time\": 11, \"variable\": \"column_9\", \"value\": 23.22159272847113}, {\"time\": 12, \"variable\": \"column_9\", \"value\": 23.972239028635943}, {\"time\": 13, \"variable\": \"column_9\", \"value\": 24.13115545552601}, {\"time\": 14, \"variable\": \"column_9\", \"value\": 23.77479769591198}, {\"time\": 15, \"variable\": \"column_9\", \"value\": 23.026011872320844}, {\"time\": 16, \"variable\": \"column_9\", \"value\": 22.00764410727959}, {\"time\": 17, \"variable\": \"column_9\", \"value\": 20.84254052331522}, {\"time\": 18, \"variable\": \"column_9\", \"value\": 19.65354724295472}, {\"time\": 19, \"variable\": \"column_9\", \"value\": 18.56351038872508}, {\"time\": 20, \"variable\": \"column_9\", \"value\": 17.695276083153303}, {\"time\": 21, \"variable\": \"column_9\", \"value\": 17.171690448766373}, {\"time\": 22, \"variable\": \"column_9\", \"value\": 17.115599608091287}, {\"time\": 23, \"variable\": \"column_9\", \"value\": 17.64984968365503}]}}, {\"mode\": \"vega-lite\"});\n",
       "</script>"
      ],
      "text/plain": [
       "alt.Chart(...)"
      ]
     },
     "execution_count": 115,
     "metadata": {},
     "output_type": "execute_result"
    }
   ],
   "source": [
    "alt.Chart(samples_df).mark_line().encode(\n",
    "    x='time:Q',\n",
    "    y=alt.Y('value:Q').scale(zero=False),\n",
    "    color=alt.Color(\"variable:O\")\n",
    ")"
   ]
  }
 ],
 "metadata": {
  "kernelspec": {
   "display_name": ".venv",
   "language": "python",
   "name": "python3"
  },
  "language_info": {
   "codemirror_mode": {
    "name": "ipython",
    "version": 3
   },
   "file_extension": ".py",
   "mimetype": "text/x-python",
   "name": "python",
   "nbconvert_exporter": "python",
   "pygments_lexer": "ipython3",
   "version": "3.13.1"
  }
 },
 "nbformat": 4,
 "nbformat_minor": 2
}
