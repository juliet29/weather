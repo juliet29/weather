{
 "cells": [
  {
   "cell_type": "code",
   "execution_count": 1,
   "metadata": {},
   "outputs": [],
   "source": [
    "%load_ext autoreload\n",
    "%autoreload 2"
   ]
  },
  {
   "cell_type": "code",
   "execution_count": 2,
   "metadata": {},
   "outputs": [],
   "source": [
    "import pendulum\n",
    "import polars as pl\n",
    "from weather.fit.day_fit import init_models, fit_day_profile, plot_day_profile\n",
    "from weather.fit.peak_fit.helpers import PeakValues\n",
    "from weather.helpers.dataframes import init_df, filter_by_day, TEMPERATURE"
   ]
  },
  {
   "cell_type": "code",
   "execution_count": 5,
   "metadata": {},
   "outputs": [
    {
     "name": "stdout",
     "output_type": "stream",
     "text": [
      "P-values: [1.23490164e-18 1.12058163e-12 2.00867849e-06]\n"
     ]
    },
    {
     "data": {
      "text/html": [
       "\n",
       "<style>\n",
       "  #altair-viz-664907b7c37242219513edc9c81c233a.vega-embed {\n",
       "    width: 100%;\n",
       "    display: flex;\n",
       "  }\n",
       "\n",
       "  #altair-viz-664907b7c37242219513edc9c81c233a.vega-embed details,\n",
       "  #altair-viz-664907b7c37242219513edc9c81c233a.vega-embed details summary {\n",
       "    position: relative;\n",
       "  }\n",
       "</style>\n",
       "<div id=\"altair-viz-664907b7c37242219513edc9c81c233a\"></div>\n",
       "<script type=\"text/javascript\">\n",
       "  var VEGA_DEBUG = (typeof VEGA_DEBUG == \"undefined\") ? {} : VEGA_DEBUG;\n",
       "  (function(spec, embedOpt){\n",
       "    let outputDiv = document.currentScript.previousElementSibling;\n",
       "    if (outputDiv.id !== \"altair-viz-664907b7c37242219513edc9c81c233a\") {\n",
       "      outputDiv = document.getElementById(\"altair-viz-664907b7c37242219513edc9c81c233a\");\n",
       "    }\n",
       "\n",
       "    const paths = {\n",
       "      \"vega\": \"https://cdn.jsdelivr.net/npm/vega@5?noext\",\n",
       "      \"vega-lib\": \"https://cdn.jsdelivr.net/npm/vega-lib?noext\",\n",
       "      \"vega-lite\": \"https://cdn.jsdelivr.net/npm/vega-lite@5.20.1?noext\",\n",
       "      \"vega-embed\": \"https://cdn.jsdelivr.net/npm/vega-embed@6?noext\",\n",
       "    };\n",
       "\n",
       "    function maybeLoadScript(lib, version) {\n",
       "      var key = `${lib.replace(\"-\", \"\")}_version`;\n",
       "      return (VEGA_DEBUG[key] == version) ?\n",
       "        Promise.resolve(paths[lib]) :\n",
       "        new Promise(function(resolve, reject) {\n",
       "          var s = document.createElement('script');\n",
       "          document.getElementsByTagName(\"head\")[0].appendChild(s);\n",
       "          s.async = true;\n",
       "          s.onload = () => {\n",
       "            VEGA_DEBUG[key] = version;\n",
       "            return resolve(paths[lib]);\n",
       "          };\n",
       "          s.onerror = () => reject(`Error loading script: ${paths[lib]}`);\n",
       "          s.src = paths[lib];\n",
       "        });\n",
       "    }\n",
       "\n",
       "    function showError(err) {\n",
       "      outputDiv.innerHTML = `<div class=\"error\" style=\"color:red;\">${err}</div>`;\n",
       "      throw err;\n",
       "    }\n",
       "\n",
       "    function displayChart(vegaEmbed) {\n",
       "      vegaEmbed(outputDiv, spec, embedOpt)\n",
       "        .catch(err => showError(`Javascript Error: ${err.message}<br>This usually means there's a typo in your chart specification. See the javascript console for the full traceback.`));\n",
       "    }\n",
       "\n",
       "    if(typeof define === \"function\" && define.amd) {\n",
       "      requirejs.config({paths});\n",
       "      let deps = [\"vega-embed\"];\n",
       "      require(deps, displayChart, err => showError(`Error loading script: ${err.message}`));\n",
       "    } else {\n",
       "      maybeLoadScript(\"vega\", \"5\")\n",
       "        .then(() => maybeLoadScript(\"vega-lite\", \"5.20.1\"))\n",
       "        .then(() => maybeLoadScript(\"vega-embed\", \"6\"))\n",
       "        .catch(showError)\n",
       "        .then(() => displayChart(vegaEmbed));\n",
       "    }\n",
       "  })({\"config\": {\"view\": {\"continuousWidth\": 300, \"continuousHeight\": 300}}, \"layer\": [{\"mark\": {\"type\": \"circle\"}, \"encoding\": {\"x\": {\"field\": \"peak_temp\", \"scale\": {\"zero\": false}, \"type\": \"quantitative\"}, \"y\": {\"field\": \"popt\", \"scale\": {\"zero\": false}, \"type\": \"quantitative\"}}}, {\"mark\": {\"type\": \"line\"}, \"encoding\": {\"color\": {\"value\": \"black\"}, \"x\": {\"field\": \"peak_temp\", \"scale\": {\"zero\": false}, \"type\": \"quantitative\"}, \"y\": {\"field\": \"fit_popt\", \"scale\": {\"zero\": false}, \"type\": \"quantitative\"}}}], \"data\": {\"name\": \"data-6cabf23854807a31b24f68c72e5ee24a\"}, \"$schema\": \"https://vega.github.io/schema/vega-lite/v5.20.1.json\", \"datasets\": {\"data-6cabf23854807a31b24f68c72e5ee24a\": [{\"day\": 18, \"popt\": 0.0010000000000001412, \"peak_temp\": 30.6, \"peak_hour\": 13, \"fit_popt\": 0.0010006185584272576}, {\"day\": 10, \"popt\": 0.0010000000000004938, \"peak_temp\": 27.0, \"peak_hour\": 12, \"fit_popt\": 0.0009927946825637468}, {\"day\": 23, \"popt\": 0.25730256674767915, \"peak_temp\": 24.0, \"peak_hour\": 11, \"fit_popt\": 0.20099919339855166}, {\"day\": 2, \"popt\": 0.0010000000010388175, \"peak_temp\": 30.7, \"peak_hour\": 14, \"fit_popt\": 0.0010008358883123458}, {\"day\": 13, \"popt\": 0.39933415533358285, \"peak_temp\": 21.4, \"peak_hour\": 14, \"fit_popt\": 0.4146557048074783}, {\"day\": 25, \"popt\": 0.23073096238877902, \"peak_temp\": 23.8, \"peak_hour\": 12, \"fit_popt\": 0.2174343096607767}, {\"day\": 4, \"popt\": 0.0010000000000000028, \"peak_temp\": 28.9, \"peak_hour\": 14, \"fit_popt\": 0.000996923950380646}, {\"day\": 16, \"popt\": 0.370049501057334, \"peak_temp\": 22.1, \"peak_hour\": 14, \"fit_popt\": 0.35713279788969016}, {\"day\": 1, \"popt\": 0.13296574192222543, \"peak_temp\": 24.3, \"peak_hour\": 14, \"fit_popt\": 0.17634651900521392}, {\"day\": 5, \"popt\": 0.5531283783782401, \"peak_temp\": 21.0, \"peak_hour\": 10, \"fit_popt\": 0.44752593733192847}, {\"day\": 27, \"popt\": 0.2655026784280379, \"peak_temp\": 23.0, \"peak_hour\": 13, \"fit_popt\": 0.2831747747096772}, {\"day\": 17, \"popt\": 0.0010000000000196054, \"peak_temp\": 29.8, \"peak_hour\": 13, \"fit_popt\": 0.0009988799193465514}, {\"day\": 24, \"popt\": 0.20963828883497213, \"peak_temp\": 24.0, \"peak_hour\": 13, \"fit_popt\": 0.20099919339855166}, {\"day\": 8, \"popt\": 0.0010000000000004521, \"peak_temp\": 26.0, \"peak_hour\": 13, \"fit_popt\": 0.036648030776300466}, {\"day\": 3, \"popt\": 0.0010000000000695436, \"peak_temp\": 31.8, \"peak_hour\": 14, \"fit_popt\": 0.0010032265170485388}, {\"day\": 12, \"popt\": 0.5504397127626693, \"peak_temp\": 20.1, \"peak_hour\": 14, \"fit_popt\": 0.5214839605119413}, {\"day\": 9, \"popt\": 0.0010000000016611253, \"peak_temp\": 28.1, \"peak_hour\": 13, \"fit_popt\": 0.0009951853112998288}, {\"day\": 28, \"popt\": 0.17746987948367998, \"peak_temp\": 22.8, \"peak_hour\": 13, \"fit_popt\": 0.29960989097190227}, {\"day\": 14, \"popt\": 0.2856300353458927, \"peak_temp\": 22.7, \"peak_hour\": 12, \"fit_popt\": 0.30782744910301496}, {\"day\": 22, \"popt\": 0.2210371542755162, \"peak_temp\": 24.0, \"peak_hour\": 12, \"fit_popt\": 0.20099919339855166}, {\"day\": 20, \"popt\": 0.4337908729610592, \"peak_temp\": 21.4, \"peak_hour\": 14, \"fit_popt\": 0.4146557048074783}, {\"day\": 19, \"popt\": 0.34082378584342693, \"peak_temp\": 23.0, \"peak_hour\": 11, \"fit_popt\": 0.2831747747096772}, {\"day\": 11, \"popt\": 0.0010000000000000564, \"peak_temp\": 26.0, \"peak_hour\": 12, \"fit_popt\": 0.036648030776300466}, {\"day\": 6, \"popt\": 0.37890399343860054, \"peak_temp\": 21.0, \"peak_hour\": 14, \"fit_popt\": 0.44752593733192847}, {\"day\": 15, \"popt\": 0.22540038416534394, \"peak_temp\": 23.6, \"peak_hour\": 12, \"fit_popt\": 0.23386942592300175}, {\"day\": 26, \"popt\": 0.4054715353003668, \"peak_temp\": 22.6, \"peak_hour\": 11, \"fit_popt\": 0.3160450072341274}, {\"day\": 21, \"popt\": 0.32865063439266945, \"peak_temp\": 23.3, \"peak_hour\": 14, \"fit_popt\": 0.2585221003163395}, {\"day\": 7, \"popt\": 0.4166976584699929, \"peak_temp\": 20.0, \"peak_hour\": 11, \"fit_popt\": 0.529701518643054}]}}, {\"mode\": \"vega-lite\"});\n",
       "</script>"
      ],
      "text/plain": [
       "alt.LayerChart(...)"
      ]
     },
     "metadata": {},
     "output_type": "display_data"
    },
    {
     "name": "stdout",
     "output_type": "stream",
     "text": [
      "r-value: 0.9016184183543983\n",
      "r-value: 0.9674964780616764\n"
     ]
    }
   ],
   "source": [
    "models = init_models()"
   ]
  },
  {
   "cell_type": "code",
   "execution_count": 6,
   "metadata": {},
   "outputs": [],
   "source": [
    "df = init_df()"
   ]
  },
  {
   "cell_type": "code",
   "execution_count": 24,
   "metadata": {},
   "outputs": [
    {
     "name": "stdout",
     "output_type": "stream",
     "text": [
      "peak_values: PeakValues(hour=14, temp=21.0)\n",
      "r for peak_fit: 0.44752593733192847\n"
     ]
    },
    {
     "data": {
      "text/html": [
       "\n",
       "<style>\n",
       "  #altair-viz-6f38a610b78f41e3b313c3cc8288b57e.vega-embed {\n",
       "    width: 100%;\n",
       "    display: flex;\n",
       "  }\n",
       "\n",
       "  #altair-viz-6f38a610b78f41e3b313c3cc8288b57e.vega-embed details,\n",
       "  #altair-viz-6f38a610b78f41e3b313c3cc8288b57e.vega-embed details summary {\n",
       "    position: relative;\n",
       "  }\n",
       "</style>\n",
       "<div id=\"altair-viz-6f38a610b78f41e3b313c3cc8288b57e\"></div>\n",
       "<script type=\"text/javascript\">\n",
       "  var VEGA_DEBUG = (typeof VEGA_DEBUG == \"undefined\") ? {} : VEGA_DEBUG;\n",
       "  (function(spec, embedOpt){\n",
       "    let outputDiv = document.currentScript.previousElementSibling;\n",
       "    if (outputDiv.id !== \"altair-viz-6f38a610b78f41e3b313c3cc8288b57e\") {\n",
       "      outputDiv = document.getElementById(\"altair-viz-6f38a610b78f41e3b313c3cc8288b57e\");\n",
       "    }\n",
       "\n",
       "    const paths = {\n",
       "      \"vega\": \"https://cdn.jsdelivr.net/npm/vega@5?noext\",\n",
       "      \"vega-lib\": \"https://cdn.jsdelivr.net/npm/vega-lib?noext\",\n",
       "      \"vega-lite\": \"https://cdn.jsdelivr.net/npm/vega-lite@5.20.1?noext\",\n",
       "      \"vega-embed\": \"https://cdn.jsdelivr.net/npm/vega-embed@6?noext\",\n",
       "    };\n",
       "\n",
       "    function maybeLoadScript(lib, version) {\n",
       "      var key = `${lib.replace(\"-\", \"\")}_version`;\n",
       "      return (VEGA_DEBUG[key] == version) ?\n",
       "        Promise.resolve(paths[lib]) :\n",
       "        new Promise(function(resolve, reject) {\n",
       "          var s = document.createElement('script');\n",
       "          document.getElementsByTagName(\"head\")[0].appendChild(s);\n",
       "          s.async = true;\n",
       "          s.onload = () => {\n",
       "            VEGA_DEBUG[key] = version;\n",
       "            return resolve(paths[lib]);\n",
       "          };\n",
       "          s.onerror = () => reject(`Error loading script: ${paths[lib]}`);\n",
       "          s.src = paths[lib];\n",
       "        });\n",
       "    }\n",
       "\n",
       "    function showError(err) {\n",
       "      outputDiv.innerHTML = `<div class=\"error\" style=\"color:red;\">${err}</div>`;\n",
       "      throw err;\n",
       "    }\n",
       "\n",
       "    function displayChart(vegaEmbed) {\n",
       "      vegaEmbed(outputDiv, spec, embedOpt)\n",
       "        .catch(err => showError(`Javascript Error: ${err.message}<br>This usually means there's a typo in your chart specification. See the javascript console for the full traceback.`));\n",
       "    }\n",
       "\n",
       "    if(typeof define === \"function\" && define.amd) {\n",
       "      requirejs.config({paths});\n",
       "      let deps = [\"vega-embed\"];\n",
       "      require(deps, displayChart, err => showError(`Error loading script: ${err.message}`));\n",
       "    } else {\n",
       "      maybeLoadScript(\"vega\", \"5\")\n",
       "        .then(() => maybeLoadScript(\"vega-lite\", \"5.20.1\"))\n",
       "        .then(() => maybeLoadScript(\"vega-embed\", \"6\"))\n",
       "        .catch(showError)\n",
       "        .then(() => displayChart(vegaEmbed));\n",
       "    }\n",
       "  })({\"config\": {\"view\": {\"continuousWidth\": 300, \"continuousHeight\": 300}}, \"layer\": [{\"data\": {\"name\": \"data-8faeca43d85426c7156c729090ebd271\"}, \"mark\": {\"type\": \"line\"}, \"encoding\": {\"color\": {\"value\": \"grey\"}, \"x\": {\"field\": \"datetime\", \"type\": \"temporal\"}, \"y\": {\"field\": \"Dry Bulb Temperature\", \"type\": \"quantitative\"}}}, {\"data\": {\"name\": \"data-acea48898292ee07d41067e36c67d504\"}, \"mark\": {\"type\": \"line\", \"point\": true}, \"encoding\": {\"color\": {\"field\": \"names\", \"type\": \"nominal\"}, \"x\": {\"field\": \"datetime\", \"type\": \"temporal\"}, \"y\": {\"field\": \"values\", \"scale\": {\"zero\": false}, \"type\": \"quantitative\"}}}], \"$schema\": \"https://vega.github.io/schema/vega-lite/v5.20.1.json\", \"datasets\": {\"data-8faeca43d85426c7156c729090ebd271\": [{\"datetime\": \"2020-06-06T00:00:00\", \"Dry Bulb Temperature\": 15.9}, {\"datetime\": \"2020-06-06T01:00:00\", \"Dry Bulb Temperature\": 15.8}, {\"datetime\": \"2020-06-06T02:00:00\", \"Dry Bulb Temperature\": 15.6}, {\"datetime\": \"2020-06-06T03:00:00\", \"Dry Bulb Temperature\": 15.5}, {\"datetime\": \"2020-06-06T04:00:00\", \"Dry Bulb Temperature\": 15.4}, {\"datetime\": \"2020-06-06T05:00:00\", \"Dry Bulb Temperature\": 16.4}, {\"datetime\": \"2020-06-06T06:00:00\", \"Dry Bulb Temperature\": 17.0}, {\"datetime\": \"2020-06-06T07:00:00\", \"Dry Bulb Temperature\": 17.0}, {\"datetime\": \"2020-06-06T08:00:00\", \"Dry Bulb Temperature\": 17.4}, {\"datetime\": \"2020-06-06T09:00:00\", \"Dry Bulb Temperature\": 19.2}, {\"datetime\": \"2020-06-06T10:00:00\", \"Dry Bulb Temperature\": 20.0}, {\"datetime\": \"2020-06-06T11:00:00\", \"Dry Bulb Temperature\": 19.8}, {\"datetime\": \"2020-06-06T12:00:00\", \"Dry Bulb Temperature\": 19.4}, {\"datetime\": \"2020-06-06T13:00:00\", \"Dry Bulb Temperature\": 20.5}, {\"datetime\": \"2020-06-06T14:00:00\", \"Dry Bulb Temperature\": 21.0}, {\"datetime\": \"2020-06-06T15:00:00\", \"Dry Bulb Temperature\": 20.5}, {\"datetime\": \"2020-06-06T16:00:00\", \"Dry Bulb Temperature\": 18.4}, {\"datetime\": \"2020-06-06T17:00:00\", \"Dry Bulb Temperature\": 18.2}, {\"datetime\": \"2020-06-06T18:00:00\", \"Dry Bulb Temperature\": 16.4}, {\"datetime\": \"2020-06-06T19:00:00\", \"Dry Bulb Temperature\": 16.6}, {\"datetime\": \"2020-06-06T20:00:00\", \"Dry Bulb Temperature\": 15.8}, {\"datetime\": \"2020-06-06T21:00:00\", \"Dry Bulb Temperature\": 15.5}, {\"datetime\": \"2020-06-06T22:00:00\", \"Dry Bulb Temperature\": 15.2}, {\"datetime\": \"2020-06-06T23:00:00\", \"Dry Bulb Temperature\": 14.9}], \"data-acea48898292ee07d41067e36c67d504\": [{\"datetime\": \"2020-06-06T00:00:00\", \"values\": 15.9, \"names\": \"morn\"}, {\"datetime\": \"2020-06-06T01:00:00\", \"values\": 15.65736717736077, \"names\": \"morn\"}, {\"datetime\": \"2020-06-06T02:00:00\", \"values\": 15.41473435472154, \"names\": \"morn\"}, {\"datetime\": \"2020-06-06T03:00:00\", \"values\": 15.17210153208231, \"names\": \"morn\"}, {\"datetime\": \"2020-06-06T04:00:00\", \"values\": 14.92946870944308, \"names\": \"morn\"}, {\"datetime\": \"2020-06-06T18:00:00\", \"values\": 16.4, \"names\": \"eve\"}, {\"datetime\": \"2020-06-06T19:00:00\", \"values\": 16.266405895569722, \"names\": \"eve\"}, {\"datetime\": \"2020-06-06T20:00:00\", \"values\": 16.132811791139442, \"names\": \"eve\"}, {\"datetime\": \"2020-06-06T21:00:00\", \"values\": 15.999217686709166, \"names\": \"eve\"}, {\"datetime\": \"2020-06-06T22:00:00\", \"values\": 15.86562358227889, \"names\": \"eve\"}, {\"datetime\": \"2020-06-06T23:00:00\", \"values\": 15.732029477848611, \"names\": \"eve\"}, {\"datetime\": \"2020-06-06T05:00:00\", \"values\": 12.402773343598735, \"names\": \"peak\"}, {\"datetime\": \"2020-06-06T06:00:00\", \"values\": 13.716041499731086, \"names\": \"peak\"}, {\"datetime\": \"2020-06-06T07:00:00\", \"values\": 14.93980446839705, \"names\": \"peak\"}, {\"datetime\": \"2020-06-06T08:00:00\", \"values\": 16.07406224959663, \"names\": \"peak\"}, {\"datetime\": \"2020-06-06T09:00:00\", \"values\": 17.118814843329822, \"names\": \"peak\"}, {\"datetime\": \"2020-06-06T10:00:00\", \"values\": 18.07406224959663, \"names\": \"peak\"}, {\"datetime\": \"2020-06-06T11:00:00\", \"values\": 18.93980446839705, \"names\": \"peak\"}, {\"datetime\": \"2020-06-06T12:00:00\", \"values\": 19.716041499731084, \"names\": \"peak\"}, {\"datetime\": \"2020-06-06T13:00:00\", \"values\": 20.402773343598735, \"names\": \"peak\"}, {\"datetime\": \"2020-06-06T14:00:00\", \"values\": 21.0, \"names\": \"peak\"}, {\"datetime\": \"2020-06-06T15:00:00\", \"values\": 20.402773343598735, \"names\": \"peak\"}, {\"datetime\": \"2020-06-06T16:00:00\", \"values\": 19.716041499731084, \"names\": \"peak\"}, {\"datetime\": \"2020-06-06T17:00:00\", \"values\": 18.93980446839705, \"names\": \"peak\"}, {\"datetime\": \"2020-06-06T18:00:00\", \"values\": 18.07406224959663, \"names\": \"peak\"}, {\"datetime\": \"2020-06-06T19:00:00\", \"values\": 17.118814843329822, \"names\": \"peak\"}, {\"datetime\": \"2020-06-06T20:00:00\", \"values\": 16.07406224959663, \"names\": \"peak\"}, {\"datetime\": \"2020-06-06T21:00:00\", \"values\": 14.93980446839705, \"names\": \"peak\"}, {\"datetime\": \"2020-06-06T22:00:00\", \"values\": 13.716041499731086, \"names\": \"peak\"}, {\"datetime\": \"2020-06-06T23:00:00\", \"values\": 12.402773343598735, \"names\": \"peak\"}]}}, {\"mode\": \"vega-lite\"});\n",
       "</script>"
      ],
      "text/plain": [
       "alt.LayerChart(...)"
      ]
     },
     "execution_count": 24,
     "metadata": {},
     "output_type": "execute_result"
    }
   ],
   "source": [
    "day = 6\n",
    "profile = fit_day_profile(df, day, models)\n",
    "plot_day_profile(profile, df, day)"
   ]
  }
 ],
 "metadata": {
  "kernelspec": {
   "display_name": ".venv",
   "language": "python",
   "name": "python3"
  },
  "language_info": {
   "codemirror_mode": {
    "name": "ipython",
    "version": 3
   },
   "file_extension": ".py",
   "mimetype": "text/x-python",
   "name": "python",
   "nbconvert_exporter": "python",
   "pygments_lexer": "ipython3",
   "version": "3.13.2"
  }
 },
 "nbformat": 4,
 "nbformat_minor": 2
}
