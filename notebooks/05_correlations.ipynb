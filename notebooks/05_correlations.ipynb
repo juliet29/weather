{
 "cells": [
  {
   "cell_type": "code",
   "execution_count": 1,
   "metadata": {},
   "outputs": [],
   "source": [
    "%load_ext autoreload\n",
    "%autoreload 2"
   ]
  },
  {
   "cell_type": "code",
   "execution_count": 188,
   "metadata": {},
   "outputs": [],
   "source": [
    "from functools import partial\n",
    "\n",
    "import polars as pl\n",
    "import altair as alt\n",
    "\n",
    "from weather.helpers.epw_read import read_epw\n",
    "from weather.helpers.weather_data import PALO_ALTO_20\n",
    "from weather.helpers.filter import filter_df_by_month\n",
    "from weather.helpers.figures import get_todays_save_path"
   ]
  },
  {
   "cell_type": "code",
   "execution_count": null,
   "metadata": {},
   "outputs": [],
   "source": [
    "df = read_epw(PALO_ALTO_20.path)\n",
    "month_filter = partial(filter_df_by_month, df, PALO_ALTO_20)\n",
    "june = (\n",
    "    month_filter(7)\n",
    "    .filter(pl.col(\"datetime\").dt.day() != 30)\n",
    "    .select([\"datetime\", \"Dry Bulb Temperature\"])\n",
    ")  # last day has only 23 values intead of 24..\n",
    "assert (june[\"datetime\"].dt.date().unique_counts().unique() == 24).all()"
   ]
  },
  {
   "cell_type": "markdown",
   "metadata": {},
   "source": [
    "### examining differences between hours to see when large changes first occur - searching for T\\*\n"
   ]
  },
  {
   "cell_type": "code",
   "execution_count": null,
   "metadata": {},
   "outputs": [
    {
     "name": "stdout",
     "output_type": "stream",
     "text": [
      "shape: (5, 3)\n",
      "┌─────────────────────┬──────────────────────┬──────┐\n",
      "│ datetime            ┆ Dry Bulb Temperature ┆ diff │\n",
      "│ ---                 ┆ ---                  ┆ ---  │\n",
      "│ datetime[μs]        ┆ f64                  ┆ f64  │\n",
      "╞═════════════════════╪══════════════════════╪══════╡\n",
      "│ 2020-07-01 00:00:00 ┆ 17.6                 ┆ 0.0  │\n",
      "│ 2020-07-01 01:00:00 ┆ 17.1                 ┆ -0.5 │\n",
      "│ 2020-07-01 02:00:00 ┆ 16.5                 ┆ -0.6 │\n",
      "│ 2020-07-01 03:00:00 ┆ 16.0                 ┆ -0.5 │\n",
      "│ 2020-07-01 04:00:00 ┆ 15.4                 ┆ -0.6 │\n",
      "└─────────────────────┴──────────────────────┴──────┘\n"
     ]
    },
    {
     "data": {
      "text/html": [
       "\n",
       "<style>\n",
       "  #altair-viz-539a5ed7b4ad4076a9b74ef307555b02.vega-embed {\n",
       "    width: 100%;\n",
       "    display: flex;\n",
       "  }\n",
       "\n",
       "  #altair-viz-539a5ed7b4ad4076a9b74ef307555b02.vega-embed details,\n",
       "  #altair-viz-539a5ed7b4ad4076a9b74ef307555b02.vega-embed details summary {\n",
       "    position: relative;\n",
       "  }\n",
       "</style>\n",
       "<div id=\"altair-viz-539a5ed7b4ad4076a9b74ef307555b02\"></div>\n",
       "<script type=\"text/javascript\">\n",
       "  var VEGA_DEBUG = (typeof VEGA_DEBUG == \"undefined\") ? {} : VEGA_DEBUG;\n",
       "  (function(spec, embedOpt){\n",
       "    let outputDiv = document.currentScript.previousElementSibling;\n",
       "    if (outputDiv.id !== \"altair-viz-539a5ed7b4ad4076a9b74ef307555b02\") {\n",
       "      outputDiv = document.getElementById(\"altair-viz-539a5ed7b4ad4076a9b74ef307555b02\");\n",
       "    }\n",
       "\n",
       "    const paths = {\n",
       "      \"vega\": \"https://cdn.jsdelivr.net/npm/vega@5?noext\",\n",
       "      \"vega-lib\": \"https://cdn.jsdelivr.net/npm/vega-lib?noext\",\n",
       "      \"vega-lite\": \"https://cdn.jsdelivr.net/npm/vega-lite@5.20.1?noext\",\n",
       "      \"vega-embed\": \"https://cdn.jsdelivr.net/npm/vega-embed@6?noext\",\n",
       "    };\n",
       "\n",
       "    function maybeLoadScript(lib, version) {\n",
       "      var key = `${lib.replace(\"-\", \"\")}_version`;\n",
       "      return (VEGA_DEBUG[key] == version) ?\n",
       "        Promise.resolve(paths[lib]) :\n",
       "        new Promise(function(resolve, reject) {\n",
       "          var s = document.createElement('script');\n",
       "          document.getElementsByTagName(\"head\")[0].appendChild(s);\n",
       "          s.async = true;\n",
       "          s.onload = () => {\n",
       "            VEGA_DEBUG[key] = version;\n",
       "            return resolve(paths[lib]);\n",
       "          };\n",
       "          s.onerror = () => reject(`Error loading script: ${paths[lib]}`);\n",
       "          s.src = paths[lib];\n",
       "        });\n",
       "    }\n",
       "\n",
       "    function showError(err) {\n",
       "      outputDiv.innerHTML = `<div class=\"error\" style=\"color:red;\">${err}</div>`;\n",
       "      throw err;\n",
       "    }\n",
       "\n",
       "    function displayChart(vegaEmbed) {\n",
       "      vegaEmbed(outputDiv, spec, embedOpt)\n",
       "        .catch(err => showError(`Javascript Error: ${err.message}<br>This usually means there's a typo in your chart specification. See the javascript console for the full traceback.`));\n",
       "    }\n",
       "\n",
       "    if(typeof define === \"function\" && define.amd) {\n",
       "      requirejs.config({paths});\n",
       "      let deps = [\"vega-embed\"];\n",
       "      require(deps, displayChart, err => showError(`Error loading script: ${err.message}`));\n",
       "    } else {\n",
       "      maybeLoadScript(\"vega\", \"5\")\n",
       "        .then(() => maybeLoadScript(\"vega-lite\", \"5.20.1\"))\n",
       "        .then(() => maybeLoadScript(\"vega-embed\", \"6\"))\n",
       "        .catch(showError)\n",
       "        .then(() => displayChart(vegaEmbed));\n",
       "    }\n",
       "  })({\"config\": {\"view\": {\"continuousWidth\": 300, \"continuousHeight\": 300}}, \"data\": {\"name\": \"data-431ae1f8245f3408486d911ab36a92c3\"}, \"mark\": {\"type\": \"circle\"}, \"encoding\": {\"x\": {\"field\": \"datetime\", \"timeUnit\": \"hours\", \"type\": \"temporal\"}, \"y\": {\"field\": \"diff\", \"type\": \"quantitative\"}}, \"$schema\": \"https://vega.github.io/schema/vega-lite/v5.20.1.json\", \"datasets\": {\"data-431ae1f8245f3408486d911ab36a92c3\": [{\"datetime\": \"2020-07-01T00:00:00\", \"Dry Bulb Temperature\": 17.6, \"diff\": 0.0}, {\"datetime\": \"2020-07-01T01:00:00\", \"Dry Bulb Temperature\": 17.1, \"diff\": -0.5}, {\"datetime\": \"2020-07-01T02:00:00\", \"Dry Bulb Temperature\": 16.5, \"diff\": -0.6000000000000014}, {\"datetime\": \"2020-07-01T03:00:00\", \"Dry Bulb Temperature\": 16.0, \"diff\": -0.5}, {\"datetime\": \"2020-07-01T04:00:00\", \"Dry Bulb Temperature\": 15.4, \"diff\": -0.5999999999999996}, {\"datetime\": \"2020-07-01T05:00:00\", \"Dry Bulb Temperature\": 16.0, \"diff\": 0.5999999999999996}, {\"datetime\": \"2020-07-01T06:00:00\", \"Dry Bulb Temperature\": 16.2, \"diff\": 0.1999999999999993}, {\"datetime\": \"2020-07-01T07:00:00\", \"Dry Bulb Temperature\": 17.0, \"diff\": 0.8000000000000007}, {\"datetime\": \"2020-07-01T08:00:00\", \"Dry Bulb Temperature\": 17.4, \"diff\": 0.3999999999999986}, {\"datetime\": \"2020-07-01T09:00:00\", \"Dry Bulb Temperature\": 19.4, \"diff\": 2.0}, {\"datetime\": \"2020-07-01T10:00:00\", \"Dry Bulb Temperature\": 21.2, \"diff\": 1.8000000000000007}, {\"datetime\": \"2020-07-01T11:00:00\", \"Dry Bulb Temperature\": 22.2, \"diff\": 1.0}, {\"datetime\": \"2020-07-01T12:00:00\", \"Dry Bulb Temperature\": 23.2, \"diff\": 1.0}, {\"datetime\": \"2020-07-01T13:00:00\", \"Dry Bulb Temperature\": 24.0, \"diff\": 0.8000000000000007}, {\"datetime\": \"2020-07-01T14:00:00\", \"Dry Bulb Temperature\": 23.8, \"diff\": -0.1999999999999993}, {\"datetime\": \"2020-07-01T15:00:00\", \"Dry Bulb Temperature\": 23.2, \"diff\": -0.6000000000000014}, {\"datetime\": \"2020-07-01T16:00:00\", \"Dry Bulb Temperature\": 20.8, \"diff\": -2.3999999999999986}, {\"datetime\": \"2020-07-01T17:00:00\", \"Dry Bulb Temperature\": 20.4, \"diff\": -0.40000000000000213}, {\"datetime\": \"2020-07-01T18:00:00\", \"Dry Bulb Temperature\": 18.4, \"diff\": -2.0}, {\"datetime\": \"2020-07-01T19:00:00\", \"Dry Bulb Temperature\": 18.5, \"diff\": 0.10000000000000142}, {\"datetime\": \"2020-07-01T20:00:00\", \"Dry Bulb Temperature\": 17.5, \"diff\": -1.0}, {\"datetime\": \"2020-07-01T21:00:00\", \"Dry Bulb Temperature\": 17.0, \"diff\": -0.5}, {\"datetime\": \"2020-07-01T22:00:00\", \"Dry Bulb Temperature\": 16.5, \"diff\": -0.5}, {\"datetime\": \"2020-07-01T23:00:00\", \"Dry Bulb Temperature\": 16.0, \"diff\": -0.5}, {\"datetime\": \"2020-07-02T00:00:00\", \"Dry Bulb Temperature\": 15.5, \"diff\": -0.5}, {\"datetime\": \"2020-07-02T01:00:00\", \"Dry Bulb Temperature\": 14.9, \"diff\": -0.5999999999999996}, {\"datetime\": \"2020-07-02T02:00:00\", \"Dry Bulb Temperature\": 14.4, \"diff\": -0.5}, {\"datetime\": \"2020-07-02T03:00:00\", \"Dry Bulb Temperature\": 13.9, \"diff\": -0.5}, {\"datetime\": \"2020-07-02T04:00:00\", \"Dry Bulb Temperature\": 13.4, \"diff\": -0.5}, {\"datetime\": \"2020-07-02T05:00:00\", \"Dry Bulb Temperature\": 14.0, \"diff\": 0.5999999999999996}, {\"datetime\": \"2020-07-02T06:00:00\", \"Dry Bulb Temperature\": 14.8, \"diff\": 0.8000000000000007}, {\"datetime\": \"2020-07-02T07:00:00\", \"Dry Bulb Temperature\": 15.8, \"diff\": 1.0}, {\"datetime\": \"2020-07-02T08:00:00\", \"Dry Bulb Temperature\": 17.4, \"diff\": 1.5999999999999979}, {\"datetime\": \"2020-07-02T09:00:00\", \"Dry Bulb Temperature\": 19.0, \"diff\": 1.6000000000000014}, {\"datetime\": \"2020-07-02T10:00:00\", \"Dry Bulb Temperature\": 19.4, \"diff\": 0.3999999999999986}, {\"datetime\": \"2020-07-02T11:00:00\", \"Dry Bulb Temperature\": 21.2, \"diff\": 1.8000000000000007}, {\"datetime\": \"2020-07-02T12:00:00\", \"Dry Bulb Temperature\": 22.2, \"diff\": 1.0}, {\"datetime\": \"2020-07-02T13:00:00\", \"Dry Bulb Temperature\": 23.0, \"diff\": 0.8000000000000007}, {\"datetime\": \"2020-07-02T14:00:00\", \"Dry Bulb Temperature\": 22.9, \"diff\": -0.10000000000000142}, {\"datetime\": \"2020-07-02T15:00:00\", \"Dry Bulb Temperature\": 22.4, \"diff\": -0.5}, {\"datetime\": \"2020-07-02T16:00:00\", \"Dry Bulb Temperature\": 20.2, \"diff\": -2.1999999999999993}, {\"datetime\": \"2020-07-02T17:00:00\", \"Dry Bulb Temperature\": 19.9, \"diff\": -0.3000000000000007}, {\"datetime\": \"2020-07-02T18:00:00\", \"Dry Bulb Temperature\": 18.1, \"diff\": -1.7999999999999972}, {\"datetime\": \"2020-07-02T19:00:00\", \"Dry Bulb Temperature\": 18.3, \"diff\": 0.1999999999999993}, {\"datetime\": \"2020-07-02T20:00:00\", \"Dry Bulb Temperature\": 17.4, \"diff\": -0.9000000000000021}, {\"datetime\": \"2020-07-02T21:00:00\", \"Dry Bulb Temperature\": 17.0, \"diff\": -0.3999999999999986}, {\"datetime\": \"2020-07-02T22:00:00\", \"Dry Bulb Temperature\": 16.6, \"diff\": -0.3999999999999986}, {\"datetime\": \"2020-07-02T23:00:00\", \"Dry Bulb Temperature\": 16.2, \"diff\": -0.40000000000000213}, {\"datetime\": \"2020-07-03T00:00:00\", \"Dry Bulb Temperature\": 15.8, \"diff\": -0.3999999999999986}, {\"datetime\": \"2020-07-03T01:00:00\", \"Dry Bulb Temperature\": 15.4, \"diff\": -0.40000000000000036}, {\"datetime\": \"2020-07-03T02:00:00\", \"Dry Bulb Temperature\": 15.0, \"diff\": -0.40000000000000036}, {\"datetime\": \"2020-07-03T03:00:00\", \"Dry Bulb Temperature\": 14.6, \"diff\": -0.40000000000000036}, {\"datetime\": \"2020-07-03T04:00:00\", \"Dry Bulb Temperature\": 14.3, \"diff\": -0.29999999999999893}, {\"datetime\": \"2020-07-03T05:00:00\", \"Dry Bulb Temperature\": 15.0, \"diff\": 0.6999999999999993}, {\"datetime\": \"2020-07-03T06:00:00\", \"Dry Bulb Temperature\": 15.1, \"diff\": 0.09999999999999964}, {\"datetime\": \"2020-07-03T07:00:00\", \"Dry Bulb Temperature\": 16.0, \"diff\": 0.9000000000000004}, {\"datetime\": \"2020-07-03T08:00:00\", \"Dry Bulb Temperature\": 17.1, \"diff\": 1.1000000000000014}, {\"datetime\": \"2020-07-03T09:00:00\", \"Dry Bulb Temperature\": 18.1, \"diff\": 1.0}, {\"datetime\": \"2020-07-03T10:00:00\", \"Dry Bulb Temperature\": 19.2, \"diff\": 1.0999999999999979}, {\"datetime\": \"2020-07-03T11:00:00\", \"Dry Bulb Temperature\": 20.0, \"diff\": 0.8000000000000007}, {\"datetime\": \"2020-07-03T12:00:00\", \"Dry Bulb Temperature\": 20.2, \"diff\": 0.1999999999999993}, {\"datetime\": \"2020-07-03T13:00:00\", \"Dry Bulb Temperature\": 20.9, \"diff\": 0.6999999999999993}, {\"datetime\": \"2020-07-03T14:00:00\", \"Dry Bulb Temperature\": 21.0, \"diff\": 0.10000000000000142}, {\"datetime\": \"2020-07-03T15:00:00\", \"Dry Bulb Temperature\": 20.7, \"diff\": -0.3000000000000007}, {\"datetime\": \"2020-07-03T16:00:00\", \"Dry Bulb Temperature\": 18.8, \"diff\": -1.8999999999999986}, {\"datetime\": \"2020-07-03T17:00:00\", \"Dry Bulb Temperature\": 18.8, \"diff\": 0.0}, {\"datetime\": \"2020-07-03T18:00:00\", \"Dry Bulb Temperature\": 17.2, \"diff\": -1.6000000000000014}, {\"datetime\": \"2020-07-03T19:00:00\", \"Dry Bulb Temperature\": 17.6, \"diff\": 0.40000000000000213}, {\"datetime\": \"2020-07-03T20:00:00\", \"Dry Bulb Temperature\": 17.0, \"diff\": -0.6000000000000014}, {\"datetime\": \"2020-07-03T21:00:00\", \"Dry Bulb Temperature\": 16.9, \"diff\": -0.10000000000000142}, {\"datetime\": \"2020-07-03T22:00:00\", \"Dry Bulb Temperature\": 16.8, \"diff\": -0.09999999999999787}, {\"datetime\": \"2020-07-03T23:00:00\", \"Dry Bulb Temperature\": 16.7, \"diff\": -0.10000000000000142}, {\"datetime\": \"2020-07-04T00:00:00\", \"Dry Bulb Temperature\": 16.5, \"diff\": -0.1999999999999993}, {\"datetime\": \"2020-07-04T01:00:00\", \"Dry Bulb Temperature\": 16.4, \"diff\": -0.10000000000000142}, {\"datetime\": \"2020-07-04T02:00:00\", \"Dry Bulb Temperature\": 16.3, \"diff\": -0.09999999999999787}, {\"datetime\": \"2020-07-04T03:00:00\", \"Dry Bulb Temperature\": 16.1, \"diff\": -0.1999999999999993}, {\"datetime\": \"2020-07-04T04:00:00\", \"Dry Bulb Temperature\": 16.0, \"diff\": -0.10000000000000142}, {\"datetime\": \"2020-07-04T05:00:00\", \"Dry Bulb Temperature\": 17.0, \"diff\": 1.0}, {\"datetime\": \"2020-07-04T06:00:00\", \"Dry Bulb Temperature\": 17.2, \"diff\": 0.1999999999999993}, {\"datetime\": \"2020-07-04T07:00:00\", \"Dry Bulb Temperature\": 18.2, \"diff\": 1.0}, {\"datetime\": \"2020-07-04T08:00:00\", \"Dry Bulb Temperature\": 19.7, \"diff\": 1.5}, {\"datetime\": \"2020-07-04T09:00:00\", \"Dry Bulb Temperature\": 21.4, \"diff\": 1.6999999999999993}, {\"datetime\": \"2020-07-04T10:00:00\", \"Dry Bulb Temperature\": 23.2, \"diff\": 1.8000000000000007}, {\"datetime\": \"2020-07-04T11:00:00\", \"Dry Bulb Temperature\": 24.0, \"diff\": 0.8000000000000007}, {\"datetime\": \"2020-07-04T12:00:00\", \"Dry Bulb Temperature\": 25.5, \"diff\": 1.5}, {\"datetime\": \"2020-07-04T13:00:00\", \"Dry Bulb Temperature\": 26.5, \"diff\": 1.0}, {\"datetime\": \"2020-07-04T14:00:00\", \"Dry Bulb Temperature\": 27.0, \"diff\": 0.5}, {\"datetime\": \"2020-07-04T15:00:00\", \"Dry Bulb Temperature\": 26.4, \"diff\": -0.6000000000000014}, {\"datetime\": \"2020-07-04T16:00:00\", \"Dry Bulb Temperature\": 24.1, \"diff\": -2.299999999999997}, {\"datetime\": \"2020-07-04T17:00:00\", \"Dry Bulb Temperature\": 23.8, \"diff\": -0.3000000000000007}, {\"datetime\": \"2020-07-04T18:00:00\", \"Dry Bulb Temperature\": 21.8, \"diff\": -2.0}, {\"datetime\": \"2020-07-04T19:00:00\", \"Dry Bulb Temperature\": 22.0, \"diff\": 0.1999999999999993}, {\"datetime\": \"2020-07-04T20:00:00\", \"Dry Bulb Temperature\": 21.0, \"diff\": -1.0}, {\"datetime\": \"2020-07-04T21:00:00\", \"Dry Bulb Temperature\": 20.6, \"diff\": -0.3999999999999986}, {\"datetime\": \"2020-07-04T22:00:00\", \"Dry Bulb Temperature\": 20.1, \"diff\": -0.5}, {\"datetime\": \"2020-07-04T23:00:00\", \"Dry Bulb Temperature\": 19.7, \"diff\": -0.40000000000000213}, {\"datetime\": \"2020-07-05T00:00:00\", \"Dry Bulb Temperature\": 19.2, \"diff\": -0.5}, {\"datetime\": \"2020-07-05T01:00:00\", \"Dry Bulb Temperature\": 18.7, \"diff\": -0.5}, {\"datetime\": \"2020-07-05T02:00:00\", \"Dry Bulb Temperature\": 18.3, \"diff\": -0.3999999999999986}, {\"datetime\": \"2020-07-05T03:00:00\", \"Dry Bulb Temperature\": 17.8, \"diff\": -0.5}, {\"datetime\": \"2020-07-05T04:00:00\", \"Dry Bulb Temperature\": 17.3, \"diff\": -0.5}, {\"datetime\": \"2020-07-05T05:00:00\", \"Dry Bulb Temperature\": 18.0, \"diff\": 0.6999999999999993}, {\"datetime\": \"2020-07-05T06:00:00\", \"Dry Bulb Temperature\": 18.3, \"diff\": 0.3000000000000007}, {\"datetime\": \"2020-07-05T07:00:00\", \"Dry Bulb Temperature\": 18.6, \"diff\": 0.3000000000000007}, {\"datetime\": \"2020-07-05T08:00:00\", \"Dry Bulb Temperature\": 19.2, \"diff\": 0.5999999999999979}, {\"datetime\": \"2020-07-05T09:00:00\", \"Dry Bulb Temperature\": 20.2, \"diff\": 1.0}, {\"datetime\": \"2020-07-05T10:00:00\", \"Dry Bulb Temperature\": 21.2, \"diff\": 1.0}, {\"datetime\": \"2020-07-05T11:00:00\", \"Dry Bulb Temperature\": 22.4, \"diff\": 1.1999999999999993}, {\"datetime\": \"2020-07-05T12:00:00\", \"Dry Bulb Temperature\": 24.4, \"diff\": 2.0}, {\"datetime\": \"2020-07-05T13:00:00\", \"Dry Bulb Temperature\": 26.4, \"diff\": 2.0}, {\"datetime\": \"2020-07-05T14:00:00\", \"Dry Bulb Temperature\": 27.6, \"diff\": 1.2000000000000028}, {\"datetime\": \"2020-07-05T15:00:00\", \"Dry Bulb Temperature\": 26.9, \"diff\": -0.7000000000000028}, {\"datetime\": \"2020-07-05T16:00:00\", \"Dry Bulb Temperature\": 24.4, \"diff\": -2.5}, {\"datetime\": \"2020-07-05T17:00:00\", \"Dry Bulb Temperature\": 23.9, \"diff\": -0.5}, {\"datetime\": \"2020-07-05T18:00:00\", \"Dry Bulb Temperature\": 21.7, \"diff\": -2.1999999999999993}, {\"datetime\": \"2020-07-05T19:00:00\", \"Dry Bulb Temperature\": 21.7, \"diff\": 0.0}, {\"datetime\": \"2020-07-05T20:00:00\", \"Dry Bulb Temperature\": 20.6, \"diff\": -1.0999999999999979}, {\"datetime\": \"2020-07-05T21:00:00\", \"Dry Bulb Temperature\": 20.0, \"diff\": -0.6000000000000014}, {\"datetime\": \"2020-07-05T22:00:00\", \"Dry Bulb Temperature\": 19.3, \"diff\": -0.6999999999999993}, {\"datetime\": \"2020-07-05T23:00:00\", \"Dry Bulb Temperature\": 18.7, \"diff\": -0.6000000000000014}, {\"datetime\": \"2020-07-06T00:00:00\", \"Dry Bulb Temperature\": 18.1, \"diff\": -0.5999999999999979}, {\"datetime\": \"2020-07-06T01:00:00\", \"Dry Bulb Temperature\": 17.4, \"diff\": -0.7000000000000028}, {\"datetime\": \"2020-07-06T02:00:00\", \"Dry Bulb Temperature\": 16.8, \"diff\": -0.5999999999999979}, {\"datetime\": \"2020-07-06T03:00:00\", \"Dry Bulb Temperature\": 16.1, \"diff\": -0.6999999999999993}, {\"datetime\": \"2020-07-06T04:00:00\", \"Dry Bulb Temperature\": 15.5, \"diff\": -0.6000000000000014}, {\"datetime\": \"2020-07-06T05:00:00\", \"Dry Bulb Temperature\": 16.0, \"diff\": 0.5}, {\"datetime\": \"2020-07-06T06:00:00\", \"Dry Bulb Temperature\": 16.2, \"diff\": 0.1999999999999993}, {\"datetime\": \"2020-07-06T07:00:00\", \"Dry Bulb Temperature\": 17.4, \"diff\": 1.1999999999999993}, {\"datetime\": \"2020-07-06T08:00:00\", \"Dry Bulb Temperature\": 18.2, \"diff\": 0.8000000000000007}, {\"datetime\": \"2020-07-06T09:00:00\", \"Dry Bulb Temperature\": 19.2, \"diff\": 1.0}, {\"datetime\": \"2020-07-06T10:00:00\", \"Dry Bulb Temperature\": 20.9, \"diff\": 1.6999999999999993}, {\"datetime\": \"2020-07-06T11:00:00\", \"Dry Bulb Temperature\": 24.2, \"diff\": 3.3000000000000007}, {\"datetime\": \"2020-07-06T12:00:00\", \"Dry Bulb Temperature\": 25.0, \"diff\": 0.8000000000000007}, {\"datetime\": \"2020-07-06T13:00:00\", \"Dry Bulb Temperature\": 24.8, \"diff\": -0.1999999999999993}, {\"datetime\": \"2020-07-06T14:00:00\", \"Dry Bulb Temperature\": 26.0, \"diff\": 1.1999999999999993}, {\"datetime\": \"2020-07-06T15:00:00\", \"Dry Bulb Temperature\": 25.4, \"diff\": -0.6000000000000014}, {\"datetime\": \"2020-07-06T16:00:00\", \"Dry Bulb Temperature\": 23.0, \"diff\": -2.3999999999999986}, {\"datetime\": \"2020-07-06T17:00:00\", \"Dry Bulb Temperature\": 22.5, \"diff\": -0.5}, {\"datetime\": \"2020-07-06T18:00:00\", \"Dry Bulb Temperature\": 20.5, \"diff\": -2.0}, {\"datetime\": \"2020-07-06T19:00:00\", \"Dry Bulb Temperature\": 20.6, \"diff\": 0.10000000000000142}, {\"datetime\": \"2020-07-06T20:00:00\", \"Dry Bulb Temperature\": 19.6, \"diff\": -1.0}, {\"datetime\": \"2020-07-06T21:00:00\", \"Dry Bulb Temperature\": 19.0, \"diff\": -0.6000000000000014}, {\"datetime\": \"2020-07-06T22:00:00\", \"Dry Bulb Temperature\": 18.4, \"diff\": -0.6000000000000014}, {\"datetime\": \"2020-07-06T23:00:00\", \"Dry Bulb Temperature\": 17.9, \"diff\": -0.5}, {\"datetime\": \"2020-07-07T00:00:00\", \"Dry Bulb Temperature\": 17.3, \"diff\": -0.5999999999999979}, {\"datetime\": \"2020-07-07T01:00:00\", \"Dry Bulb Temperature\": 16.8, \"diff\": -0.5}, {\"datetime\": \"2020-07-07T02:00:00\", \"Dry Bulb Temperature\": 16.2, \"diff\": -0.6000000000000014}, {\"datetime\": \"2020-07-07T03:00:00\", \"Dry Bulb Temperature\": 15.7, \"diff\": -0.5}, {\"datetime\": \"2020-07-07T04:00:00\", \"Dry Bulb Temperature\": 15.1, \"diff\": -0.5999999999999996}, {\"datetime\": \"2020-07-07T05:00:00\", \"Dry Bulb Temperature\": 15.7, \"diff\": 0.5999999999999996}, {\"datetime\": \"2020-07-07T06:00:00\", \"Dry Bulb Temperature\": 16.0, \"diff\": 0.3000000000000007}, {\"datetime\": \"2020-07-07T07:00:00\", \"Dry Bulb Temperature\": 16.4, \"diff\": 0.3999999999999986}, {\"datetime\": \"2020-07-07T08:00:00\", \"Dry Bulb Temperature\": 18.4, \"diff\": 2.0}, {\"datetime\": \"2020-07-07T09:00:00\", \"Dry Bulb Temperature\": 20.4, \"diff\": 2.0}, {\"datetime\": \"2020-07-07T10:00:00\", \"Dry Bulb Temperature\": 21.6, \"diff\": 1.2000000000000028}, {\"datetime\": \"2020-07-07T11:00:00\", \"Dry Bulb Temperature\": 22.0, \"diff\": 0.3999999999999986}, {\"datetime\": \"2020-07-07T12:00:00\", \"Dry Bulb Temperature\": 22.2, \"diff\": 0.1999999999999993}, {\"datetime\": \"2020-07-07T13:00:00\", \"Dry Bulb Temperature\": 23.0, \"diff\": 0.8000000000000007}, {\"datetime\": \"2020-07-07T14:00:00\", \"Dry Bulb Temperature\": 24.4, \"diff\": 1.3999999999999986}, {\"datetime\": \"2020-07-07T15:00:00\", \"Dry Bulb Temperature\": 23.9, \"diff\": -0.5}, {\"datetime\": \"2020-07-07T16:00:00\", \"Dry Bulb Temperature\": 21.6, \"diff\": -2.299999999999997}, {\"datetime\": \"2020-07-07T17:00:00\", \"Dry Bulb Temperature\": 21.3, \"diff\": -0.3000000000000007}, {\"datetime\": \"2020-07-07T18:00:00\", \"Dry Bulb Temperature\": 19.4, \"diff\": -1.9000000000000021}, {\"datetime\": \"2020-07-07T19:00:00\", \"Dry Bulb Temperature\": 19.6, \"diff\": 0.20000000000000284}, {\"datetime\": \"2020-07-07T20:00:00\", \"Dry Bulb Temperature\": 18.7, \"diff\": -0.9000000000000021}, {\"datetime\": \"2020-07-07T21:00:00\", \"Dry Bulb Temperature\": 18.3, \"diff\": -0.3999999999999986}, {\"datetime\": \"2020-07-07T22:00:00\", \"Dry Bulb Temperature\": 17.8, \"diff\": -0.5}, {\"datetime\": \"2020-07-07T23:00:00\", \"Dry Bulb Temperature\": 17.4, \"diff\": -0.40000000000000213}, {\"datetime\": \"2020-07-08T00:00:00\", \"Dry Bulb Temperature\": 17.0, \"diff\": -0.3999999999999986}, {\"datetime\": \"2020-07-08T01:00:00\", \"Dry Bulb Temperature\": 16.6, \"diff\": -0.3999999999999986}, {\"datetime\": \"2020-07-08T02:00:00\", \"Dry Bulb Temperature\": 16.1, \"diff\": -0.5}, {\"datetime\": \"2020-07-08T03:00:00\", \"Dry Bulb Temperature\": 15.7, \"diff\": -0.40000000000000213}, {\"datetime\": \"2020-07-08T04:00:00\", \"Dry Bulb Temperature\": 15.3, \"diff\": -0.3999999999999986}, {\"datetime\": \"2020-07-08T05:00:00\", \"Dry Bulb Temperature\": 16.0, \"diff\": 0.6999999999999993}, {\"datetime\": \"2020-07-08T06:00:00\", \"Dry Bulb Temperature\": 16.2, \"diff\": 0.1999999999999993}, {\"datetime\": \"2020-07-08T07:00:00\", \"Dry Bulb Temperature\": 17.2, \"diff\": 1.0}, {\"datetime\": \"2020-07-08T08:00:00\", \"Dry Bulb Temperature\": 18.4, \"diff\": 1.1999999999999993}, {\"datetime\": \"2020-07-08T09:00:00\", \"Dry Bulb Temperature\": 20.2, \"diff\": 1.8000000000000007}, {\"datetime\": \"2020-07-08T10:00:00\", \"Dry Bulb Temperature\": 21.8, \"diff\": 1.6000000000000014}, {\"datetime\": \"2020-07-08T11:00:00\", \"Dry Bulb Temperature\": 23.2, \"diff\": 1.3999999999999986}, {\"datetime\": \"2020-07-08T12:00:00\", \"Dry Bulb Temperature\": 24.0, \"diff\": 0.8000000000000007}, {\"datetime\": \"2020-07-08T13:00:00\", \"Dry Bulb Temperature\": 23.6, \"diff\": -0.3999999999999986}, {\"datetime\": \"2020-07-08T14:00:00\", \"Dry Bulb Temperature\": 24.9, \"diff\": 1.2999999999999972}, {\"datetime\": \"2020-07-08T15:00:00\", \"Dry Bulb Temperature\": 24.3, \"diff\": -0.5999999999999979}, {\"datetime\": \"2020-07-08T16:00:00\", \"Dry Bulb Temperature\": 22.1, \"diff\": -2.1999999999999993}, {\"datetime\": \"2020-07-08T17:00:00\", \"Dry Bulb Temperature\": 21.7, \"diff\": -0.40000000000000213}, {\"datetime\": \"2020-07-08T18:00:00\", \"Dry Bulb Temperature\": 19.8, \"diff\": -1.8999999999999986}, {\"datetime\": \"2020-07-08T19:00:00\", \"Dry Bulb Temperature\": 19.9, \"diff\": 0.09999999999999787}, {\"datetime\": \"2020-07-08T20:00:00\", \"Dry Bulb Temperature\": 19.0, \"diff\": -0.8999999999999986}, {\"datetime\": \"2020-07-08T21:00:00\", \"Dry Bulb Temperature\": 18.5, \"diff\": -0.5}, {\"datetime\": \"2020-07-08T22:00:00\", \"Dry Bulb Temperature\": 18.1, \"diff\": -0.3999999999999986}, {\"datetime\": \"2020-07-08T23:00:00\", \"Dry Bulb Temperature\": 17.6, \"diff\": -0.5}, {\"datetime\": \"2020-07-09T00:00:00\", \"Dry Bulb Temperature\": 17.2, \"diff\": -0.40000000000000213}, {\"datetime\": \"2020-07-09T01:00:00\", \"Dry Bulb Temperature\": 16.7, \"diff\": -0.5}, {\"datetime\": \"2020-07-09T02:00:00\", \"Dry Bulb Temperature\": 16.2, \"diff\": -0.5}, {\"datetime\": \"2020-07-09T03:00:00\", \"Dry Bulb Temperature\": 15.8, \"diff\": -0.3999999999999986}, {\"datetime\": \"2020-07-09T04:00:00\", \"Dry Bulb Temperature\": 15.3, \"diff\": -0.5}, {\"datetime\": \"2020-07-09T05:00:00\", \"Dry Bulb Temperature\": 16.0, \"diff\": 0.6999999999999993}, {\"datetime\": \"2020-07-09T06:00:00\", \"Dry Bulb Temperature\": 16.2, \"diff\": 0.1999999999999993}, {\"datetime\": \"2020-07-09T07:00:00\", \"Dry Bulb Temperature\": 17.2, \"diff\": 1.0}, {\"datetime\": \"2020-07-09T08:00:00\", \"Dry Bulb Temperature\": 18.4, \"diff\": 1.1999999999999993}, {\"datetime\": \"2020-07-09T09:00:00\", \"Dry Bulb Temperature\": 20.4, \"diff\": 2.0}, {\"datetime\": \"2020-07-09T10:00:00\", \"Dry Bulb Temperature\": 22.4, \"diff\": 2.0}, {\"datetime\": \"2020-07-09T11:00:00\", \"Dry Bulb Temperature\": 24.4, \"diff\": 2.0}, {\"datetime\": \"2020-07-09T12:00:00\", \"Dry Bulb Temperature\": 24.9, \"diff\": 0.5}, {\"datetime\": \"2020-07-09T13:00:00\", \"Dry Bulb Temperature\": 24.8, \"diff\": -0.09999999999999787}, {\"datetime\": \"2020-07-09T14:00:00\", \"Dry Bulb Temperature\": 26.1, \"diff\": 1.3000000000000007}, {\"datetime\": \"2020-07-09T15:00:00\", \"Dry Bulb Temperature\": 25.5, \"diff\": -0.6000000000000014}, {\"datetime\": \"2020-07-09T16:00:00\", \"Dry Bulb Temperature\": 23.2, \"diff\": -2.3000000000000007}, {\"datetime\": \"2020-07-09T17:00:00\", \"Dry Bulb Temperature\": 22.9, \"diff\": -0.3000000000000007}, {\"datetime\": \"2020-07-09T18:00:00\", \"Dry Bulb Temperature\": 20.9, \"diff\": -2.0}, {\"datetime\": \"2020-07-09T19:00:00\", \"Dry Bulb Temperature\": 21.1, \"diff\": 0.20000000000000284}, {\"datetime\": \"2020-07-09T20:00:00\", \"Dry Bulb Temperature\": 20.1, \"diff\": -1.0}, {\"datetime\": \"2020-07-09T21:00:00\", \"Dry Bulb Temperature\": 19.6, \"diff\": -0.5}, {\"datetime\": \"2020-07-09T22:00:00\", \"Dry Bulb Temperature\": 19.2, \"diff\": -0.40000000000000213}, {\"datetime\": \"2020-07-09T23:00:00\", \"Dry Bulb Temperature\": 18.7, \"diff\": -0.5}, {\"datetime\": \"2020-07-10T00:00:00\", \"Dry Bulb Temperature\": 18.2, \"diff\": -0.5}, {\"datetime\": \"2020-07-10T01:00:00\", \"Dry Bulb Temperature\": 17.8, \"diff\": -0.3999999999999986}, {\"datetime\": \"2020-07-10T02:00:00\", \"Dry Bulb Temperature\": 17.3, \"diff\": -0.5}, {\"datetime\": \"2020-07-10T03:00:00\", \"Dry Bulb Temperature\": 16.8, \"diff\": -0.5}, {\"datetime\": \"2020-07-10T04:00:00\", \"Dry Bulb Temperature\": 16.3, \"diff\": -0.5}, {\"datetime\": \"2020-07-10T05:00:00\", \"Dry Bulb Temperature\": 17.0, \"diff\": 0.6999999999999993}, {\"datetime\": \"2020-07-10T06:00:00\", \"Dry Bulb Temperature\": 16.8, \"diff\": -0.1999999999999993}, {\"datetime\": \"2020-07-10T07:00:00\", \"Dry Bulb Temperature\": 17.0, \"diff\": 0.1999999999999993}, {\"datetime\": \"2020-07-10T08:00:00\", \"Dry Bulb Temperature\": 17.6, \"diff\": 0.6000000000000014}, {\"datetime\": \"2020-07-10T09:00:00\", \"Dry Bulb Temperature\": 20.2, \"diff\": 2.599999999999998}, {\"datetime\": \"2020-07-10T10:00:00\", \"Dry Bulb Temperature\": 21.4, \"diff\": 1.1999999999999993}, {\"datetime\": \"2020-07-10T11:00:00\", \"Dry Bulb Temperature\": 23.0, \"diff\": 1.6000000000000014}, {\"datetime\": \"2020-07-10T12:00:00\", \"Dry Bulb Temperature\": 23.2, \"diff\": 0.1999999999999993}, {\"datetime\": \"2020-07-10T13:00:00\", \"Dry Bulb Temperature\": 24.0, \"diff\": 0.8000000000000007}, {\"datetime\": \"2020-07-10T14:00:00\", \"Dry Bulb Temperature\": 24.0, \"diff\": 0.0}, {\"datetime\": \"2020-07-10T15:00:00\", \"Dry Bulb Temperature\": 23.6, \"diff\": -0.3999999999999986}, {\"datetime\": \"2020-07-10T16:00:00\", \"Dry Bulb Temperature\": 21.5, \"diff\": -2.1000000000000014}, {\"datetime\": \"2020-07-10T17:00:00\", \"Dry Bulb Temperature\": 21.4, \"diff\": -0.10000000000000142}, {\"datetime\": \"2020-07-10T18:00:00\", \"Dry Bulb Temperature\": 19.6, \"diff\": -1.7999999999999972}, {\"datetime\": \"2020-07-10T19:00:00\", \"Dry Bulb Temperature\": 20.0, \"diff\": 0.3999999999999986}, {\"datetime\": \"2020-07-10T20:00:00\", \"Dry Bulb Temperature\": 19.2, \"diff\": -0.8000000000000007}, {\"datetime\": \"2020-07-10T21:00:00\", \"Dry Bulb Temperature\": 19.0, \"diff\": -0.1999999999999993}, {\"datetime\": \"2020-07-10T22:00:00\", \"Dry Bulb Temperature\": 18.7, \"diff\": -0.3000000000000007}, {\"datetime\": \"2020-07-10T23:00:00\", \"Dry Bulb Temperature\": 18.5, \"diff\": -0.1999999999999993}, {\"datetime\": \"2020-07-11T00:00:00\", \"Dry Bulb Temperature\": 18.2, \"diff\": -0.3000000000000007}, {\"datetime\": \"2020-07-11T01:00:00\", \"Dry Bulb Temperature\": 17.9, \"diff\": -0.3000000000000007}, {\"datetime\": \"2020-07-11T02:00:00\", \"Dry Bulb Temperature\": 17.7, \"diff\": -0.1999999999999993}, {\"datetime\": \"2020-07-11T03:00:00\", \"Dry Bulb Temperature\": 17.4, \"diff\": -0.3000000000000007}, {\"datetime\": \"2020-07-11T04:00:00\", \"Dry Bulb Temperature\": 17.1, \"diff\": -0.29999999999999716}, {\"datetime\": \"2020-07-11T05:00:00\", \"Dry Bulb Temperature\": 18.0, \"diff\": 0.8999999999999986}, {\"datetime\": \"2020-07-11T06:00:00\", \"Dry Bulb Temperature\": 18.2, \"diff\": 0.1999999999999993}, {\"datetime\": \"2020-07-11T07:00:00\", \"Dry Bulb Temperature\": 19.2, \"diff\": 1.0}, {\"datetime\": \"2020-07-11T08:00:00\", \"Dry Bulb Temperature\": 20.4, \"diff\": 1.1999999999999993}, {\"datetime\": \"2020-07-11T09:00:00\", \"Dry Bulb Temperature\": 22.4, \"diff\": 2.0}, {\"datetime\": \"2020-07-11T10:00:00\", \"Dry Bulb Temperature\": 23.9, \"diff\": 1.5}, {\"datetime\": \"2020-07-11T11:00:00\", \"Dry Bulb Temperature\": 25.0, \"diff\": 1.1000000000000014}, {\"datetime\": \"2020-07-11T12:00:00\", \"Dry Bulb Temperature\": 25.5, \"diff\": 0.5}, {\"datetime\": \"2020-07-11T13:00:00\", \"Dry Bulb Temperature\": 26.0, \"diff\": 0.5}, {\"datetime\": \"2020-07-11T14:00:00\", \"Dry Bulb Temperature\": 26.0, \"diff\": 0.0}, {\"datetime\": \"2020-07-11T15:00:00\", \"Dry Bulb Temperature\": 25.5, \"diff\": -0.5}, {\"datetime\": \"2020-07-11T16:00:00\", \"Dry Bulb Temperature\": 23.3, \"diff\": -2.1999999999999993}, {\"datetime\": \"2020-07-11T17:00:00\", \"Dry Bulb Temperature\": 23.0, \"diff\": -0.3000000000000007}, {\"datetime\": \"2020-07-11T18:00:00\", \"Dry Bulb Temperature\": 21.1, \"diff\": -1.8999999999999986}, {\"datetime\": \"2020-07-11T19:00:00\", \"Dry Bulb Temperature\": 21.3, \"diff\": 0.1999999999999993}, {\"datetime\": \"2020-07-11T20:00:00\", \"Dry Bulb Temperature\": 20.5, \"diff\": -0.8000000000000007}, {\"datetime\": \"2020-07-11T21:00:00\", \"Dry Bulb Temperature\": 20.1, \"diff\": -0.3999999999999986}, {\"datetime\": \"2020-07-11T22:00:00\", \"Dry Bulb Temperature\": 19.7, \"diff\": -0.40000000000000213}, {\"datetime\": \"2020-07-11T23:00:00\", \"Dry Bulb Temperature\": 19.3, \"diff\": -0.3999999999999986}, {\"datetime\": \"2020-07-12T00:00:00\", \"Dry Bulb Temperature\": 18.9, \"diff\": -0.40000000000000213}, {\"datetime\": \"2020-07-12T01:00:00\", \"Dry Bulb Temperature\": 18.5, \"diff\": -0.3999999999999986}, {\"datetime\": \"2020-07-12T02:00:00\", \"Dry Bulb Temperature\": 18.1, \"diff\": -0.3999999999999986}, {\"datetime\": \"2020-07-12T03:00:00\", \"Dry Bulb Temperature\": 17.7, \"diff\": -0.40000000000000213}, {\"datetime\": \"2020-07-12T04:00:00\", \"Dry Bulb Temperature\": 17.3, \"diff\": -0.3999999999999986}, {\"datetime\": \"2020-07-12T05:00:00\", \"Dry Bulb Temperature\": 18.0, \"diff\": 0.6999999999999993}, {\"datetime\": \"2020-07-12T06:00:00\", \"Dry Bulb Temperature\": 18.1, \"diff\": 0.10000000000000142}, {\"datetime\": \"2020-07-12T07:00:00\", \"Dry Bulb Temperature\": 19.0, \"diff\": 0.8999999999999986}, {\"datetime\": \"2020-07-12T08:00:00\", \"Dry Bulb Temperature\": 19.4, \"diff\": 0.3999999999999986}, {\"datetime\": \"2020-07-12T09:00:00\", \"Dry Bulb Temperature\": 21.4, \"diff\": 2.0}, {\"datetime\": \"2020-07-12T10:00:00\", \"Dry Bulb Temperature\": 23.4, \"diff\": 2.0}, {\"datetime\": \"2020-07-12T11:00:00\", \"Dry Bulb Temperature\": 25.4, \"diff\": 2.0}, {\"datetime\": \"2020-07-12T12:00:00\", \"Dry Bulb Temperature\": 27.0, \"diff\": 1.6000000000000014}, {\"datetime\": \"2020-07-12T13:00:00\", \"Dry Bulb Temperature\": 26.6, \"diff\": -0.3999999999999986}, {\"datetime\": \"2020-07-12T14:00:00\", \"Dry Bulb Temperature\": 25.0, \"diff\": -1.6000000000000014}, {\"datetime\": \"2020-07-12T15:00:00\", \"Dry Bulb Temperature\": 24.5, \"diff\": -0.5}, {\"datetime\": \"2020-07-12T16:00:00\", \"Dry Bulb Temperature\": 22.3, \"diff\": -2.1999999999999993}, {\"datetime\": \"2020-07-12T17:00:00\", \"Dry Bulb Temperature\": 22.0, \"diff\": -0.3000000000000007}, {\"datetime\": \"2020-07-12T18:00:00\", \"Dry Bulb Temperature\": 20.1, \"diff\": -1.8999999999999986}, {\"datetime\": \"2020-07-12T19:00:00\", \"Dry Bulb Temperature\": 20.3, \"diff\": 0.1999999999999993}, {\"datetime\": \"2020-07-12T20:00:00\", \"Dry Bulb Temperature\": 19.4, \"diff\": -0.9000000000000021}, {\"datetime\": \"2020-07-12T21:00:00\", \"Dry Bulb Temperature\": 19.0, \"diff\": -0.3999999999999986}, {\"datetime\": \"2020-07-12T22:00:00\", \"Dry Bulb Temperature\": 18.6, \"diff\": -0.3999999999999986}, {\"datetime\": \"2020-07-12T23:00:00\", \"Dry Bulb Temperature\": 18.3, \"diff\": -0.3000000000000007}, {\"datetime\": \"2020-07-13T00:00:00\", \"Dry Bulb Temperature\": 17.9, \"diff\": -0.40000000000000213}, {\"datetime\": \"2020-07-13T01:00:00\", \"Dry Bulb Temperature\": 17.5, \"diff\": -0.3999999999999986}, {\"datetime\": \"2020-07-13T02:00:00\", \"Dry Bulb Temperature\": 17.1, \"diff\": -0.3999999999999986}, {\"datetime\": \"2020-07-13T03:00:00\", \"Dry Bulb Temperature\": 16.7, \"diff\": -0.40000000000000213}, {\"datetime\": \"2020-07-13T04:00:00\", \"Dry Bulb Temperature\": 16.3, \"diff\": -0.3999999999999986}, {\"datetime\": \"2020-07-13T05:00:00\", \"Dry Bulb Temperature\": 17.0, \"diff\": 0.6999999999999993}, {\"datetime\": \"2020-07-13T06:00:00\", \"Dry Bulb Temperature\": 17.2, \"diff\": 0.1999999999999993}, {\"datetime\": \"2020-07-13T07:00:00\", \"Dry Bulb Temperature\": 18.4, \"diff\": 1.1999999999999993}, {\"datetime\": \"2020-07-13T08:00:00\", \"Dry Bulb Temperature\": 19.8, \"diff\": 1.4000000000000021}, {\"datetime\": \"2020-07-13T09:00:00\", \"Dry Bulb Temperature\": 19.0, \"diff\": -0.8000000000000007}, {\"datetime\": \"2020-07-13T10:00:00\", \"Dry Bulb Temperature\": 19.2, \"diff\": 0.1999999999999993}, {\"datetime\": \"2020-07-13T11:00:00\", \"Dry Bulb Temperature\": 20.4, \"diff\": 1.1999999999999993}, {\"datetime\": \"2020-07-13T12:00:00\", \"Dry Bulb Temperature\": 22.0, \"diff\": 1.6000000000000014}, {\"datetime\": \"2020-07-13T13:00:00\", \"Dry Bulb Temperature\": 22.0, \"diff\": 0.0}, {\"datetime\": \"2020-07-13T14:00:00\", \"Dry Bulb Temperature\": 20.6, \"diff\": -1.3999999999999986}, {\"datetime\": \"2020-07-13T15:00:00\", \"Dry Bulb Temperature\": 20.3, \"diff\": -0.3000000000000007}, {\"datetime\": \"2020-07-13T16:00:00\", \"Dry Bulb Temperature\": 18.3, \"diff\": -2.0}, {\"datetime\": \"2020-07-13T17:00:00\", \"Dry Bulb Temperature\": 18.2, \"diff\": -0.10000000000000142}, {\"datetime\": \"2020-07-13T18:00:00\", \"Dry Bulb Temperature\": 16.6, \"diff\": -1.5999999999999979}, {\"datetime\": \"2020-07-13T19:00:00\", \"Dry Bulb Temperature\": 17.0, \"diff\": 0.3999999999999986}, {\"datetime\": \"2020-07-13T20:00:00\", \"Dry Bulb Temperature\": 16.4, \"diff\": -0.6000000000000014}, {\"datetime\": \"2020-07-13T21:00:00\", \"Dry Bulb Temperature\": 16.2, \"diff\": -0.1999999999999993}, {\"datetime\": \"2020-07-13T22:00:00\", \"Dry Bulb Temperature\": 16.1, \"diff\": -0.09999999999999787}, {\"datetime\": \"2020-07-13T23:00:00\", \"Dry Bulb Temperature\": 15.9, \"diff\": -0.20000000000000107}, {\"datetime\": \"2020-07-14T00:00:00\", \"Dry Bulb Temperature\": 15.7, \"diff\": -0.20000000000000107}, {\"datetime\": \"2020-07-14T01:00:00\", \"Dry Bulb Temperature\": 15.5, \"diff\": -0.1999999999999993}, {\"datetime\": \"2020-07-14T02:00:00\", \"Dry Bulb Temperature\": 15.4, \"diff\": -0.09999999999999964}, {\"datetime\": \"2020-07-14T03:00:00\", \"Dry Bulb Temperature\": 15.2, \"diff\": -0.20000000000000107}, {\"datetime\": \"2020-07-14T04:00:00\", \"Dry Bulb Temperature\": 15.0, \"diff\": -0.1999999999999993}, {\"datetime\": \"2020-07-14T05:00:00\", \"Dry Bulb Temperature\": 16.0, \"diff\": 1.0}, {\"datetime\": \"2020-07-14T06:00:00\", \"Dry Bulb Temperature\": 17.0, \"diff\": 1.0}, {\"datetime\": \"2020-07-14T07:00:00\", \"Dry Bulb Temperature\": 17.8, \"diff\": 0.8000000000000007}, {\"datetime\": \"2020-07-14T08:00:00\", \"Dry Bulb Temperature\": 19.2, \"diff\": 1.3999999999999986}, {\"datetime\": \"2020-07-14T09:00:00\", \"Dry Bulb Temperature\": 20.4, \"diff\": 1.1999999999999993}, {\"datetime\": \"2020-07-14T10:00:00\", \"Dry Bulb Temperature\": 20.4, \"diff\": 0.0}, {\"datetime\": \"2020-07-14T11:00:00\", \"Dry Bulb Temperature\": 22.2, \"diff\": 1.8000000000000007}, {\"datetime\": \"2020-07-14T12:00:00\", \"Dry Bulb Temperature\": 23.3, \"diff\": 1.1000000000000014}, {\"datetime\": \"2020-07-14T13:00:00\", \"Dry Bulb Temperature\": 23.6, \"diff\": 0.3000000000000007}, {\"datetime\": \"2020-07-14T14:00:00\", \"Dry Bulb Temperature\": 22.1, \"diff\": -1.5}, {\"datetime\": \"2020-07-14T15:00:00\", \"Dry Bulb Temperature\": 21.7, \"diff\": -0.40000000000000213}, {\"datetime\": \"2020-07-14T16:00:00\", \"Dry Bulb Temperature\": 19.6, \"diff\": -2.099999999999998}, {\"datetime\": \"2020-07-14T17:00:00\", \"Dry Bulb Temperature\": 19.4, \"diff\": -0.20000000000000284}, {\"datetime\": \"2020-07-14T18:00:00\", \"Dry Bulb Temperature\": 17.7, \"diff\": -1.6999999999999993}, {\"datetime\": \"2020-07-14T19:00:00\", \"Dry Bulb Temperature\": 18.0, \"diff\": 0.3000000000000007}, {\"datetime\": \"2020-07-14T20:00:00\", \"Dry Bulb Temperature\": 17.3, \"diff\": -0.6999999999999993}, {\"datetime\": \"2020-07-14T21:00:00\", \"Dry Bulb Temperature\": 17.0, \"diff\": -0.3000000000000007}, {\"datetime\": \"2020-07-14T22:00:00\", \"Dry Bulb Temperature\": 16.8, \"diff\": -0.1999999999999993}, {\"datetime\": \"2020-07-14T23:00:00\", \"Dry Bulb Temperature\": 16.5, \"diff\": -0.3000000000000007}, {\"datetime\": \"2020-07-15T00:00:00\", \"Dry Bulb Temperature\": 16.2, \"diff\": -0.3000000000000007}, {\"datetime\": \"2020-07-15T01:00:00\", \"Dry Bulb Temperature\": 15.9, \"diff\": -0.29999999999999893}, {\"datetime\": \"2020-07-15T02:00:00\", \"Dry Bulb Temperature\": 15.7, \"diff\": -0.20000000000000107}, {\"datetime\": \"2020-07-15T03:00:00\", \"Dry Bulb Temperature\": 15.4, \"diff\": -0.29999999999999893}, {\"datetime\": \"2020-07-15T04:00:00\", \"Dry Bulb Temperature\": 15.1, \"diff\": -0.3000000000000007}, {\"datetime\": \"2020-07-15T05:00:00\", \"Dry Bulb Temperature\": 16.0, \"diff\": 0.9000000000000004}, {\"datetime\": \"2020-07-15T06:00:00\", \"Dry Bulb Temperature\": 16.2, \"diff\": 0.1999999999999993}, {\"datetime\": \"2020-07-15T07:00:00\", \"Dry Bulb Temperature\": 17.3, \"diff\": 1.1000000000000014}, {\"datetime\": \"2020-07-15T08:00:00\", \"Dry Bulb Temperature\": 18.2, \"diff\": 0.8999999999999986}, {\"datetime\": \"2020-07-15T09:00:00\", \"Dry Bulb Temperature\": 19.0, \"diff\": 0.8000000000000007}, {\"datetime\": \"2020-07-15T10:00:00\", \"Dry Bulb Temperature\": 20.2, \"diff\": 1.1999999999999993}, {\"datetime\": \"2020-07-15T11:00:00\", \"Dry Bulb Temperature\": 21.6, \"diff\": 1.4000000000000021}, {\"datetime\": \"2020-07-15T12:00:00\", \"Dry Bulb Temperature\": 22.8, \"diff\": 1.1999999999999993}, {\"datetime\": \"2020-07-15T13:00:00\", \"Dry Bulb Temperature\": 23.8, \"diff\": 1.0}, {\"datetime\": \"2020-07-15T14:00:00\", \"Dry Bulb Temperature\": 22.3, \"diff\": -1.5}, {\"datetime\": \"2020-07-15T15:00:00\", \"Dry Bulb Temperature\": 21.9, \"diff\": -0.40000000000000213}, {\"datetime\": \"2020-07-15T16:00:00\", \"Dry Bulb Temperature\": 19.8, \"diff\": -2.099999999999998}, {\"datetime\": \"2020-07-15T17:00:00\", \"Dry Bulb Temperature\": 19.6, \"diff\": -0.1999999999999993}, {\"datetime\": \"2020-07-15T18:00:00\", \"Dry Bulb Temperature\": 17.8, \"diff\": -1.8000000000000007}, {\"datetime\": \"2020-07-15T19:00:00\", \"Dry Bulb Temperature\": 18.2, \"diff\": 0.3999999999999986}, {\"datetime\": \"2020-07-15T20:00:00\", \"Dry Bulb Temperature\": 17.4, \"diff\": -0.8000000000000007}, {\"datetime\": \"2020-07-15T21:00:00\", \"Dry Bulb Temperature\": 17.1, \"diff\": -0.29999999999999716}, {\"datetime\": \"2020-07-15T22:00:00\", \"Dry Bulb Temperature\": 16.8, \"diff\": -0.3000000000000007}, {\"datetime\": \"2020-07-15T23:00:00\", \"Dry Bulb Temperature\": 16.6, \"diff\": -0.1999999999999993}, {\"datetime\": \"2020-07-16T00:00:00\", \"Dry Bulb Temperature\": 16.3, \"diff\": -0.3000000000000007}, {\"datetime\": \"2020-07-16T01:00:00\", \"Dry Bulb Temperature\": 16.0, \"diff\": -0.3000000000000007}, {\"datetime\": \"2020-07-16T02:00:00\", \"Dry Bulb Temperature\": 15.7, \"diff\": -0.3000000000000007}, {\"datetime\": \"2020-07-16T03:00:00\", \"Dry Bulb Temperature\": 15.4, \"diff\": -0.29999999999999893}, {\"datetime\": \"2020-07-16T04:00:00\", \"Dry Bulb Temperature\": 15.1, \"diff\": -0.3000000000000007}, {\"datetime\": \"2020-07-16T05:00:00\", \"Dry Bulb Temperature\": 16.0, \"diff\": 0.9000000000000004}, {\"datetime\": \"2020-07-16T06:00:00\", \"Dry Bulb Temperature\": 16.5, \"diff\": 0.5}, {\"datetime\": \"2020-07-16T07:00:00\", \"Dry Bulb Temperature\": 17.2, \"diff\": 0.6999999999999993}, {\"datetime\": \"2020-07-16T08:00:00\", \"Dry Bulb Temperature\": 18.2, \"diff\": 1.0}, {\"datetime\": \"2020-07-16T09:00:00\", \"Dry Bulb Temperature\": 19.2, \"diff\": 1.0}, {\"datetime\": \"2020-07-16T10:00:00\", \"Dry Bulb Temperature\": 20.0, \"diff\": 0.8000000000000007}, {\"datetime\": \"2020-07-16T11:00:00\", \"Dry Bulb Temperature\": 20.2, \"diff\": 0.1999999999999993}, {\"datetime\": \"2020-07-16T12:00:00\", \"Dry Bulb Temperature\": 21.0, \"diff\": 0.8000000000000007}, {\"datetime\": \"2020-07-16T13:00:00\", \"Dry Bulb Temperature\": 21.0, \"diff\": 0.0}, {\"datetime\": \"2020-07-16T14:00:00\", \"Dry Bulb Temperature\": 19.7, \"diff\": -1.3000000000000007}, {\"datetime\": \"2020-07-16T15:00:00\", \"Dry Bulb Temperature\": 19.5, \"diff\": -0.1999999999999993}, {\"datetime\": \"2020-07-16T16:00:00\", \"Dry Bulb Temperature\": 17.7, \"diff\": -1.8000000000000007}, {\"datetime\": \"2020-07-16T17:00:00\", \"Dry Bulb Temperature\": 17.7, \"diff\": 0.0}, {\"datetime\": \"2020-07-16T18:00:00\", \"Dry Bulb Temperature\": 16.2, \"diff\": -1.5}, {\"datetime\": \"2020-07-16T19:00:00\", \"Dry Bulb Temperature\": 16.8, \"diff\": 0.6000000000000014}, {\"datetime\": \"2020-07-16T20:00:00\", \"Dry Bulb Temperature\": 16.3, \"diff\": -0.5}, {\"datetime\": \"2020-07-16T21:00:00\", \"Dry Bulb Temperature\": 16.2, \"diff\": -0.10000000000000142}, {\"datetime\": \"2020-07-16T22:00:00\", \"Dry Bulb Temperature\": 16.2, \"diff\": 0.0}, {\"datetime\": \"2020-07-16T23:00:00\", \"Dry Bulb Temperature\": 16.1, \"diff\": -0.09999999999999787}, {\"datetime\": \"2020-07-17T00:00:00\", \"Dry Bulb Temperature\": 16.1, \"diff\": 0.0}, {\"datetime\": \"2020-07-17T01:00:00\", \"Dry Bulb Temperature\": 16.0, \"diff\": -0.10000000000000142}, {\"datetime\": \"2020-07-17T02:00:00\", \"Dry Bulb Temperature\": 16.0, \"diff\": 0.0}, {\"datetime\": \"2020-07-17T03:00:00\", \"Dry Bulb Temperature\": 15.9, \"diff\": -0.09999999999999964}, {\"datetime\": \"2020-07-17T04:00:00\", \"Dry Bulb Temperature\": 15.9, \"diff\": 0.0}, {\"datetime\": \"2020-07-17T05:00:00\", \"Dry Bulb Temperature\": 17.0, \"diff\": 1.0999999999999996}, {\"datetime\": \"2020-07-17T06:00:00\", \"Dry Bulb Temperature\": 17.0, \"diff\": 0.0}, {\"datetime\": \"2020-07-17T07:00:00\", \"Dry Bulb Temperature\": 17.2, \"diff\": 0.1999999999999993}, {\"datetime\": \"2020-07-17T08:00:00\", \"Dry Bulb Temperature\": 18.8, \"diff\": 1.6000000000000014}, {\"datetime\": \"2020-07-17T09:00:00\", \"Dry Bulb Temperature\": 19.4, \"diff\": 0.5999999999999979}, {\"datetime\": \"2020-07-17T10:00:00\", \"Dry Bulb Temperature\": 21.4, \"diff\": 2.0}, {\"datetime\": \"2020-07-17T11:00:00\", \"Dry Bulb Temperature\": 23.0, \"diff\": 1.6000000000000014}, {\"datetime\": \"2020-07-17T12:00:00\", \"Dry Bulb Temperature\": 23.0, \"diff\": 0.0}, {\"datetime\": \"2020-07-17T13:00:00\", \"Dry Bulb Temperature\": 23.7, \"diff\": 0.6999999999999993}, {\"datetime\": \"2020-07-17T14:00:00\", \"Dry Bulb Temperature\": 24.0, \"diff\": 0.3000000000000007}, {\"datetime\": \"2020-07-17T15:00:00\", \"Dry Bulb Temperature\": 23.6, \"diff\": -0.3999999999999986}, {\"datetime\": \"2020-07-17T16:00:00\", \"Dry Bulb Temperature\": 21.4, \"diff\": -2.200000000000003}, {\"datetime\": \"2020-07-17T17:00:00\", \"Dry Bulb Temperature\": 21.2, \"diff\": -0.1999999999999993}, {\"datetime\": \"2020-07-17T18:00:00\", \"Dry Bulb Temperature\": 19.4, \"diff\": -1.8000000000000007}, {\"datetime\": \"2020-07-17T19:00:00\", \"Dry Bulb Temperature\": 19.7, \"diff\": 0.3000000000000007}, {\"datetime\": \"2020-07-17T20:00:00\", \"Dry Bulb Temperature\": 19.0, \"diff\": -0.6999999999999993}, {\"datetime\": \"2020-07-17T21:00:00\", \"Dry Bulb Temperature\": 18.6, \"diff\": -0.3999999999999986}, {\"datetime\": \"2020-07-17T22:00:00\", \"Dry Bulb Temperature\": 18.3, \"diff\": -0.3000000000000007}, {\"datetime\": \"2020-07-17T23:00:00\", \"Dry Bulb Temperature\": 18.0, \"diff\": -0.3000000000000007}, {\"datetime\": \"2020-07-18T00:00:00\", \"Dry Bulb Temperature\": 17.7, \"diff\": -0.3000000000000007}, {\"datetime\": \"2020-07-18T01:00:00\", \"Dry Bulb Temperature\": 17.4, \"diff\": -0.3000000000000007}, {\"datetime\": \"2020-07-18T02:00:00\", \"Dry Bulb Temperature\": 17.1, \"diff\": -0.29999999999999716}, {\"datetime\": \"2020-07-18T03:00:00\", \"Dry Bulb Temperature\": 16.8, \"diff\": -0.3000000000000007}, {\"datetime\": \"2020-07-18T04:00:00\", \"Dry Bulb Temperature\": 16.4, \"diff\": -0.40000000000000213}, {\"datetime\": \"2020-07-18T05:00:00\", \"Dry Bulb Temperature\": 17.3, \"diff\": 0.9000000000000021}, {\"datetime\": \"2020-07-18T06:00:00\", \"Dry Bulb Temperature\": 17.0, \"diff\": -0.3000000000000007}, {\"datetime\": \"2020-07-18T07:00:00\", \"Dry Bulb Temperature\": 17.2, \"diff\": 0.1999999999999993}, {\"datetime\": \"2020-07-18T08:00:00\", \"Dry Bulb Temperature\": 18.0, \"diff\": 0.8000000000000007}, {\"datetime\": \"2020-07-18T09:00:00\", \"Dry Bulb Temperature\": 18.6, \"diff\": 0.6000000000000014}, {\"datetime\": \"2020-07-18T10:00:00\", \"Dry Bulb Temperature\": 21.0, \"diff\": 2.3999999999999986}, {\"datetime\": \"2020-07-18T11:00:00\", \"Dry Bulb Temperature\": 21.2, \"diff\": 0.1999999999999993}, {\"datetime\": \"2020-07-18T12:00:00\", \"Dry Bulb Temperature\": 22.2, \"diff\": 1.0}, {\"datetime\": \"2020-07-18T13:00:00\", \"Dry Bulb Temperature\": 23.0, \"diff\": 0.8000000000000007}, {\"datetime\": \"2020-07-18T14:00:00\", \"Dry Bulb Temperature\": 23.0, \"diff\": 0.0}, {\"datetime\": \"2020-07-18T15:00:00\", \"Dry Bulb Temperature\": 22.7, \"diff\": -0.3000000000000007}, {\"datetime\": \"2020-07-18T16:00:00\", \"Dry Bulb Temperature\": 20.6, \"diff\": -2.099999999999998}, {\"datetime\": \"2020-07-18T17:00:00\", \"Dry Bulb Temperature\": 20.5, \"diff\": -0.10000000000000142}, {\"datetime\": \"2020-07-18T18:00:00\", \"Dry Bulb Temperature\": 18.9, \"diff\": -1.6000000000000014}, {\"datetime\": \"2020-07-18T19:00:00\", \"Dry Bulb Temperature\": 19.3, \"diff\": 0.40000000000000213}, {\"datetime\": \"2020-07-18T20:00:00\", \"Dry Bulb Temperature\": 18.6, \"diff\": -0.6999999999999993}, {\"datetime\": \"2020-07-18T21:00:00\", \"Dry Bulb Temperature\": 18.4, \"diff\": -0.20000000000000284}, {\"datetime\": \"2020-07-18T22:00:00\", \"Dry Bulb Temperature\": 18.2, \"diff\": -0.1999999999999993}, {\"datetime\": \"2020-07-18T23:00:00\", \"Dry Bulb Temperature\": 18.0, \"diff\": -0.1999999999999993}, {\"datetime\": \"2020-07-19T00:00:00\", \"Dry Bulb Temperature\": 17.7, \"diff\": -0.3000000000000007}, {\"datetime\": \"2020-07-19T01:00:00\", \"Dry Bulb Temperature\": 17.5, \"diff\": -0.1999999999999993}, {\"datetime\": \"2020-07-19T02:00:00\", \"Dry Bulb Temperature\": 17.3, \"diff\": -0.1999999999999993}, {\"datetime\": \"2020-07-19T03:00:00\", \"Dry Bulb Temperature\": 17.1, \"diff\": -0.1999999999999993}, {\"datetime\": \"2020-07-19T04:00:00\", \"Dry Bulb Temperature\": 16.9, \"diff\": -0.20000000000000284}, {\"datetime\": \"2020-07-19T05:00:00\", \"Dry Bulb Temperature\": 17.8, \"diff\": 0.9000000000000021}, {\"datetime\": \"2020-07-19T06:00:00\", \"Dry Bulb Temperature\": 17.7, \"diff\": -0.10000000000000142}, {\"datetime\": \"2020-07-19T07:00:00\", \"Dry Bulb Temperature\": 18.0, \"diff\": 0.3000000000000007}, {\"datetime\": \"2020-07-19T08:00:00\", \"Dry Bulb Temperature\": 18.0, \"diff\": 0.0}, {\"datetime\": \"2020-07-19T09:00:00\", \"Dry Bulb Temperature\": 18.4, \"diff\": 0.3999999999999986}, {\"datetime\": \"2020-07-19T10:00:00\", \"Dry Bulb Temperature\": 20.0, \"diff\": 1.6000000000000014}, {\"datetime\": \"2020-07-19T11:00:00\", \"Dry Bulb Temperature\": 20.2, \"diff\": 0.1999999999999993}, {\"datetime\": \"2020-07-19T12:00:00\", \"Dry Bulb Temperature\": 21.0, \"diff\": 0.8000000000000007}, {\"datetime\": \"2020-07-19T13:00:00\", \"Dry Bulb Temperature\": 21.0, \"diff\": 0.0}, {\"datetime\": \"2020-07-19T14:00:00\", \"Dry Bulb Temperature\": 21.2, \"diff\": 0.1999999999999993}, {\"datetime\": \"2020-07-19T15:00:00\", \"Dry Bulb Temperature\": 21.8, \"diff\": 0.6000000000000014}, {\"datetime\": \"2020-07-19T16:00:00\", \"Dry Bulb Temperature\": 20.6, \"diff\": -1.1999999999999993}, {\"datetime\": \"2020-07-19T17:00:00\", \"Dry Bulb Temperature\": 20.4, \"diff\": -0.20000000000000284}, {\"datetime\": \"2020-07-19T18:00:00\", \"Dry Bulb Temperature\": 18.7, \"diff\": -1.6999999999999993}, {\"datetime\": \"2020-07-19T19:00:00\", \"Dry Bulb Temperature\": 19.1, \"diff\": 0.40000000000000213}, {\"datetime\": \"2020-07-19T20:00:00\", \"Dry Bulb Temperature\": 18.3, \"diff\": -0.8000000000000007}, {\"datetime\": \"2020-07-19T21:00:00\", \"Dry Bulb Temperature\": 18.1, \"diff\": -0.1999999999999993}, {\"datetime\": \"2020-07-19T22:00:00\", \"Dry Bulb Temperature\": 17.8, \"diff\": -0.3000000000000007}, {\"datetime\": \"2020-07-19T23:00:00\", \"Dry Bulb Temperature\": 17.6, \"diff\": -0.1999999999999993}, {\"datetime\": \"2020-07-20T00:00:00\", \"Dry Bulb Temperature\": 17.3, \"diff\": -0.3000000000000007}, {\"datetime\": \"2020-07-20T01:00:00\", \"Dry Bulb Temperature\": 17.1, \"diff\": -0.1999999999999993}, {\"datetime\": \"2020-07-20T02:00:00\", \"Dry Bulb Temperature\": 16.8, \"diff\": -0.3000000000000007}, {\"datetime\": \"2020-07-20T03:00:00\", \"Dry Bulb Temperature\": 16.6, \"diff\": -0.1999999999999993}, {\"datetime\": \"2020-07-20T04:00:00\", \"Dry Bulb Temperature\": 16.3, \"diff\": -0.3000000000000007}, {\"datetime\": \"2020-07-20T05:00:00\", \"Dry Bulb Temperature\": 17.2, \"diff\": 0.8999999999999986}, {\"datetime\": \"2020-07-20T06:00:00\", \"Dry Bulb Temperature\": 17.0, \"diff\": -0.1999999999999993}, {\"datetime\": \"2020-07-20T07:00:00\", \"Dry Bulb Temperature\": 17.2, \"diff\": 0.1999999999999993}, {\"datetime\": \"2020-07-20T08:00:00\", \"Dry Bulb Temperature\": 18.2, \"diff\": 1.0}, {\"datetime\": \"2020-07-20T09:00:00\", \"Dry Bulb Temperature\": 19.0, \"diff\": 0.8000000000000007}, {\"datetime\": \"2020-07-20T10:00:00\", \"Dry Bulb Temperature\": 18.9, \"diff\": -0.10000000000000142}, {\"datetime\": \"2020-07-20T11:00:00\", \"Dry Bulb Temperature\": 19.0, \"diff\": 0.10000000000000142}, {\"datetime\": \"2020-07-20T12:00:00\", \"Dry Bulb Temperature\": 19.4, \"diff\": 0.3999999999999986}, {\"datetime\": \"2020-07-20T13:00:00\", \"Dry Bulb Temperature\": 20.8, \"diff\": 1.4000000000000021}, {\"datetime\": \"2020-07-20T14:00:00\", \"Dry Bulb Temperature\": 20.0, \"diff\": -0.8000000000000007}, {\"datetime\": \"2020-07-20T15:00:00\", \"Dry Bulb Temperature\": 19.8, \"diff\": -0.1999999999999993}, {\"datetime\": \"2020-07-20T16:00:00\", \"Dry Bulb Temperature\": 18.8, \"diff\": -1.0}, {\"datetime\": \"2020-07-20T17:00:00\", \"Dry Bulb Temperature\": 18.8, \"diff\": 0.0}, {\"datetime\": \"2020-07-20T18:00:00\", \"Dry Bulb Temperature\": 17.2, \"diff\": -1.6000000000000014}, {\"datetime\": \"2020-07-20T19:00:00\", \"Dry Bulb Temperature\": 17.7, \"diff\": 0.5}, {\"datetime\": \"2020-07-20T20:00:00\", \"Dry Bulb Temperature\": 17.1, \"diff\": -0.5999999999999979}, {\"datetime\": \"2020-07-20T21:00:00\", \"Dry Bulb Temperature\": 16.9, \"diff\": -0.20000000000000284}, {\"datetime\": \"2020-07-20T22:00:00\", \"Dry Bulb Temperature\": 16.8, \"diff\": -0.09999999999999787}, {\"datetime\": \"2020-07-20T23:00:00\", \"Dry Bulb Temperature\": 16.7, \"diff\": -0.10000000000000142}, {\"datetime\": \"2020-07-21T00:00:00\", \"Dry Bulb Temperature\": 16.6, \"diff\": -0.09999999999999787}, {\"datetime\": \"2020-07-21T01:00:00\", \"Dry Bulb Temperature\": 16.4, \"diff\": -0.20000000000000284}, {\"datetime\": \"2020-07-21T02:00:00\", \"Dry Bulb Temperature\": 16.3, \"diff\": -0.09999999999999787}, {\"datetime\": \"2020-07-21T03:00:00\", \"Dry Bulb Temperature\": 16.2, \"diff\": -0.10000000000000142}, {\"datetime\": \"2020-07-21T04:00:00\", \"Dry Bulb Temperature\": 16.1, \"diff\": -0.09999999999999787}, {\"datetime\": \"2020-07-21T05:00:00\", \"Dry Bulb Temperature\": 17.1, \"diff\": 1.0}, {\"datetime\": \"2020-07-21T06:00:00\", \"Dry Bulb Temperature\": 17.0, \"diff\": -0.10000000000000142}, {\"datetime\": \"2020-07-21T07:00:00\", \"Dry Bulb Temperature\": 17.7, \"diff\": 0.6999999999999993}, {\"datetime\": \"2020-07-21T08:00:00\", \"Dry Bulb Temperature\": 18.9, \"diff\": 1.1999999999999993}, {\"datetime\": \"2020-07-21T09:00:00\", \"Dry Bulb Temperature\": 20.0, \"diff\": 1.1000000000000014}, {\"datetime\": \"2020-07-21T10:00:00\", \"Dry Bulb Temperature\": 20.8, \"diff\": 0.8000000000000007}, {\"datetime\": \"2020-07-21T11:00:00\", \"Dry Bulb Temperature\": 20.2, \"diff\": -0.6000000000000014}, {\"datetime\": \"2020-07-21T12:00:00\", \"Dry Bulb Temperature\": 20.6, \"diff\": 0.40000000000000213}, {\"datetime\": \"2020-07-21T13:00:00\", \"Dry Bulb Temperature\": 19.4, \"diff\": -1.2000000000000028}, {\"datetime\": \"2020-07-21T14:00:00\", \"Dry Bulb Temperature\": 21.0, \"diff\": 1.6000000000000014}, {\"datetime\": \"2020-07-21T15:00:00\", \"Dry Bulb Temperature\": 20.8, \"diff\": -0.1999999999999993}, {\"datetime\": \"2020-07-21T16:00:00\", \"Dry Bulb Temperature\": 19.6, \"diff\": -1.1999999999999993}, {\"datetime\": \"2020-07-21T17:00:00\", \"Dry Bulb Temperature\": 19.4, \"diff\": -0.20000000000000284}, {\"datetime\": \"2020-07-21T18:00:00\", \"Dry Bulb Temperature\": 17.7, \"diff\": -1.6999999999999993}, {\"datetime\": \"2020-07-21T19:00:00\", \"Dry Bulb Temperature\": 18.1, \"diff\": 0.40000000000000213}, {\"datetime\": \"2020-07-21T20:00:00\", \"Dry Bulb Temperature\": 17.3, \"diff\": -0.8000000000000007}, {\"datetime\": \"2020-07-21T21:00:00\", \"Dry Bulb Temperature\": 17.1, \"diff\": -0.1999999999999993}, {\"datetime\": \"2020-07-21T22:00:00\", \"Dry Bulb Temperature\": 16.8, \"diff\": -0.3000000000000007}, {\"datetime\": \"2020-07-21T23:00:00\", \"Dry Bulb Temperature\": 16.6, \"diff\": -0.1999999999999993}, {\"datetime\": \"2020-07-22T00:00:00\", \"Dry Bulb Temperature\": 16.3, \"diff\": -0.3000000000000007}, {\"datetime\": \"2020-07-22T01:00:00\", \"Dry Bulb Temperature\": 16.1, \"diff\": -0.1999999999999993}, {\"datetime\": \"2020-07-22T02:00:00\", \"Dry Bulb Temperature\": 15.8, \"diff\": -0.3000000000000007}, {\"datetime\": \"2020-07-22T03:00:00\", \"Dry Bulb Temperature\": 15.6, \"diff\": -0.20000000000000107}, {\"datetime\": \"2020-07-22T04:00:00\", \"Dry Bulb Temperature\": 15.3, \"diff\": -0.29999999999999893}, {\"datetime\": \"2020-07-22T05:00:00\", \"Dry Bulb Temperature\": 16.2, \"diff\": 0.8999999999999986}, {\"datetime\": \"2020-07-22T06:00:00\", \"Dry Bulb Temperature\": 16.0, \"diff\": -0.1999999999999993}, {\"datetime\": \"2020-07-22T07:00:00\", \"Dry Bulb Temperature\": 16.4, \"diff\": 0.3999999999999986}, {\"datetime\": \"2020-07-22T08:00:00\", \"Dry Bulb Temperature\": 18.4, \"diff\": 2.0}, {\"datetime\": \"2020-07-22T09:00:00\", \"Dry Bulb Temperature\": 19.4, \"diff\": 1.0}, {\"datetime\": \"2020-07-22T10:00:00\", \"Dry Bulb Temperature\": 21.2, \"diff\": 1.8000000000000007}, {\"datetime\": \"2020-07-22T11:00:00\", \"Dry Bulb Temperature\": 22.0, \"diff\": 0.8000000000000007}, {\"datetime\": \"2020-07-22T12:00:00\", \"Dry Bulb Temperature\": 22.2, \"diff\": 0.1999999999999993}, {\"datetime\": \"2020-07-22T13:00:00\", \"Dry Bulb Temperature\": 23.2, \"diff\": 1.0}, {\"datetime\": \"2020-07-22T14:00:00\", \"Dry Bulb Temperature\": 24.0, \"diff\": 0.8000000000000007}, {\"datetime\": \"2020-07-22T15:00:00\", \"Dry Bulb Temperature\": 23.6, \"diff\": -0.3999999999999986}, {\"datetime\": \"2020-07-22T16:00:00\", \"Dry Bulb Temperature\": 21.8, \"diff\": -1.8000000000000007}, {\"datetime\": \"2020-07-22T17:00:00\", \"Dry Bulb Temperature\": 21.5, \"diff\": -0.3000000000000007}, {\"datetime\": \"2020-07-22T18:00:00\", \"Dry Bulb Temperature\": 19.6, \"diff\": -1.8999999999999986}, {\"datetime\": \"2020-07-22T19:00:00\", \"Dry Bulb Temperature\": 19.8, \"diff\": 0.1999999999999993}, {\"datetime\": \"2020-07-22T20:00:00\", \"Dry Bulb Temperature\": 18.9, \"diff\": -0.9000000000000021}, {\"datetime\": \"2020-07-22T21:00:00\", \"Dry Bulb Temperature\": 18.5, \"diff\": -0.3999999999999986}, {\"datetime\": \"2020-07-22T22:00:00\", \"Dry Bulb Temperature\": 18.1, \"diff\": -0.3999999999999986}, {\"datetime\": \"2020-07-22T23:00:00\", \"Dry Bulb Temperature\": 17.7, \"diff\": -0.40000000000000213}, {\"datetime\": \"2020-07-23T00:00:00\", \"Dry Bulb Temperature\": 17.3, \"diff\": -0.3999999999999986}, {\"datetime\": \"2020-07-23T01:00:00\", \"Dry Bulb Temperature\": 16.9, \"diff\": -0.40000000000000213}, {\"datetime\": \"2020-07-23T02:00:00\", \"Dry Bulb Temperature\": 16.5, \"diff\": -0.3999999999999986}, {\"datetime\": \"2020-07-23T03:00:00\", \"Dry Bulb Temperature\": 16.0, \"diff\": -0.5}, {\"datetime\": \"2020-07-23T04:00:00\", \"Dry Bulb Temperature\": 15.6, \"diff\": -0.40000000000000036}, {\"datetime\": \"2020-07-23T05:00:00\", \"Dry Bulb Temperature\": 16.4, \"diff\": 0.7999999999999989}, {\"datetime\": \"2020-07-23T06:00:00\", \"Dry Bulb Temperature\": 16.0, \"diff\": -0.3999999999999986}, {\"datetime\": \"2020-07-23T07:00:00\", \"Dry Bulb Temperature\": 16.0, \"diff\": 0.0}, {\"datetime\": \"2020-07-23T08:00:00\", \"Dry Bulb Temperature\": 16.6, \"diff\": 0.6000000000000014}, {\"datetime\": \"2020-07-23T09:00:00\", \"Dry Bulb Temperature\": 19.2, \"diff\": 2.599999999999998}, {\"datetime\": \"2020-07-23T10:00:00\", \"Dry Bulb Temperature\": 20.2, \"diff\": 1.0}, {\"datetime\": \"2020-07-23T11:00:00\", \"Dry Bulb Temperature\": 21.4, \"diff\": 1.1999999999999993}, {\"datetime\": \"2020-07-23T12:00:00\", \"Dry Bulb Temperature\": 22.4, \"diff\": 1.0}, {\"datetime\": \"2020-07-23T13:00:00\", \"Dry Bulb Temperature\": 22.7, \"diff\": 0.3000000000000007}, {\"datetime\": \"2020-07-23T14:00:00\", \"Dry Bulb Temperature\": 22.3, \"diff\": -0.3999999999999986}, {\"datetime\": \"2020-07-23T15:00:00\", \"Dry Bulb Temperature\": 21.8, \"diff\": -0.5}, {\"datetime\": \"2020-07-23T16:00:00\", \"Dry Bulb Temperature\": 20.2, \"diff\": -1.6000000000000014}, {\"datetime\": \"2020-07-23T17:00:00\", \"Dry Bulb Temperature\": 20.1, \"diff\": -0.09999999999999787}, {\"datetime\": \"2020-07-23T18:00:00\", \"Dry Bulb Temperature\": 18.4, \"diff\": -1.7000000000000028}, {\"datetime\": \"2020-07-23T19:00:00\", \"Dry Bulb Temperature\": 18.8, \"diff\": 0.40000000000000213}, {\"datetime\": \"2020-07-23T20:00:00\", \"Dry Bulb Temperature\": 18.1, \"diff\": -0.6999999999999993}, {\"datetime\": \"2020-07-23T21:00:00\", \"Dry Bulb Temperature\": 17.8, \"diff\": -0.3000000000000007}, {\"datetime\": \"2020-07-23T22:00:00\", \"Dry Bulb Temperature\": 17.6, \"diff\": -0.1999999999999993}, {\"datetime\": \"2020-07-23T23:00:00\", \"Dry Bulb Temperature\": 17.4, \"diff\": -0.20000000000000284}, {\"datetime\": \"2020-07-24T00:00:00\", \"Dry Bulb Temperature\": 17.2, \"diff\": -0.1999999999999993}, {\"datetime\": \"2020-07-24T01:00:00\", \"Dry Bulb Temperature\": 16.9, \"diff\": -0.3000000000000007}, {\"datetime\": \"2020-07-24T02:00:00\", \"Dry Bulb Temperature\": 16.7, \"diff\": -0.1999999999999993}, {\"datetime\": \"2020-07-24T03:00:00\", \"Dry Bulb Temperature\": 16.5, \"diff\": -0.1999999999999993}, {\"datetime\": \"2020-07-24T04:00:00\", \"Dry Bulb Temperature\": 16.3, \"diff\": -0.1999999999999993}, {\"datetime\": \"2020-07-24T05:00:00\", \"Dry Bulb Temperature\": 17.2, \"diff\": 0.8999999999999986}, {\"datetime\": \"2020-07-24T06:00:00\", \"Dry Bulb Temperature\": 17.0, \"diff\": -0.1999999999999993}, {\"datetime\": \"2020-07-24T07:00:00\", \"Dry Bulb Temperature\": 17.2, \"diff\": 0.1999999999999993}, {\"datetime\": \"2020-07-24T08:00:00\", \"Dry Bulb Temperature\": 18.2, \"diff\": 1.0}, {\"datetime\": \"2020-07-24T09:00:00\", \"Dry Bulb Temperature\": 19.0, \"diff\": 0.8000000000000007}, {\"datetime\": \"2020-07-24T10:00:00\", \"Dry Bulb Temperature\": 19.0, \"diff\": 0.0}, {\"datetime\": \"2020-07-24T11:00:00\", \"Dry Bulb Temperature\": 19.2, \"diff\": 0.1999999999999993}, {\"datetime\": \"2020-07-24T12:00:00\", \"Dry Bulb Temperature\": 20.2, \"diff\": 1.0}, {\"datetime\": \"2020-07-24T13:00:00\", \"Dry Bulb Temperature\": 20.8, \"diff\": 0.6000000000000014}, {\"datetime\": \"2020-07-24T14:00:00\", \"Dry Bulb Temperature\": 20.2, \"diff\": -0.6000000000000014}, {\"datetime\": \"2020-07-24T15:00:00\", \"Dry Bulb Temperature\": 20.1, \"diff\": -0.09999999999999787}, {\"datetime\": \"2020-07-24T16:00:00\", \"Dry Bulb Temperature\": 19.8, \"diff\": -0.3000000000000007}, {\"datetime\": \"2020-07-24T17:00:00\", \"Dry Bulb Temperature\": 19.7, \"diff\": -0.10000000000000142}, {\"datetime\": \"2020-07-24T18:00:00\", \"Dry Bulb Temperature\": 18.0, \"diff\": -1.6999999999999993}, {\"datetime\": \"2020-07-24T19:00:00\", \"Dry Bulb Temperature\": 18.4, \"diff\": 0.3999999999999986}, {\"datetime\": \"2020-07-24T20:00:00\", \"Dry Bulb Temperature\": 17.8, \"diff\": -0.5999999999999979}, {\"datetime\": \"2020-07-24T21:00:00\", \"Dry Bulb Temperature\": 17.6, \"diff\": -0.1999999999999993}, {\"datetime\": \"2020-07-24T22:00:00\", \"Dry Bulb Temperature\": 17.4, \"diff\": -0.20000000000000284}, {\"datetime\": \"2020-07-24T23:00:00\", \"Dry Bulb Temperature\": 17.2, \"diff\": -0.1999999999999993}, {\"datetime\": \"2020-07-25T00:00:00\", \"Dry Bulb Temperature\": 17.0, \"diff\": -0.1999999999999993}, {\"datetime\": \"2020-07-25T01:00:00\", \"Dry Bulb Temperature\": 16.8, \"diff\": -0.1999999999999993}, {\"datetime\": \"2020-07-25T02:00:00\", \"Dry Bulb Temperature\": 16.6, \"diff\": -0.1999999999999993}, {\"datetime\": \"2020-07-25T03:00:00\", \"Dry Bulb Temperature\": 16.4, \"diff\": -0.20000000000000284}, {\"datetime\": \"2020-07-25T04:00:00\", \"Dry Bulb Temperature\": 16.2, \"diff\": -0.1999999999999993}, {\"datetime\": \"2020-07-25T05:00:00\", \"Dry Bulb Temperature\": 17.2, \"diff\": 1.0}, {\"datetime\": \"2020-07-25T06:00:00\", \"Dry Bulb Temperature\": 17.0, \"diff\": -0.1999999999999993}, {\"datetime\": \"2020-07-25T07:00:00\", \"Dry Bulb Temperature\": 17.2, \"diff\": 0.1999999999999993}, {\"datetime\": \"2020-07-25T08:00:00\", \"Dry Bulb Temperature\": 18.2, \"diff\": 1.0}, {\"datetime\": \"2020-07-25T09:00:00\", \"Dry Bulb Temperature\": 19.4, \"diff\": 1.1999999999999993}, {\"datetime\": \"2020-07-25T10:00:00\", \"Dry Bulb Temperature\": 21.0, \"diff\": 1.6000000000000014}, {\"datetime\": \"2020-07-25T11:00:00\", \"Dry Bulb Temperature\": 22.3, \"diff\": 1.3000000000000007}, {\"datetime\": \"2020-07-25T12:00:00\", \"Dry Bulb Temperature\": 23.1, \"diff\": 0.8000000000000007}, {\"datetime\": \"2020-07-25T13:00:00\", \"Dry Bulb Temperature\": 23.4, \"diff\": 0.29999999999999716}, {\"datetime\": \"2020-07-25T14:00:00\", \"Dry Bulb Temperature\": 23.8, \"diff\": 0.40000000000000213}, {\"datetime\": \"2020-07-25T15:00:00\", \"Dry Bulb Temperature\": 22.8, \"diff\": -1.0}, {\"datetime\": \"2020-07-25T16:00:00\", \"Dry Bulb Temperature\": 21.8, \"diff\": -1.0}, {\"datetime\": \"2020-07-25T17:00:00\", \"Dry Bulb Temperature\": 21.6, \"diff\": -0.1999999999999993}, {\"datetime\": \"2020-07-25T18:00:00\", \"Dry Bulb Temperature\": 19.8, \"diff\": -1.8000000000000007}, {\"datetime\": \"2020-07-25T19:00:00\", \"Dry Bulb Temperature\": 20.1, \"diff\": 0.3000000000000007}, {\"datetime\": \"2020-07-25T20:00:00\", \"Dry Bulb Temperature\": 19.4, \"diff\": -0.7000000000000028}, {\"datetime\": \"2020-07-25T21:00:00\", \"Dry Bulb Temperature\": 19.1, \"diff\": -0.29999999999999716}, {\"datetime\": \"2020-07-25T22:00:00\", \"Dry Bulb Temperature\": 18.8, \"diff\": -0.3000000000000007}, {\"datetime\": \"2020-07-25T23:00:00\", \"Dry Bulb Temperature\": 18.5, \"diff\": -0.3000000000000007}, {\"datetime\": \"2020-07-26T00:00:00\", \"Dry Bulb Temperature\": 18.2, \"diff\": -0.3000000000000007}, {\"datetime\": \"2020-07-26T01:00:00\", \"Dry Bulb Temperature\": 17.9, \"diff\": -0.3000000000000007}, {\"datetime\": \"2020-07-26T02:00:00\", \"Dry Bulb Temperature\": 17.6, \"diff\": -0.29999999999999716}, {\"datetime\": \"2020-07-26T03:00:00\", \"Dry Bulb Temperature\": 17.3, \"diff\": -0.3000000000000007}, {\"datetime\": \"2020-07-26T04:00:00\", \"Dry Bulb Temperature\": 17.0, \"diff\": -0.3000000000000007}, {\"datetime\": \"2020-07-26T05:00:00\", \"Dry Bulb Temperature\": 17.8, \"diff\": 0.8000000000000007}, {\"datetime\": \"2020-07-26T06:00:00\", \"Dry Bulb Temperature\": 17.6, \"diff\": -0.1999999999999993}, {\"datetime\": \"2020-07-26T07:00:00\", \"Dry Bulb Temperature\": 17.7, \"diff\": 0.09999999999999787}, {\"datetime\": \"2020-07-26T08:00:00\", \"Dry Bulb Temperature\": 18.6, \"diff\": 0.9000000000000021}, {\"datetime\": \"2020-07-26T09:00:00\", \"Dry Bulb Temperature\": 19.7, \"diff\": 1.0999999999999979}, {\"datetime\": \"2020-07-26T10:00:00\", \"Dry Bulb Temperature\": 21.4, \"diff\": 1.6999999999999993}, {\"datetime\": \"2020-07-26T11:00:00\", \"Dry Bulb Temperature\": 22.0, \"diff\": 0.6000000000000014}, {\"datetime\": \"2020-07-26T12:00:00\", \"Dry Bulb Temperature\": 22.2, \"diff\": 0.1999999999999993}, {\"datetime\": \"2020-07-26T13:00:00\", \"Dry Bulb Temperature\": 23.0, \"diff\": 0.8000000000000007}, {\"datetime\": \"2020-07-26T14:00:00\", \"Dry Bulb Temperature\": 22.8, \"diff\": -0.1999999999999993}, {\"datetime\": \"2020-07-26T15:00:00\", \"Dry Bulb Temperature\": 21.8, \"diff\": -1.0}, {\"datetime\": \"2020-07-26T16:00:00\", \"Dry Bulb Temperature\": 20.8, \"diff\": -1.0}, {\"datetime\": \"2020-07-26T17:00:00\", \"Dry Bulb Temperature\": 20.7, \"diff\": -0.10000000000000142}, {\"datetime\": \"2020-07-26T18:00:00\", \"Dry Bulb Temperature\": 18.9, \"diff\": -1.8000000000000007}, {\"datetime\": \"2020-07-26T19:00:00\", \"Dry Bulb Temperature\": 19.3, \"diff\": 0.40000000000000213}, {\"datetime\": \"2020-07-26T20:00:00\", \"Dry Bulb Temperature\": 18.5, \"diff\": -0.8000000000000007}, {\"datetime\": \"2020-07-26T21:00:00\", \"Dry Bulb Temperature\": 18.3, \"diff\": -0.1999999999999993}, {\"datetime\": \"2020-07-26T22:00:00\", \"Dry Bulb Temperature\": 18.0, \"diff\": -0.3000000000000007}, {\"datetime\": \"2020-07-26T23:00:00\", \"Dry Bulb Temperature\": 17.7, \"diff\": -0.3000000000000007}, {\"datetime\": \"2020-07-27T00:00:00\", \"Dry Bulb Temperature\": 17.4, \"diff\": -0.3000000000000007}, {\"datetime\": \"2020-07-27T01:00:00\", \"Dry Bulb Temperature\": 17.2, \"diff\": -0.1999999999999993}, {\"datetime\": \"2020-07-27T02:00:00\", \"Dry Bulb Temperature\": 16.9, \"diff\": -0.3000000000000007}, {\"datetime\": \"2020-07-27T03:00:00\", \"Dry Bulb Temperature\": 16.6, \"diff\": -0.29999999999999716}, {\"datetime\": \"2020-07-27T04:00:00\", \"Dry Bulb Temperature\": 16.4, \"diff\": -0.20000000000000284}, {\"datetime\": \"2020-07-27T05:00:00\", \"Dry Bulb Temperature\": 17.2, \"diff\": 0.8000000000000007}, {\"datetime\": \"2020-07-27T06:00:00\", \"Dry Bulb Temperature\": 17.0, \"diff\": -0.1999999999999993}, {\"datetime\": \"2020-07-27T07:00:00\", \"Dry Bulb Temperature\": 17.5, \"diff\": 0.5}, {\"datetime\": \"2020-07-27T08:00:00\", \"Dry Bulb Temperature\": 18.2, \"diff\": 0.6999999999999993}, {\"datetime\": \"2020-07-27T09:00:00\", \"Dry Bulb Temperature\": 19.1, \"diff\": 0.9000000000000021}, {\"datetime\": \"2020-07-27T10:00:00\", \"Dry Bulb Temperature\": 20.2, \"diff\": 1.0999999999999979}, {\"datetime\": \"2020-07-27T11:00:00\", \"Dry Bulb Temperature\": 21.2, \"diff\": 1.0}, {\"datetime\": \"2020-07-27T12:00:00\", \"Dry Bulb Temperature\": 22.0, \"diff\": 0.8000000000000007}, {\"datetime\": \"2020-07-27T13:00:00\", \"Dry Bulb Temperature\": 22.0, \"diff\": 0.0}, {\"datetime\": \"2020-07-27T14:00:00\", \"Dry Bulb Temperature\": 22.0, \"diff\": 0.0}, {\"datetime\": \"2020-07-27T15:00:00\", \"Dry Bulb Temperature\": 21.6, \"diff\": -0.3999999999999986}, {\"datetime\": \"2020-07-27T16:00:00\", \"Dry Bulb Temperature\": 19.8, \"diff\": -1.8000000000000007}, {\"datetime\": \"2020-07-27T17:00:00\", \"Dry Bulb Temperature\": 19.7, \"diff\": -0.10000000000000142}, {\"datetime\": \"2020-07-27T18:00:00\", \"Dry Bulb Temperature\": 18.0, \"diff\": -1.6999999999999993}, {\"datetime\": \"2020-07-27T19:00:00\", \"Dry Bulb Temperature\": 18.4, \"diff\": 0.3999999999999986}, {\"datetime\": \"2020-07-27T20:00:00\", \"Dry Bulb Temperature\": 17.8, \"diff\": -0.5999999999999979}, {\"datetime\": \"2020-07-27T21:00:00\", \"Dry Bulb Temperature\": 17.6, \"diff\": -0.1999999999999993}, {\"datetime\": \"2020-07-27T22:00:00\", \"Dry Bulb Temperature\": 17.4, \"diff\": -0.20000000000000284}, {\"datetime\": \"2020-07-27T23:00:00\", \"Dry Bulb Temperature\": 17.2, \"diff\": -0.1999999999999993}, {\"datetime\": \"2020-07-28T00:00:00\", \"Dry Bulb Temperature\": 17.0, \"diff\": -0.1999999999999993}, {\"datetime\": \"2020-07-28T01:00:00\", \"Dry Bulb Temperature\": 16.8, \"diff\": -0.1999999999999993}, {\"datetime\": \"2020-07-28T02:00:00\", \"Dry Bulb Temperature\": 16.6, \"diff\": -0.1999999999999993}, {\"datetime\": \"2020-07-28T03:00:00\", \"Dry Bulb Temperature\": 16.4, \"diff\": -0.20000000000000284}, {\"datetime\": \"2020-07-28T04:00:00\", \"Dry Bulb Temperature\": 16.2, \"diff\": -0.1999999999999993}, {\"datetime\": \"2020-07-28T05:00:00\", \"Dry Bulb Temperature\": 17.2, \"diff\": 1.0}, {\"datetime\": \"2020-07-28T06:00:00\", \"Dry Bulb Temperature\": 17.0, \"diff\": -0.1999999999999993}, {\"datetime\": \"2020-07-28T07:00:00\", \"Dry Bulb Temperature\": 17.0, \"diff\": 0.0}, {\"datetime\": \"2020-07-28T08:00:00\", \"Dry Bulb Temperature\": 17.2, \"diff\": 0.1999999999999993}, {\"datetime\": \"2020-07-28T09:00:00\", \"Dry Bulb Temperature\": 17.6, \"diff\": 0.40000000000000213}, {\"datetime\": \"2020-07-28T10:00:00\", \"Dry Bulb Temperature\": 17.9, \"diff\": 0.29999999999999716}, {\"datetime\": \"2020-07-28T11:00:00\", \"Dry Bulb Temperature\": 18.6, \"diff\": 0.7000000000000028}, {\"datetime\": \"2020-07-28T12:00:00\", \"Dry Bulb Temperature\": 19.4, \"diff\": 0.7999999999999972}, {\"datetime\": \"2020-07-28T13:00:00\", \"Dry Bulb Temperature\": 21.0, \"diff\": 1.6000000000000014}, {\"datetime\": \"2020-07-28T14:00:00\", \"Dry Bulb Temperature\": 21.0, \"diff\": 0.0}, {\"datetime\": \"2020-07-28T15:00:00\", \"Dry Bulb Temperature\": 20.8, \"diff\": -0.1999999999999993}, {\"datetime\": \"2020-07-28T16:00:00\", \"Dry Bulb Temperature\": 19.8, \"diff\": -1.0}, {\"datetime\": \"2020-07-28T17:00:00\", \"Dry Bulb Temperature\": 19.6, \"diff\": -0.1999999999999993}, {\"datetime\": \"2020-07-28T18:00:00\", \"Dry Bulb Temperature\": 17.9, \"diff\": -1.7000000000000028}, {\"datetime\": \"2020-07-28T19:00:00\", \"Dry Bulb Temperature\": 18.2, \"diff\": 0.3000000000000007}, {\"datetime\": \"2020-07-28T20:00:00\", \"Dry Bulb Temperature\": 17.5, \"diff\": -0.6999999999999993}, {\"datetime\": \"2020-07-28T21:00:00\", \"Dry Bulb Temperature\": 17.2, \"diff\": -0.3000000000000007}, {\"datetime\": \"2020-07-28T22:00:00\", \"Dry Bulb Temperature\": 17.0, \"diff\": -0.1999999999999993}, {\"datetime\": \"2020-07-28T23:00:00\", \"Dry Bulb Temperature\": 16.7, \"diff\": -0.3000000000000007}, {\"datetime\": \"2020-07-29T00:00:00\", \"Dry Bulb Temperature\": 16.4, \"diff\": -0.3000000000000007}, {\"datetime\": \"2020-07-29T01:00:00\", \"Dry Bulb Temperature\": 16.1, \"diff\": -0.29999999999999716}, {\"datetime\": \"2020-07-29T02:00:00\", \"Dry Bulb Temperature\": 15.9, \"diff\": -0.20000000000000107}, {\"datetime\": \"2020-07-29T03:00:00\", \"Dry Bulb Temperature\": 15.6, \"diff\": -0.3000000000000007}, {\"datetime\": \"2020-07-29T04:00:00\", \"Dry Bulb Temperature\": 15.3, \"diff\": -0.29999999999999893}, {\"datetime\": \"2020-07-29T05:00:00\", \"Dry Bulb Temperature\": 16.2, \"diff\": 0.8999999999999986}, {\"datetime\": \"2020-07-29T06:00:00\", \"Dry Bulb Temperature\": 16.0, \"diff\": -0.1999999999999993}, {\"datetime\": \"2020-07-29T07:00:00\", \"Dry Bulb Temperature\": 16.2, \"diff\": 0.1999999999999993}, {\"datetime\": \"2020-07-29T08:00:00\", \"Dry Bulb Temperature\": 17.2, \"diff\": 1.0}, {\"datetime\": \"2020-07-29T09:00:00\", \"Dry Bulb Temperature\": 18.2, \"diff\": 1.0}, {\"datetime\": \"2020-07-29T10:00:00\", \"Dry Bulb Temperature\": 19.0, \"diff\": 0.8000000000000007}, {\"datetime\": \"2020-07-29T11:00:00\", \"Dry Bulb Temperature\": 19.4, \"diff\": 0.3999999999999986}, {\"datetime\": \"2020-07-29T12:00:00\", \"Dry Bulb Temperature\": 21.2, \"diff\": 1.8000000000000007}, {\"datetime\": \"2020-07-29T13:00:00\", \"Dry Bulb Temperature\": 21.7, \"diff\": 0.5}, {\"datetime\": \"2020-07-29T14:00:00\", \"Dry Bulb Temperature\": 21.4, \"diff\": -0.3000000000000007}, {\"datetime\": \"2020-07-29T15:00:00\", \"Dry Bulb Temperature\": 20.5, \"diff\": -0.8999999999999986}, {\"datetime\": \"2020-07-29T16:00:00\", \"Dry Bulb Temperature\": 19.8, \"diff\": -0.6999999999999993}, {\"datetime\": \"2020-07-29T17:00:00\", \"Dry Bulb Temperature\": 19.6, \"diff\": -0.1999999999999993}, {\"datetime\": \"2020-07-29T18:00:00\", \"Dry Bulb Temperature\": 17.9, \"diff\": -1.7000000000000028}, {\"datetime\": \"2020-07-29T19:00:00\", \"Dry Bulb Temperature\": 18.2, \"diff\": 0.3000000000000007}, {\"datetime\": \"2020-07-29T20:00:00\", \"Dry Bulb Temperature\": 17.5, \"diff\": -0.6999999999999993}, {\"datetime\": \"2020-07-29T21:00:00\", \"Dry Bulb Temperature\": 17.2, \"diff\": -0.3000000000000007}, {\"datetime\": \"2020-07-29T22:00:00\", \"Dry Bulb Temperature\": 17.0, \"diff\": -0.1999999999999993}, {\"datetime\": \"2020-07-29T23:00:00\", \"Dry Bulb Temperature\": 16.7, \"diff\": -0.3000000000000007}]}}, {\"mode\": \"vega-lite\"});\n",
       "</script>"
      ],
      "text/plain": [
       "alt.Chart(...)"
      ]
     },
     "execution_count": 61,
     "metadata": {},
     "output_type": "execute_result"
    }
   ],
   "source": [
    "hourly_deriv_df = june.with_columns(\n",
    "    diff=pl.col(\"Dry Bulb Temperature\").diff().fill_null(strategy=\"zero\")\n",
    ")\n",
    "print(hourly_deriv_df.head())\n",
    "\n",
    "alt.Chart(hourly_deriv_df).mark_circle().encode(\n",
    "    alt.X(\"hours(datetime):T\"), alt.Y(\"diff\")\n",
    ")"
   ]
  },
  {
   "cell_type": "markdown",
   "metadata": {},
   "source": [
    "### correlation between morning temperature path and temp before T\\*\n"
   ]
  },
  {
   "cell_type": "code",
   "execution_count": null,
   "metadata": {},
   "outputs": [
    {
     "data": {
      "text/html": [
       "<div><style>\n",
       ".dataframe > thead > tr,\n",
       ".dataframe > tbody > tr {\n",
       "  text-align: right;\n",
       "  white-space: pre-wrap;\n",
       "}\n",
       "</style>\n",
       "<small>shape: (5, 4)</small><table border=\"1\" class=\"dataframe\"><thead><tr><th>date</th><th>0</th><th>4</th><th>deltaT</th></tr><tr><td>date</td><td>f64</td><td>f64</td><td>f64</td></tr></thead><tbody><tr><td>2020-07-01</td><td>17.6</td><td>15.4</td><td>2.2</td></tr><tr><td>2020-07-02</td><td>15.5</td><td>13.4</td><td>2.1</td></tr><tr><td>2020-07-03</td><td>15.8</td><td>14.3</td><td>1.5</td></tr><tr><td>2020-07-04</td><td>16.5</td><td>16.0</td><td>0.5</td></tr><tr><td>2020-07-05</td><td>19.2</td><td>17.3</td><td>1.9</td></tr></tbody></table></div>"
      ],
      "text/plain": [
       "shape: (5, 4)\n",
       "┌────────────┬──────┬──────┬────────┐\n",
       "│ date       ┆ 0    ┆ 4    ┆ deltaT │\n",
       "│ ---        ┆ ---  ┆ ---  ┆ ---    │\n",
       "│ date       ┆ f64  ┆ f64  ┆ f64    │\n",
       "╞════════════╪══════╪══════╪════════╡\n",
       "│ 2020-07-01 ┆ 17.6 ┆ 15.4 ┆ 2.2    │\n",
       "│ 2020-07-02 ┆ 15.5 ┆ 13.4 ┆ 2.1    │\n",
       "│ 2020-07-03 ┆ 15.8 ┆ 14.3 ┆ 1.5    │\n",
       "│ 2020-07-04 ┆ 16.5 ┆ 16.0 ┆ 0.5    │\n",
       "│ 2020-07-05 ┆ 19.2 ┆ 17.3 ┆ 1.9    │\n",
       "└────────────┴──────┴──────┴────────┘"
      ]
     },
     "execution_count": 59,
     "metadata": {},
     "output_type": "execute_result"
    }
   ],
   "source": [
    "morn_df = (\n",
    "    june.filter(\n",
    "        (pl.col(\"datetime\").dt.hour() == 0) | (pl.col(\"datetime\").dt.hour() == 4)\n",
    "    )\n",
    "    .with_columns(hour=pl.col(\"datetime\").dt.hour(), date=pl.col(\"datetime\").dt.date())\n",
    "    .pivot(on=\"hour\", index=\"date\", values=\"Dry Bulb Temperature\")\n",
    "    .with_columns(deltaT=pl.col(\"0\") - pl.col(\"4\"))\n",
    ")\n",
    "morn_df.head()"
   ]
  },
  {
   "cell_type": "code",
   "execution_count": null,
   "metadata": {},
   "outputs": [
    {
     "data": {
      "text/html": [
       "\n",
       "<style>\n",
       "  #altair-viz-a96e1026bf834fb9a29781993f5f2202.vega-embed {\n",
       "    width: 100%;\n",
       "    display: flex;\n",
       "  }\n",
       "\n",
       "  #altair-viz-a96e1026bf834fb9a29781993f5f2202.vega-embed details,\n",
       "  #altair-viz-a96e1026bf834fb9a29781993f5f2202.vega-embed details summary {\n",
       "    position: relative;\n",
       "  }\n",
       "</style>\n",
       "<div id=\"altair-viz-a96e1026bf834fb9a29781993f5f2202\"></div>\n",
       "<script type=\"text/javascript\">\n",
       "  var VEGA_DEBUG = (typeof VEGA_DEBUG == \"undefined\") ? {} : VEGA_DEBUG;\n",
       "  (function(spec, embedOpt){\n",
       "    let outputDiv = document.currentScript.previousElementSibling;\n",
       "    if (outputDiv.id !== \"altair-viz-a96e1026bf834fb9a29781993f5f2202\") {\n",
       "      outputDiv = document.getElementById(\"altair-viz-a96e1026bf834fb9a29781993f5f2202\");\n",
       "    }\n",
       "\n",
       "    const paths = {\n",
       "      \"vega\": \"https://cdn.jsdelivr.net/npm/vega@5?noext\",\n",
       "      \"vega-lib\": \"https://cdn.jsdelivr.net/npm/vega-lib?noext\",\n",
       "      \"vega-lite\": \"https://cdn.jsdelivr.net/npm/vega-lite@5.20.1?noext\",\n",
       "      \"vega-embed\": \"https://cdn.jsdelivr.net/npm/vega-embed@6?noext\",\n",
       "    };\n",
       "\n",
       "    function maybeLoadScript(lib, version) {\n",
       "      var key = `${lib.replace(\"-\", \"\")}_version`;\n",
       "      return (VEGA_DEBUG[key] == version) ?\n",
       "        Promise.resolve(paths[lib]) :\n",
       "        new Promise(function(resolve, reject) {\n",
       "          var s = document.createElement('script');\n",
       "          document.getElementsByTagName(\"head\")[0].appendChild(s);\n",
       "          s.async = true;\n",
       "          s.onload = () => {\n",
       "            VEGA_DEBUG[key] = version;\n",
       "            return resolve(paths[lib]);\n",
       "          };\n",
       "          s.onerror = () => reject(`Error loading script: ${paths[lib]}`);\n",
       "          s.src = paths[lib];\n",
       "        });\n",
       "    }\n",
       "\n",
       "    function showError(err) {\n",
       "      outputDiv.innerHTML = `<div class=\"error\" style=\"color:red;\">${err}</div>`;\n",
       "      throw err;\n",
       "    }\n",
       "\n",
       "    function displayChart(vegaEmbed) {\n",
       "      vegaEmbed(outputDiv, spec, embedOpt)\n",
       "        .catch(err => showError(`Javascript Error: ${err.message}<br>This usually means there's a typo in your chart specification. See the javascript console for the full traceback.`));\n",
       "    }\n",
       "\n",
       "    if(typeof define === \"function\" && define.amd) {\n",
       "      requirejs.config({paths});\n",
       "      let deps = [\"vega-embed\"];\n",
       "      require(deps, displayChart, err => showError(`Error loading script: ${err.message}`));\n",
       "    } else {\n",
       "      maybeLoadScript(\"vega\", \"5\")\n",
       "        .then(() => maybeLoadScript(\"vega-lite\", \"5.20.1\"))\n",
       "        .then(() => maybeLoadScript(\"vega-embed\", \"6\"))\n",
       "        .catch(showError)\n",
       "        .then(() => displayChart(vegaEmbed));\n",
       "    }\n",
       "  })({\"config\": {\"view\": {\"continuousWidth\": 300, \"continuousHeight\": 300}}, \"data\": {\"name\": \"data-2164d5827027c83992f7c3f78b3fd526\"}, \"mark\": {\"type\": \"circle\"}, \"encoding\": {\"x\": {\"field\": \"0\", \"scale\": {\"zero\": false}, \"type\": \"quantitative\"}, \"y\": {\"field\": \"deltaT\", \"scale\": {\"zero\": false}, \"type\": \"quantitative\"}}, \"$schema\": \"https://vega.github.io/schema/vega-lite/v5.20.1.json\", \"datasets\": {\"data-2164d5827027c83992f7c3f78b3fd526\": [{\"date\": \"2020-07-01T00:00:00\", \"0\": 17.6, \"4\": 15.4, \"deltaT\": 2.200000000000001}, {\"date\": \"2020-07-02T00:00:00\", \"0\": 15.5, \"4\": 13.4, \"deltaT\": 2.0999999999999996}, {\"date\": \"2020-07-03T00:00:00\", \"0\": 15.8, \"4\": 14.3, \"deltaT\": 1.5}, {\"date\": \"2020-07-04T00:00:00\", \"0\": 16.5, \"4\": 16.0, \"deltaT\": 0.5}, {\"date\": \"2020-07-05T00:00:00\", \"0\": 19.2, \"4\": 17.3, \"deltaT\": 1.8999999999999986}, {\"date\": \"2020-07-06T00:00:00\", \"0\": 18.1, \"4\": 15.5, \"deltaT\": 2.6000000000000014}, {\"date\": \"2020-07-07T00:00:00\", \"0\": 17.3, \"4\": 15.1, \"deltaT\": 2.200000000000001}, {\"date\": \"2020-07-08T00:00:00\", \"0\": 17.0, \"4\": 15.3, \"deltaT\": 1.6999999999999993}, {\"date\": \"2020-07-09T00:00:00\", \"0\": 17.2, \"4\": 15.3, \"deltaT\": 1.8999999999999986}, {\"date\": \"2020-07-10T00:00:00\", \"0\": 18.2, \"4\": 16.3, \"deltaT\": 1.8999999999999986}, {\"date\": \"2020-07-11T00:00:00\", \"0\": 18.2, \"4\": 17.1, \"deltaT\": 1.0999999999999979}, {\"date\": \"2020-07-12T00:00:00\", \"0\": 18.9, \"4\": 17.3, \"deltaT\": 1.5999999999999979}, {\"date\": \"2020-07-13T00:00:00\", \"0\": 17.9, \"4\": 16.3, \"deltaT\": 1.5999999999999979}, {\"date\": \"2020-07-14T00:00:00\", \"0\": 15.7, \"4\": 15.0, \"deltaT\": 0.6999999999999993}, {\"date\": \"2020-07-15T00:00:00\", \"0\": 16.2, \"4\": 15.1, \"deltaT\": 1.0999999999999996}, {\"date\": \"2020-07-16T00:00:00\", \"0\": 16.3, \"4\": 15.1, \"deltaT\": 1.200000000000001}, {\"date\": \"2020-07-17T00:00:00\", \"0\": 16.1, \"4\": 15.9, \"deltaT\": 0.20000000000000107}, {\"date\": \"2020-07-18T00:00:00\", \"0\": 17.7, \"4\": 16.4, \"deltaT\": 1.3000000000000007}, {\"date\": \"2020-07-19T00:00:00\", \"0\": 17.7, \"4\": 16.9, \"deltaT\": 0.8000000000000007}, {\"date\": \"2020-07-20T00:00:00\", \"0\": 17.3, \"4\": 16.3, \"deltaT\": 1.0}, {\"date\": \"2020-07-21T00:00:00\", \"0\": 16.6, \"4\": 16.1, \"deltaT\": 0.5}, {\"date\": \"2020-07-22T00:00:00\", \"0\": 16.3, \"4\": 15.3, \"deltaT\": 1.0}, {\"date\": \"2020-07-23T00:00:00\", \"0\": 17.3, \"4\": 15.6, \"deltaT\": 1.700000000000001}, {\"date\": \"2020-07-24T00:00:00\", \"0\": 17.2, \"4\": 16.3, \"deltaT\": 0.8999999999999986}, {\"date\": \"2020-07-25T00:00:00\", \"0\": 17.0, \"4\": 16.2, \"deltaT\": 0.8000000000000007}, {\"date\": \"2020-07-26T00:00:00\", \"0\": 18.2, \"4\": 17.0, \"deltaT\": 1.1999999999999993}, {\"date\": \"2020-07-27T00:00:00\", \"0\": 17.4, \"4\": 16.4, \"deltaT\": 1.0}, {\"date\": \"2020-07-28T00:00:00\", \"0\": 17.0, \"4\": 16.2, \"deltaT\": 0.8000000000000007}, {\"date\": \"2020-07-29T00:00:00\", \"0\": 16.4, \"4\": 15.3, \"deltaT\": 1.0999999999999979}]}}, {\"mode\": \"vega-lite\"});\n",
       "</script>"
      ],
      "text/plain": [
       "alt.Chart(...)"
      ]
     },
     "execution_count": 60,
     "metadata": {},
     "output_type": "execute_result"
    }
   ],
   "source": [
    "alt.Chart(morn_df).mark_circle().encode(\n",
    "    alt.X(\"0:Q\").scale(zero=False), alt.Y(\"deltaT:Q\").scale(zero=False)\n",
    ")"
   ]
  },
  {
   "cell_type": "markdown",
   "metadata": {},
   "source": [
    "### Relationship between values around T\\* and peak temp\n"
   ]
  },
  {
   "cell_type": "code",
   "execution_count": 127,
   "metadata": {},
   "outputs": [
    {
     "data": {
      "text/html": [
       "<div><style>\n",
       ".dataframe > thead > tr,\n",
       ".dataframe > tbody > tr {\n",
       "  text-align: right;\n",
       "  white-space: pre-wrap;\n",
       "}\n",
       "</style>\n",
       "<small>shape: (5, 3)</small><table border=\"1\" class=\"dataframe\"><thead><tr><th>datetime</th><th>deriv at 0am</th><th>max temp</th></tr><tr><td>date</td><td>f64</td><td>f64</td></tr></thead><tbody><tr><td>2020-07-01</td><td>0.0</td><td>24.0</td></tr><tr><td>2020-07-02</td><td>-0.5</td><td>23.0</td></tr><tr><td>2020-07-03</td><td>-0.4</td><td>21.0</td></tr><tr><td>2020-07-04</td><td>-0.2</td><td>27.0</td></tr><tr><td>2020-07-05</td><td>-0.5</td><td>27.6</td></tr></tbody></table></div>"
      ],
      "text/plain": [
       "shape: (5, 3)\n",
       "┌────────────┬──────────────┬──────────┐\n",
       "│ datetime   ┆ deriv at 0am ┆ max temp │\n",
       "│ ---        ┆ ---          ┆ ---      │\n",
       "│ date       ┆ f64          ┆ f64      │\n",
       "╞════════════╪══════════════╪══════════╡\n",
       "│ 2020-07-01 ┆ 0.0          ┆ 24.0     │\n",
       "│ 2020-07-02 ┆ -0.5         ┆ 23.0     │\n",
       "│ 2020-07-03 ┆ -0.4         ┆ 21.0     │\n",
       "│ 2020-07-04 ┆ -0.2         ┆ 27.0     │\n",
       "│ 2020-07-05 ┆ -0.5         ┆ 27.6     │\n",
       "└────────────┴──────────────┴──────────┘"
      ]
     },
     "execution_count": 127,
     "metadata": {},
     "output_type": "execute_result"
    }
   ],
   "source": [
    "t_star = 0\n",
    "tstar_peak_df = hourly_deriv_df.group_by(\n",
    "    pl.col(\"datetime\").dt.date(), maintain_order=True\n",
    ").agg(\n",
    "    pl.col(\"diff\")\n",
    "    .filter(pl.col(\"datetime\").dt.hour() == t_star)\n",
    "    .first()\n",
    "    .alias(f\"deriv at {t_star}am\"),\n",
    "    pl.col(\"Dry Bulb Temperature\").max().alias(\"max temp\"),\n",
    ")\n",
    "tstar_peak_df.head()"
   ]
  },
  {
   "cell_type": "code",
   "execution_count": 128,
   "metadata": {},
   "outputs": [
    {
     "data": {
      "text/html": [
       "\n",
       "<style>\n",
       "  #altair-viz-64f23da166cd409b83aef5508e8c5f3e.vega-embed {\n",
       "    width: 100%;\n",
       "    display: flex;\n",
       "  }\n",
       "\n",
       "  #altair-viz-64f23da166cd409b83aef5508e8c5f3e.vega-embed details,\n",
       "  #altair-viz-64f23da166cd409b83aef5508e8c5f3e.vega-embed details summary {\n",
       "    position: relative;\n",
       "  }\n",
       "</style>\n",
       "<div id=\"altair-viz-64f23da166cd409b83aef5508e8c5f3e\"></div>\n",
       "<script type=\"text/javascript\">\n",
       "  var VEGA_DEBUG = (typeof VEGA_DEBUG == \"undefined\") ? {} : VEGA_DEBUG;\n",
       "  (function(spec, embedOpt){\n",
       "    let outputDiv = document.currentScript.previousElementSibling;\n",
       "    if (outputDiv.id !== \"altair-viz-64f23da166cd409b83aef5508e8c5f3e\") {\n",
       "      outputDiv = document.getElementById(\"altair-viz-64f23da166cd409b83aef5508e8c5f3e\");\n",
       "    }\n",
       "\n",
       "    const paths = {\n",
       "      \"vega\": \"https://cdn.jsdelivr.net/npm/vega@5?noext\",\n",
       "      \"vega-lib\": \"https://cdn.jsdelivr.net/npm/vega-lib?noext\",\n",
       "      \"vega-lite\": \"https://cdn.jsdelivr.net/npm/vega-lite@5.20.1?noext\",\n",
       "      \"vega-embed\": \"https://cdn.jsdelivr.net/npm/vega-embed@6?noext\",\n",
       "    };\n",
       "\n",
       "    function maybeLoadScript(lib, version) {\n",
       "      var key = `${lib.replace(\"-\", \"\")}_version`;\n",
       "      return (VEGA_DEBUG[key] == version) ?\n",
       "        Promise.resolve(paths[lib]) :\n",
       "        new Promise(function(resolve, reject) {\n",
       "          var s = document.createElement('script');\n",
       "          document.getElementsByTagName(\"head\")[0].appendChild(s);\n",
       "          s.async = true;\n",
       "          s.onload = () => {\n",
       "            VEGA_DEBUG[key] = version;\n",
       "            return resolve(paths[lib]);\n",
       "          };\n",
       "          s.onerror = () => reject(`Error loading script: ${paths[lib]}`);\n",
       "          s.src = paths[lib];\n",
       "        });\n",
       "    }\n",
       "\n",
       "    function showError(err) {\n",
       "      outputDiv.innerHTML = `<div class=\"error\" style=\"color:red;\">${err}</div>`;\n",
       "      throw err;\n",
       "    }\n",
       "\n",
       "    function displayChart(vegaEmbed) {\n",
       "      vegaEmbed(outputDiv, spec, embedOpt)\n",
       "        .catch(err => showError(`Javascript Error: ${err.message}<br>This usually means there's a typo in your chart specification. See the javascript console for the full traceback.`));\n",
       "    }\n",
       "\n",
       "    if(typeof define === \"function\" && define.amd) {\n",
       "      requirejs.config({paths});\n",
       "      let deps = [\"vega-embed\"];\n",
       "      require(deps, displayChart, err => showError(`Error loading script: ${err.message}`));\n",
       "    } else {\n",
       "      maybeLoadScript(\"vega\", \"5\")\n",
       "        .then(() => maybeLoadScript(\"vega-lite\", \"5.20.1\"))\n",
       "        .then(() => maybeLoadScript(\"vega-embed\", \"6\"))\n",
       "        .catch(showError)\n",
       "        .then(() => displayChart(vegaEmbed));\n",
       "    }\n",
       "  })({\"config\": {\"view\": {\"continuousWidth\": 300, \"continuousHeight\": 300}}, \"data\": {\"name\": \"data-59c269e97a62252a5ac731e81fdaf350\"}, \"mark\": {\"type\": \"circle\"}, \"encoding\": {\"x\": {\"field\": \"deriv at 0am\", \"scale\": {\"zero\": false}, \"type\": \"quantitative\"}, \"y\": {\"field\": \"max temp\", \"scale\": {\"zero\": false}, \"type\": \"quantitative\"}}, \"$schema\": \"https://vega.github.io/schema/vega-lite/v5.20.1.json\", \"datasets\": {\"data-59c269e97a62252a5ac731e81fdaf350\": [{\"datetime\": \"2020-07-01T00:00:00\", \"deriv at 0am\": 0.0, \"max temp\": 24.0}, {\"datetime\": \"2020-07-02T00:00:00\", \"deriv at 0am\": -0.5, \"max temp\": 23.0}, {\"datetime\": \"2020-07-03T00:00:00\", \"deriv at 0am\": -0.3999999999999986, \"max temp\": 21.0}, {\"datetime\": \"2020-07-04T00:00:00\", \"deriv at 0am\": -0.1999999999999993, \"max temp\": 27.0}, {\"datetime\": \"2020-07-05T00:00:00\", \"deriv at 0am\": -0.5, \"max temp\": 27.6}, {\"datetime\": \"2020-07-06T00:00:00\", \"deriv at 0am\": -0.5999999999999979, \"max temp\": 26.0}, {\"datetime\": \"2020-07-07T00:00:00\", \"deriv at 0am\": -0.5999999999999979, \"max temp\": 24.4}, {\"datetime\": \"2020-07-08T00:00:00\", \"deriv at 0am\": -0.3999999999999986, \"max temp\": 24.9}, {\"datetime\": \"2020-07-09T00:00:00\", \"deriv at 0am\": -0.40000000000000213, \"max temp\": 26.1}, {\"datetime\": \"2020-07-10T00:00:00\", \"deriv at 0am\": -0.5, \"max temp\": 24.0}, {\"datetime\": \"2020-07-11T00:00:00\", \"deriv at 0am\": -0.3000000000000007, \"max temp\": 26.0}, {\"datetime\": \"2020-07-12T00:00:00\", \"deriv at 0am\": -0.40000000000000213, \"max temp\": 27.0}, {\"datetime\": \"2020-07-13T00:00:00\", \"deriv at 0am\": -0.40000000000000213, \"max temp\": 22.0}, {\"datetime\": \"2020-07-14T00:00:00\", \"deriv at 0am\": -0.20000000000000107, \"max temp\": 23.6}, {\"datetime\": \"2020-07-15T00:00:00\", \"deriv at 0am\": -0.3000000000000007, \"max temp\": 23.8}, {\"datetime\": \"2020-07-16T00:00:00\", \"deriv at 0am\": -0.3000000000000007, \"max temp\": 21.0}, {\"datetime\": \"2020-07-17T00:00:00\", \"deriv at 0am\": 0.0, \"max temp\": 24.0}, {\"datetime\": \"2020-07-18T00:00:00\", \"deriv at 0am\": -0.3000000000000007, \"max temp\": 23.0}, {\"datetime\": \"2020-07-19T00:00:00\", \"deriv at 0am\": -0.3000000000000007, \"max temp\": 21.8}, {\"datetime\": \"2020-07-20T00:00:00\", \"deriv at 0am\": -0.3000000000000007, \"max temp\": 20.8}, {\"datetime\": \"2020-07-21T00:00:00\", \"deriv at 0am\": -0.09999999999999787, \"max temp\": 21.0}, {\"datetime\": \"2020-07-22T00:00:00\", \"deriv at 0am\": -0.3000000000000007, \"max temp\": 24.0}, {\"datetime\": \"2020-07-23T00:00:00\", \"deriv at 0am\": -0.3999999999999986, \"max temp\": 22.7}, {\"datetime\": \"2020-07-24T00:00:00\", \"deriv at 0am\": -0.1999999999999993, \"max temp\": 20.8}, {\"datetime\": \"2020-07-25T00:00:00\", \"deriv at 0am\": -0.1999999999999993, \"max temp\": 23.8}, {\"datetime\": \"2020-07-26T00:00:00\", \"deriv at 0am\": -0.3000000000000007, \"max temp\": 23.0}, {\"datetime\": \"2020-07-27T00:00:00\", \"deriv at 0am\": -0.3000000000000007, \"max temp\": 22.0}, {\"datetime\": \"2020-07-28T00:00:00\", \"deriv at 0am\": -0.1999999999999993, \"max temp\": 21.0}, {\"datetime\": \"2020-07-29T00:00:00\", \"deriv at 0am\": -0.3000000000000007, \"max temp\": 21.7}]}}, {\"mode\": \"vega-lite\"});\n",
       "</script>"
      ],
      "text/plain": [
       "alt.Chart(...)"
      ]
     },
     "execution_count": 128,
     "metadata": {},
     "output_type": "execute_result"
    }
   ],
   "source": [
    "alt.Chart(tstar_peak_df).mark_circle().encode(\n",
    "    alt.X(f\"deriv at {t_star}am:Q\").scale(zero=False),\n",
    "    alt.Y(\"max temp:Q\").scale(zero=False),\n",
    ")"
   ]
  },
  {
   "cell_type": "code",
   "execution_count": 130,
   "metadata": {},
   "outputs": [
    {
     "data": {
      "text/html": [
       "<div><style>\n",
       ".dataframe > thead > tr,\n",
       ".dataframe > tbody > tr {\n",
       "  text-align: right;\n",
       "  white-space: pre-wrap;\n",
       "}\n",
       "</style>\n",
       "<small>shape: (5, 3)</small><table border=\"1\" class=\"dataframe\"><thead><tr><th>datetime</th><th>0am temp</th><th>max temp</th></tr><tr><td>date</td><td>f64</td><td>f64</td></tr></thead><tbody><tr><td>2020-07-01</td><td>17.6</td><td>24.0</td></tr><tr><td>2020-07-02</td><td>15.5</td><td>23.0</td></tr><tr><td>2020-07-03</td><td>15.8</td><td>21.0</td></tr><tr><td>2020-07-04</td><td>16.5</td><td>27.0</td></tr><tr><td>2020-07-05</td><td>19.2</td><td>27.6</td></tr></tbody></table></div>"
      ],
      "text/plain": [
       "shape: (5, 3)\n",
       "┌────────────┬──────────┬──────────┐\n",
       "│ datetime   ┆ 0am temp ┆ max temp │\n",
       "│ ---        ┆ ---      ┆ ---      │\n",
       "│ date       ┆ f64      ┆ f64      │\n",
       "╞════════════╪══════════╪══════════╡\n",
       "│ 2020-07-01 ┆ 17.6     ┆ 24.0     │\n",
       "│ 2020-07-02 ┆ 15.5     ┆ 23.0     │\n",
       "│ 2020-07-03 ┆ 15.8     ┆ 21.0     │\n",
       "│ 2020-07-04 ┆ 16.5     ┆ 27.0     │\n",
       "│ 2020-07-05 ┆ 19.2     ┆ 27.6     │\n",
       "└────────────┴──────────┴──────────┘"
      ]
     },
     "execution_count": 130,
     "metadata": {},
     "output_type": "execute_result"
    }
   ],
   "source": [
    "tstar_peak_no_deriv_df = hourly_deriv_df.group_by(\n",
    "    pl.col(\"datetime\").dt.date(), maintain_order=True\n",
    ").agg(\n",
    "    pl.col(\"Dry Bulb Temperature\")\n",
    "    .filter(pl.col(\"datetime\").dt.hour() == t_star)\n",
    "    .first()\n",
    "    .alias(f\"{t_star}am temp\"),\n",
    "    pl.col(\"Dry Bulb Temperature\").max().alias(\"max temp\"),\n",
    ")\n",
    "tstar_peak_no_deriv_df.head()"
   ]
  },
  {
   "cell_type": "code",
   "execution_count": 131,
   "metadata": {},
   "outputs": [
    {
     "data": {
      "text/html": [
       "\n",
       "<style>\n",
       "  #altair-viz-77a3fc3be170433a94e468a79a158c6f.vega-embed {\n",
       "    width: 100%;\n",
       "    display: flex;\n",
       "  }\n",
       "\n",
       "  #altair-viz-77a3fc3be170433a94e468a79a158c6f.vega-embed details,\n",
       "  #altair-viz-77a3fc3be170433a94e468a79a158c6f.vega-embed details summary {\n",
       "    position: relative;\n",
       "  }\n",
       "</style>\n",
       "<div id=\"altair-viz-77a3fc3be170433a94e468a79a158c6f\"></div>\n",
       "<script type=\"text/javascript\">\n",
       "  var VEGA_DEBUG = (typeof VEGA_DEBUG == \"undefined\") ? {} : VEGA_DEBUG;\n",
       "  (function(spec, embedOpt){\n",
       "    let outputDiv = document.currentScript.previousElementSibling;\n",
       "    if (outputDiv.id !== \"altair-viz-77a3fc3be170433a94e468a79a158c6f\") {\n",
       "      outputDiv = document.getElementById(\"altair-viz-77a3fc3be170433a94e468a79a158c6f\");\n",
       "    }\n",
       "\n",
       "    const paths = {\n",
       "      \"vega\": \"https://cdn.jsdelivr.net/npm/vega@5?noext\",\n",
       "      \"vega-lib\": \"https://cdn.jsdelivr.net/npm/vega-lib?noext\",\n",
       "      \"vega-lite\": \"https://cdn.jsdelivr.net/npm/vega-lite@5.20.1?noext\",\n",
       "      \"vega-embed\": \"https://cdn.jsdelivr.net/npm/vega-embed@6?noext\",\n",
       "    };\n",
       "\n",
       "    function maybeLoadScript(lib, version) {\n",
       "      var key = `${lib.replace(\"-\", \"\")}_version`;\n",
       "      return (VEGA_DEBUG[key] == version) ?\n",
       "        Promise.resolve(paths[lib]) :\n",
       "        new Promise(function(resolve, reject) {\n",
       "          var s = document.createElement('script');\n",
       "          document.getElementsByTagName(\"head\")[0].appendChild(s);\n",
       "          s.async = true;\n",
       "          s.onload = () => {\n",
       "            VEGA_DEBUG[key] = version;\n",
       "            return resolve(paths[lib]);\n",
       "          };\n",
       "          s.onerror = () => reject(`Error loading script: ${paths[lib]}`);\n",
       "          s.src = paths[lib];\n",
       "        });\n",
       "    }\n",
       "\n",
       "    function showError(err) {\n",
       "      outputDiv.innerHTML = `<div class=\"error\" style=\"color:red;\">${err}</div>`;\n",
       "      throw err;\n",
       "    }\n",
       "\n",
       "    function displayChart(vegaEmbed) {\n",
       "      vegaEmbed(outputDiv, spec, embedOpt)\n",
       "        .catch(err => showError(`Javascript Error: ${err.message}<br>This usually means there's a typo in your chart specification. See the javascript console for the full traceback.`));\n",
       "    }\n",
       "\n",
       "    if(typeof define === \"function\" && define.amd) {\n",
       "      requirejs.config({paths});\n",
       "      let deps = [\"vega-embed\"];\n",
       "      require(deps, displayChart, err => showError(`Error loading script: ${err.message}`));\n",
       "    } else {\n",
       "      maybeLoadScript(\"vega\", \"5\")\n",
       "        .then(() => maybeLoadScript(\"vega-lite\", \"5.20.1\"))\n",
       "        .then(() => maybeLoadScript(\"vega-embed\", \"6\"))\n",
       "        .catch(showError)\n",
       "        .then(() => displayChart(vegaEmbed));\n",
       "    }\n",
       "  })({\"config\": {\"view\": {\"continuousWidth\": 300, \"continuousHeight\": 300}}, \"data\": {\"name\": \"data-7166e83c81df005068d060d12b9f4544\"}, \"mark\": {\"type\": \"circle\"}, \"encoding\": {\"x\": {\"field\": \"0am temp\", \"scale\": {\"zero\": false}, \"type\": \"quantitative\"}, \"y\": {\"field\": \"max temp\", \"scale\": {\"zero\": false}, \"type\": \"quantitative\"}}, \"$schema\": \"https://vega.github.io/schema/vega-lite/v5.20.1.json\", \"datasets\": {\"data-7166e83c81df005068d060d12b9f4544\": [{\"datetime\": \"2020-07-01T00:00:00\", \"0am temp\": 17.6, \"max temp\": 24.0}, {\"datetime\": \"2020-07-02T00:00:00\", \"0am temp\": 15.5, \"max temp\": 23.0}, {\"datetime\": \"2020-07-03T00:00:00\", \"0am temp\": 15.8, \"max temp\": 21.0}, {\"datetime\": \"2020-07-04T00:00:00\", \"0am temp\": 16.5, \"max temp\": 27.0}, {\"datetime\": \"2020-07-05T00:00:00\", \"0am temp\": 19.2, \"max temp\": 27.6}, {\"datetime\": \"2020-07-06T00:00:00\", \"0am temp\": 18.1, \"max temp\": 26.0}, {\"datetime\": \"2020-07-07T00:00:00\", \"0am temp\": 17.3, \"max temp\": 24.4}, {\"datetime\": \"2020-07-08T00:00:00\", \"0am temp\": 17.0, \"max temp\": 24.9}, {\"datetime\": \"2020-07-09T00:00:00\", \"0am temp\": 17.2, \"max temp\": 26.1}, {\"datetime\": \"2020-07-10T00:00:00\", \"0am temp\": 18.2, \"max temp\": 24.0}, {\"datetime\": \"2020-07-11T00:00:00\", \"0am temp\": 18.2, \"max temp\": 26.0}, {\"datetime\": \"2020-07-12T00:00:00\", \"0am temp\": 18.9, \"max temp\": 27.0}, {\"datetime\": \"2020-07-13T00:00:00\", \"0am temp\": 17.9, \"max temp\": 22.0}, {\"datetime\": \"2020-07-14T00:00:00\", \"0am temp\": 15.7, \"max temp\": 23.6}, {\"datetime\": \"2020-07-15T00:00:00\", \"0am temp\": 16.2, \"max temp\": 23.8}, {\"datetime\": \"2020-07-16T00:00:00\", \"0am temp\": 16.3, \"max temp\": 21.0}, {\"datetime\": \"2020-07-17T00:00:00\", \"0am temp\": 16.1, \"max temp\": 24.0}, {\"datetime\": \"2020-07-18T00:00:00\", \"0am temp\": 17.7, \"max temp\": 23.0}, {\"datetime\": \"2020-07-19T00:00:00\", \"0am temp\": 17.7, \"max temp\": 21.8}, {\"datetime\": \"2020-07-20T00:00:00\", \"0am temp\": 17.3, \"max temp\": 20.8}, {\"datetime\": \"2020-07-21T00:00:00\", \"0am temp\": 16.6, \"max temp\": 21.0}, {\"datetime\": \"2020-07-22T00:00:00\", \"0am temp\": 16.3, \"max temp\": 24.0}, {\"datetime\": \"2020-07-23T00:00:00\", \"0am temp\": 17.3, \"max temp\": 22.7}, {\"datetime\": \"2020-07-24T00:00:00\", \"0am temp\": 17.2, \"max temp\": 20.8}, {\"datetime\": \"2020-07-25T00:00:00\", \"0am temp\": 17.0, \"max temp\": 23.8}, {\"datetime\": \"2020-07-26T00:00:00\", \"0am temp\": 18.2, \"max temp\": 23.0}, {\"datetime\": \"2020-07-27T00:00:00\", \"0am temp\": 17.4, \"max temp\": 22.0}, {\"datetime\": \"2020-07-28T00:00:00\", \"0am temp\": 17.0, \"max temp\": 21.0}, {\"datetime\": \"2020-07-29T00:00:00\", \"0am temp\": 16.4, \"max temp\": 21.7}]}}, {\"mode\": \"vega-lite\"});\n",
       "</script>"
      ],
      "text/plain": [
       "alt.Chart(...)"
      ]
     },
     "execution_count": 131,
     "metadata": {},
     "output_type": "execute_result"
    }
   ],
   "source": [
    "alt.Chart(tstar_peak_no_deriv_df).mark_circle().encode(\n",
    "    alt.X(f\"{t_star}am temp:Q\").scale(zero=False), alt.Y(\"max temp:Q\").scale(zero=False)\n",
    ")"
   ]
  },
  {
   "cell_type": "markdown",
   "metadata": {},
   "source": [
    "### Looking at elevated temperature characteristics..\n"
   ]
  },
  {
   "cell_type": "code",
   "execution_count": 114,
   "metadata": {},
   "outputs": [
    {
     "data": {
      "text/html": [
       "<div><style>\n",
       ".dataframe > thead > tr,\n",
       ".dataframe > tbody > tr {\n",
       "  text-align: right;\n",
       "  white-space: pre-wrap;\n",
       "}\n",
       "</style>\n",
       "<small>shape: (3,)</small><table border=\"1\" class=\"dataframe\"><thead><tr><th>count of max temp</th></tr><tr><td>u32</td></tr></thead><tbody><tr><td>1</td></tr><tr><td>2</td></tr><tr><td>3</td></tr></tbody></table></div>"
      ],
      "text/plain": [
       "shape: (3,)\n",
       "Series: 'count of max temp' [u32]\n",
       "[\n",
       "\t1\n",
       "\t2\n",
       "\t3\n",
       "]"
      ]
     },
     "execution_count": 114,
     "metadata": {},
     "output_type": "execute_result"
    }
   ],
   "source": [
    "dfi = june.group_by(pl.col(\"datetime\").dt.date(), maintain_order=True).agg(\n",
    "    pl.col(\"Dry Bulb Temperature\").filter(\n",
    "        pl.col(\"Dry Bulb Temperature\") == pl.col(\"Dry Bulb Temperature\").max()\n",
    "    ).count().alias(\"count of max temp\")\n",
    ")\n",
    "dfi[\"count of max temp\"].unique()"
   ]
  },
  {
   "cell_type": "code",
   "execution_count": 137,
   "metadata": {},
   "outputs": [
    {
     "data": {
      "text/html": [
       "<div><style>\n",
       ".dataframe > thead > tr,\n",
       ".dataframe > tbody > tr {\n",
       "  text-align: right;\n",
       "  white-space: pre-wrap;\n",
       "}\n",
       "</style>\n",
       "<small>shape: (5, 3)</small><table border=\"1\" class=\"dataframe\"><thead><tr><th>datetime</th><th>Dry Bulb Temperature</th><th>date</th></tr><tr><td>datetime[μs]</td><td>f64</td><td>date</td></tr></thead><tbody><tr><td>2020-07-01 00:00:00</td><td>17.6</td><td>2020-07-01</td></tr><tr><td>2020-07-01 01:00:00</td><td>17.1</td><td>2020-07-01</td></tr><tr><td>2020-07-01 02:00:00</td><td>16.5</td><td>2020-07-01</td></tr><tr><td>2020-07-01 03:00:00</td><td>16.0</td><td>2020-07-01</td></tr><tr><td>2020-07-01 04:00:00</td><td>15.4</td><td>2020-07-01</td></tr></tbody></table></div>"
      ],
      "text/plain": [
       "shape: (5, 3)\n",
       "┌─────────────────────┬──────────────────────┬────────────┐\n",
       "│ datetime            ┆ Dry Bulb Temperature ┆ date       │\n",
       "│ ---                 ┆ ---                  ┆ ---        │\n",
       "│ datetime[μs]        ┆ f64                  ┆ date       │\n",
       "╞═════════════════════╪══════════════════════╪════════════╡\n",
       "│ 2020-07-01 00:00:00 ┆ 17.6                 ┆ 2020-07-01 │\n",
       "│ 2020-07-01 01:00:00 ┆ 17.1                 ┆ 2020-07-01 │\n",
       "│ 2020-07-01 02:00:00 ┆ 16.5                 ┆ 2020-07-01 │\n",
       "│ 2020-07-01 03:00:00 ┆ 16.0                 ┆ 2020-07-01 │\n",
       "│ 2020-07-01 04:00:00 ┆ 15.4                 ┆ 2020-07-01 │\n",
       "└─────────────────────┴──────────────────────┴────────────┘"
      ]
     },
     "execution_count": 137,
     "metadata": {},
     "output_type": "execute_result"
    }
   ],
   "source": [
    "date_df = june.with_columns(date=pl.col(\"datetime\").dt.date()).filter(pl.col(\"date\") < pl.date(2020, 7, 9))\n",
    "date_df.head()"
   ]
  },
  {
   "cell_type": "code",
   "execution_count": 199,
   "metadata": {},
   "outputs": [
    {
     "data": {
      "text/html": [
       "\n",
       "<style>\n",
       "  #altair-viz-410b4c0fbb76421f8d8a258fcbba3142.vega-embed {\n",
       "    width: 100%;\n",
       "    display: flex;\n",
       "  }\n",
       "\n",
       "  #altair-viz-410b4c0fbb76421f8d8a258fcbba3142.vega-embed details,\n",
       "  #altair-viz-410b4c0fbb76421f8d8a258fcbba3142.vega-embed details summary {\n",
       "    position: relative;\n",
       "  }\n",
       "</style>\n",
       "<div id=\"altair-viz-410b4c0fbb76421f8d8a258fcbba3142\"></div>\n",
       "<script type=\"text/javascript\">\n",
       "  var VEGA_DEBUG = (typeof VEGA_DEBUG == \"undefined\") ? {} : VEGA_DEBUG;\n",
       "  (function(spec, embedOpt){\n",
       "    let outputDiv = document.currentScript.previousElementSibling;\n",
       "    if (outputDiv.id !== \"altair-viz-410b4c0fbb76421f8d8a258fcbba3142\") {\n",
       "      outputDiv = document.getElementById(\"altair-viz-410b4c0fbb76421f8d8a258fcbba3142\");\n",
       "    }\n",
       "\n",
       "    const paths = {\n",
       "      \"vega\": \"https://cdn.jsdelivr.net/npm/vega@5?noext\",\n",
       "      \"vega-lib\": \"https://cdn.jsdelivr.net/npm/vega-lib?noext\",\n",
       "      \"vega-lite\": \"https://cdn.jsdelivr.net/npm/vega-lite@5.20.1?noext\",\n",
       "      \"vega-embed\": \"https://cdn.jsdelivr.net/npm/vega-embed@6?noext\",\n",
       "    };\n",
       "\n",
       "    function maybeLoadScript(lib, version) {\n",
       "      var key = `${lib.replace(\"-\", \"\")}_version`;\n",
       "      return (VEGA_DEBUG[key] == version) ?\n",
       "        Promise.resolve(paths[lib]) :\n",
       "        new Promise(function(resolve, reject) {\n",
       "          var s = document.createElement('script');\n",
       "          document.getElementsByTagName(\"head\")[0].appendChild(s);\n",
       "          s.async = true;\n",
       "          s.onload = () => {\n",
       "            VEGA_DEBUG[key] = version;\n",
       "            return resolve(paths[lib]);\n",
       "          };\n",
       "          s.onerror = () => reject(`Error loading script: ${paths[lib]}`);\n",
       "          s.src = paths[lib];\n",
       "        });\n",
       "    }\n",
       "\n",
       "    function showError(err) {\n",
       "      outputDiv.innerHTML = `<div class=\"error\" style=\"color:red;\">${err}</div>`;\n",
       "      throw err;\n",
       "    }\n",
       "\n",
       "    function displayChart(vegaEmbed) {\n",
       "      vegaEmbed(outputDiv, spec, embedOpt)\n",
       "        .catch(err => showError(`Javascript Error: ${err.message}<br>This usually means there's a typo in your chart specification. See the javascript console for the full traceback.`));\n",
       "    }\n",
       "\n",
       "    if(typeof define === \"function\" && define.amd) {\n",
       "      requirejs.config({paths});\n",
       "      let deps = [\"vega-embed\"];\n",
       "      require(deps, displayChart, err => showError(`Error loading script: ${err.message}`));\n",
       "    } else {\n",
       "      maybeLoadScript(\"vega\", \"5\")\n",
       "        .then(() => maybeLoadScript(\"vega-lite\", \"5.20.1\"))\n",
       "        .then(() => maybeLoadScript(\"vega-embed\", \"6\"))\n",
       "        .catch(showError)\n",
       "        .then(() => displayChart(vegaEmbed));\n",
       "    }\n",
       "  })({\"config\": {\"view\": {\"continuousWidth\": 300, \"continuousHeight\": 300}}, \"data\": {\"name\": \"data-0ad978a5fb3631efcd8a89da93808daf\"}, \"mark\": {\"type\": \"bar\"}, \"encoding\": {\"row\": {\"field\": \"date\", \"type\": \"temporal\"}, \"x\": {\"bin\": {\"step\": 0.5}, \"field\": \"Dry Bulb Temperature\", \"type\": \"quantitative\"}, \"y\": {\"aggregate\": \"count\", \"title\": \"count\", \"type\": \"quantitative\"}}, \"height\": 50, \"width\": 300, \"$schema\": \"https://vega.github.io/schema/vega-lite/v5.20.1.json\", \"datasets\": {\"data-0ad978a5fb3631efcd8a89da93808daf\": [{\"datetime\": \"2020-07-01T00:00:00\", \"Dry Bulb Temperature\": 17.6, \"date\": \"2020-07-01T00:00:00\"}, {\"datetime\": \"2020-07-01T01:00:00\", \"Dry Bulb Temperature\": 17.1, \"date\": \"2020-07-01T00:00:00\"}, {\"datetime\": \"2020-07-01T02:00:00\", \"Dry Bulb Temperature\": 16.5, \"date\": \"2020-07-01T00:00:00\"}, {\"datetime\": \"2020-07-01T03:00:00\", \"Dry Bulb Temperature\": 16.0, \"date\": \"2020-07-01T00:00:00\"}, {\"datetime\": \"2020-07-01T04:00:00\", \"Dry Bulb Temperature\": 15.4, \"date\": \"2020-07-01T00:00:00\"}, {\"datetime\": \"2020-07-01T05:00:00\", \"Dry Bulb Temperature\": 16.0, \"date\": \"2020-07-01T00:00:00\"}, {\"datetime\": \"2020-07-01T06:00:00\", \"Dry Bulb Temperature\": 16.2, \"date\": \"2020-07-01T00:00:00\"}, {\"datetime\": \"2020-07-01T07:00:00\", \"Dry Bulb Temperature\": 17.0, \"date\": \"2020-07-01T00:00:00\"}, {\"datetime\": \"2020-07-01T08:00:00\", \"Dry Bulb Temperature\": 17.4, \"date\": \"2020-07-01T00:00:00\"}, {\"datetime\": \"2020-07-01T09:00:00\", \"Dry Bulb Temperature\": 19.4, \"date\": \"2020-07-01T00:00:00\"}, {\"datetime\": \"2020-07-01T10:00:00\", \"Dry Bulb Temperature\": 21.2, \"date\": \"2020-07-01T00:00:00\"}, {\"datetime\": \"2020-07-01T11:00:00\", \"Dry Bulb Temperature\": 22.2, \"date\": \"2020-07-01T00:00:00\"}, {\"datetime\": \"2020-07-01T12:00:00\", \"Dry Bulb Temperature\": 23.2, \"date\": \"2020-07-01T00:00:00\"}, {\"datetime\": \"2020-07-01T13:00:00\", \"Dry Bulb Temperature\": 24.0, \"date\": \"2020-07-01T00:00:00\"}, {\"datetime\": \"2020-07-01T14:00:00\", \"Dry Bulb Temperature\": 23.8, \"date\": \"2020-07-01T00:00:00\"}, {\"datetime\": \"2020-07-01T15:00:00\", \"Dry Bulb Temperature\": 23.2, \"date\": \"2020-07-01T00:00:00\"}, {\"datetime\": \"2020-07-01T16:00:00\", \"Dry Bulb Temperature\": 20.8, \"date\": \"2020-07-01T00:00:00\"}, {\"datetime\": \"2020-07-01T17:00:00\", \"Dry Bulb Temperature\": 20.4, \"date\": \"2020-07-01T00:00:00\"}, {\"datetime\": \"2020-07-01T18:00:00\", \"Dry Bulb Temperature\": 18.4, \"date\": \"2020-07-01T00:00:00\"}, {\"datetime\": \"2020-07-01T19:00:00\", \"Dry Bulb Temperature\": 18.5, \"date\": \"2020-07-01T00:00:00\"}, {\"datetime\": \"2020-07-01T20:00:00\", \"Dry Bulb Temperature\": 17.5, \"date\": \"2020-07-01T00:00:00\"}, {\"datetime\": \"2020-07-01T21:00:00\", \"Dry Bulb Temperature\": 17.0, \"date\": \"2020-07-01T00:00:00\"}, {\"datetime\": \"2020-07-01T22:00:00\", \"Dry Bulb Temperature\": 16.5, \"date\": \"2020-07-01T00:00:00\"}, {\"datetime\": \"2020-07-01T23:00:00\", \"Dry Bulb Temperature\": 16.0, \"date\": \"2020-07-01T00:00:00\"}, {\"datetime\": \"2020-07-02T00:00:00\", \"Dry Bulb Temperature\": 15.5, \"date\": \"2020-07-02T00:00:00\"}, {\"datetime\": \"2020-07-02T01:00:00\", \"Dry Bulb Temperature\": 14.9, \"date\": \"2020-07-02T00:00:00\"}, {\"datetime\": \"2020-07-02T02:00:00\", \"Dry Bulb Temperature\": 14.4, \"date\": \"2020-07-02T00:00:00\"}, {\"datetime\": \"2020-07-02T03:00:00\", \"Dry Bulb Temperature\": 13.9, \"date\": \"2020-07-02T00:00:00\"}, {\"datetime\": \"2020-07-02T04:00:00\", \"Dry Bulb Temperature\": 13.4, \"date\": \"2020-07-02T00:00:00\"}, {\"datetime\": \"2020-07-02T05:00:00\", \"Dry Bulb Temperature\": 14.0, \"date\": \"2020-07-02T00:00:00\"}, {\"datetime\": \"2020-07-02T06:00:00\", \"Dry Bulb Temperature\": 14.8, \"date\": \"2020-07-02T00:00:00\"}, {\"datetime\": \"2020-07-02T07:00:00\", \"Dry Bulb Temperature\": 15.8, \"date\": \"2020-07-02T00:00:00\"}, {\"datetime\": \"2020-07-02T08:00:00\", \"Dry Bulb Temperature\": 17.4, \"date\": \"2020-07-02T00:00:00\"}, {\"datetime\": \"2020-07-02T09:00:00\", \"Dry Bulb Temperature\": 19.0, \"date\": \"2020-07-02T00:00:00\"}, {\"datetime\": \"2020-07-02T10:00:00\", \"Dry Bulb Temperature\": 19.4, \"date\": \"2020-07-02T00:00:00\"}, {\"datetime\": \"2020-07-02T11:00:00\", \"Dry Bulb Temperature\": 21.2, \"date\": \"2020-07-02T00:00:00\"}, {\"datetime\": \"2020-07-02T12:00:00\", \"Dry Bulb Temperature\": 22.2, \"date\": \"2020-07-02T00:00:00\"}, {\"datetime\": \"2020-07-02T13:00:00\", \"Dry Bulb Temperature\": 23.0, \"date\": \"2020-07-02T00:00:00\"}, {\"datetime\": \"2020-07-02T14:00:00\", \"Dry Bulb Temperature\": 22.9, \"date\": \"2020-07-02T00:00:00\"}, {\"datetime\": \"2020-07-02T15:00:00\", \"Dry Bulb Temperature\": 22.4, \"date\": \"2020-07-02T00:00:00\"}, {\"datetime\": \"2020-07-02T16:00:00\", \"Dry Bulb Temperature\": 20.2, \"date\": \"2020-07-02T00:00:00\"}, {\"datetime\": \"2020-07-02T17:00:00\", \"Dry Bulb Temperature\": 19.9, \"date\": \"2020-07-02T00:00:00\"}, {\"datetime\": \"2020-07-02T18:00:00\", \"Dry Bulb Temperature\": 18.1, \"date\": \"2020-07-02T00:00:00\"}, {\"datetime\": \"2020-07-02T19:00:00\", \"Dry Bulb Temperature\": 18.3, \"date\": \"2020-07-02T00:00:00\"}, {\"datetime\": \"2020-07-02T20:00:00\", \"Dry Bulb Temperature\": 17.4, \"date\": \"2020-07-02T00:00:00\"}, {\"datetime\": \"2020-07-02T21:00:00\", \"Dry Bulb Temperature\": 17.0, \"date\": \"2020-07-02T00:00:00\"}, {\"datetime\": \"2020-07-02T22:00:00\", \"Dry Bulb Temperature\": 16.6, \"date\": \"2020-07-02T00:00:00\"}, {\"datetime\": \"2020-07-02T23:00:00\", \"Dry Bulb Temperature\": 16.2, \"date\": \"2020-07-02T00:00:00\"}, {\"datetime\": \"2020-07-03T00:00:00\", \"Dry Bulb Temperature\": 15.8, \"date\": \"2020-07-03T00:00:00\"}, {\"datetime\": \"2020-07-03T01:00:00\", \"Dry Bulb Temperature\": 15.4, \"date\": \"2020-07-03T00:00:00\"}, {\"datetime\": \"2020-07-03T02:00:00\", \"Dry Bulb Temperature\": 15.0, \"date\": \"2020-07-03T00:00:00\"}, {\"datetime\": \"2020-07-03T03:00:00\", \"Dry Bulb Temperature\": 14.6, \"date\": \"2020-07-03T00:00:00\"}, {\"datetime\": \"2020-07-03T04:00:00\", \"Dry Bulb Temperature\": 14.3, \"date\": \"2020-07-03T00:00:00\"}, {\"datetime\": \"2020-07-03T05:00:00\", \"Dry Bulb Temperature\": 15.0, \"date\": \"2020-07-03T00:00:00\"}, {\"datetime\": \"2020-07-03T06:00:00\", \"Dry Bulb Temperature\": 15.1, \"date\": \"2020-07-03T00:00:00\"}, {\"datetime\": \"2020-07-03T07:00:00\", \"Dry Bulb Temperature\": 16.0, \"date\": \"2020-07-03T00:00:00\"}, {\"datetime\": \"2020-07-03T08:00:00\", \"Dry Bulb Temperature\": 17.1, \"date\": \"2020-07-03T00:00:00\"}, {\"datetime\": \"2020-07-03T09:00:00\", \"Dry Bulb Temperature\": 18.1, \"date\": \"2020-07-03T00:00:00\"}, {\"datetime\": \"2020-07-03T10:00:00\", \"Dry Bulb Temperature\": 19.2, \"date\": \"2020-07-03T00:00:00\"}, {\"datetime\": \"2020-07-03T11:00:00\", \"Dry Bulb Temperature\": 20.0, \"date\": \"2020-07-03T00:00:00\"}, {\"datetime\": \"2020-07-03T12:00:00\", \"Dry Bulb Temperature\": 20.2, \"date\": \"2020-07-03T00:00:00\"}, {\"datetime\": \"2020-07-03T13:00:00\", \"Dry Bulb Temperature\": 20.9, \"date\": \"2020-07-03T00:00:00\"}, {\"datetime\": \"2020-07-03T14:00:00\", \"Dry Bulb Temperature\": 21.0, \"date\": \"2020-07-03T00:00:00\"}, {\"datetime\": \"2020-07-03T15:00:00\", \"Dry Bulb Temperature\": 20.7, \"date\": \"2020-07-03T00:00:00\"}, {\"datetime\": \"2020-07-03T16:00:00\", \"Dry Bulb Temperature\": 18.8, \"date\": \"2020-07-03T00:00:00\"}, {\"datetime\": \"2020-07-03T17:00:00\", \"Dry Bulb Temperature\": 18.8, \"date\": \"2020-07-03T00:00:00\"}, {\"datetime\": \"2020-07-03T18:00:00\", \"Dry Bulb Temperature\": 17.2, \"date\": \"2020-07-03T00:00:00\"}, {\"datetime\": \"2020-07-03T19:00:00\", \"Dry Bulb Temperature\": 17.6, \"date\": \"2020-07-03T00:00:00\"}, {\"datetime\": \"2020-07-03T20:00:00\", \"Dry Bulb Temperature\": 17.0, \"date\": \"2020-07-03T00:00:00\"}, {\"datetime\": \"2020-07-03T21:00:00\", \"Dry Bulb Temperature\": 16.9, \"date\": \"2020-07-03T00:00:00\"}, {\"datetime\": \"2020-07-03T22:00:00\", \"Dry Bulb Temperature\": 16.8, \"date\": \"2020-07-03T00:00:00\"}, {\"datetime\": \"2020-07-03T23:00:00\", \"Dry Bulb Temperature\": 16.7, \"date\": \"2020-07-03T00:00:00\"}, {\"datetime\": \"2020-07-04T00:00:00\", \"Dry Bulb Temperature\": 16.5, \"date\": \"2020-07-04T00:00:00\"}, {\"datetime\": \"2020-07-04T01:00:00\", \"Dry Bulb Temperature\": 16.4, \"date\": \"2020-07-04T00:00:00\"}, {\"datetime\": \"2020-07-04T02:00:00\", \"Dry Bulb Temperature\": 16.3, \"date\": \"2020-07-04T00:00:00\"}, {\"datetime\": \"2020-07-04T03:00:00\", \"Dry Bulb Temperature\": 16.1, \"date\": \"2020-07-04T00:00:00\"}, {\"datetime\": \"2020-07-04T04:00:00\", \"Dry Bulb Temperature\": 16.0, \"date\": \"2020-07-04T00:00:00\"}, {\"datetime\": \"2020-07-04T05:00:00\", \"Dry Bulb Temperature\": 17.0, \"date\": \"2020-07-04T00:00:00\"}, {\"datetime\": \"2020-07-04T06:00:00\", \"Dry Bulb Temperature\": 17.2, \"date\": \"2020-07-04T00:00:00\"}, {\"datetime\": \"2020-07-04T07:00:00\", \"Dry Bulb Temperature\": 18.2, \"date\": \"2020-07-04T00:00:00\"}, {\"datetime\": \"2020-07-04T08:00:00\", \"Dry Bulb Temperature\": 19.7, \"date\": \"2020-07-04T00:00:00\"}, {\"datetime\": \"2020-07-04T09:00:00\", \"Dry Bulb Temperature\": 21.4, \"date\": \"2020-07-04T00:00:00\"}, {\"datetime\": \"2020-07-04T10:00:00\", \"Dry Bulb Temperature\": 23.2, \"date\": \"2020-07-04T00:00:00\"}, {\"datetime\": \"2020-07-04T11:00:00\", \"Dry Bulb Temperature\": 24.0, \"date\": \"2020-07-04T00:00:00\"}, {\"datetime\": \"2020-07-04T12:00:00\", \"Dry Bulb Temperature\": 25.5, \"date\": \"2020-07-04T00:00:00\"}, {\"datetime\": \"2020-07-04T13:00:00\", \"Dry Bulb Temperature\": 26.5, \"date\": \"2020-07-04T00:00:00\"}, {\"datetime\": \"2020-07-04T14:00:00\", \"Dry Bulb Temperature\": 27.0, \"date\": \"2020-07-04T00:00:00\"}, {\"datetime\": \"2020-07-04T15:00:00\", \"Dry Bulb Temperature\": 26.4, \"date\": \"2020-07-04T00:00:00\"}, {\"datetime\": \"2020-07-04T16:00:00\", \"Dry Bulb Temperature\": 24.1, \"date\": \"2020-07-04T00:00:00\"}, {\"datetime\": \"2020-07-04T17:00:00\", \"Dry Bulb Temperature\": 23.8, \"date\": \"2020-07-04T00:00:00\"}, {\"datetime\": \"2020-07-04T18:00:00\", \"Dry Bulb Temperature\": 21.8, \"date\": \"2020-07-04T00:00:00\"}, {\"datetime\": \"2020-07-04T19:00:00\", \"Dry Bulb Temperature\": 22.0, \"date\": \"2020-07-04T00:00:00\"}, {\"datetime\": \"2020-07-04T20:00:00\", \"Dry Bulb Temperature\": 21.0, \"date\": \"2020-07-04T00:00:00\"}, {\"datetime\": \"2020-07-04T21:00:00\", \"Dry Bulb Temperature\": 20.6, \"date\": \"2020-07-04T00:00:00\"}, {\"datetime\": \"2020-07-04T22:00:00\", \"Dry Bulb Temperature\": 20.1, \"date\": \"2020-07-04T00:00:00\"}, {\"datetime\": \"2020-07-04T23:00:00\", \"Dry Bulb Temperature\": 19.7, \"date\": \"2020-07-04T00:00:00\"}, {\"datetime\": \"2020-07-05T00:00:00\", \"Dry Bulb Temperature\": 19.2, \"date\": \"2020-07-05T00:00:00\"}, {\"datetime\": \"2020-07-05T01:00:00\", \"Dry Bulb Temperature\": 18.7, \"date\": \"2020-07-05T00:00:00\"}, {\"datetime\": \"2020-07-05T02:00:00\", \"Dry Bulb Temperature\": 18.3, \"date\": \"2020-07-05T00:00:00\"}, {\"datetime\": \"2020-07-05T03:00:00\", \"Dry Bulb Temperature\": 17.8, \"date\": \"2020-07-05T00:00:00\"}, {\"datetime\": \"2020-07-05T04:00:00\", \"Dry Bulb Temperature\": 17.3, \"date\": \"2020-07-05T00:00:00\"}, {\"datetime\": \"2020-07-05T05:00:00\", \"Dry Bulb Temperature\": 18.0, \"date\": \"2020-07-05T00:00:00\"}, {\"datetime\": \"2020-07-05T06:00:00\", \"Dry Bulb Temperature\": 18.3, \"date\": \"2020-07-05T00:00:00\"}, {\"datetime\": \"2020-07-05T07:00:00\", \"Dry Bulb Temperature\": 18.6, \"date\": \"2020-07-05T00:00:00\"}, {\"datetime\": \"2020-07-05T08:00:00\", \"Dry Bulb Temperature\": 19.2, \"date\": \"2020-07-05T00:00:00\"}, {\"datetime\": \"2020-07-05T09:00:00\", \"Dry Bulb Temperature\": 20.2, \"date\": \"2020-07-05T00:00:00\"}, {\"datetime\": \"2020-07-05T10:00:00\", \"Dry Bulb Temperature\": 21.2, \"date\": \"2020-07-05T00:00:00\"}, {\"datetime\": \"2020-07-05T11:00:00\", \"Dry Bulb Temperature\": 22.4, \"date\": \"2020-07-05T00:00:00\"}, {\"datetime\": \"2020-07-05T12:00:00\", \"Dry Bulb Temperature\": 24.4, \"date\": \"2020-07-05T00:00:00\"}, {\"datetime\": \"2020-07-05T13:00:00\", \"Dry Bulb Temperature\": 26.4, \"date\": \"2020-07-05T00:00:00\"}, {\"datetime\": \"2020-07-05T14:00:00\", \"Dry Bulb Temperature\": 27.6, \"date\": \"2020-07-05T00:00:00\"}, {\"datetime\": \"2020-07-05T15:00:00\", \"Dry Bulb Temperature\": 26.9, \"date\": \"2020-07-05T00:00:00\"}, {\"datetime\": \"2020-07-05T16:00:00\", \"Dry Bulb Temperature\": 24.4, \"date\": \"2020-07-05T00:00:00\"}, {\"datetime\": \"2020-07-05T17:00:00\", \"Dry Bulb Temperature\": 23.9, \"date\": \"2020-07-05T00:00:00\"}, {\"datetime\": \"2020-07-05T18:00:00\", \"Dry Bulb Temperature\": 21.7, \"date\": \"2020-07-05T00:00:00\"}, {\"datetime\": \"2020-07-05T19:00:00\", \"Dry Bulb Temperature\": 21.7, \"date\": \"2020-07-05T00:00:00\"}, {\"datetime\": \"2020-07-05T20:00:00\", \"Dry Bulb Temperature\": 20.6, \"date\": \"2020-07-05T00:00:00\"}, {\"datetime\": \"2020-07-05T21:00:00\", \"Dry Bulb Temperature\": 20.0, \"date\": \"2020-07-05T00:00:00\"}, {\"datetime\": \"2020-07-05T22:00:00\", \"Dry Bulb Temperature\": 19.3, \"date\": \"2020-07-05T00:00:00\"}, {\"datetime\": \"2020-07-05T23:00:00\", \"Dry Bulb Temperature\": 18.7, \"date\": \"2020-07-05T00:00:00\"}, {\"datetime\": \"2020-07-06T00:00:00\", \"Dry Bulb Temperature\": 18.1, \"date\": \"2020-07-06T00:00:00\"}, {\"datetime\": \"2020-07-06T01:00:00\", \"Dry Bulb Temperature\": 17.4, \"date\": \"2020-07-06T00:00:00\"}, {\"datetime\": \"2020-07-06T02:00:00\", \"Dry Bulb Temperature\": 16.8, \"date\": \"2020-07-06T00:00:00\"}, {\"datetime\": \"2020-07-06T03:00:00\", \"Dry Bulb Temperature\": 16.1, \"date\": \"2020-07-06T00:00:00\"}, {\"datetime\": \"2020-07-06T04:00:00\", \"Dry Bulb Temperature\": 15.5, \"date\": \"2020-07-06T00:00:00\"}, {\"datetime\": \"2020-07-06T05:00:00\", \"Dry Bulb Temperature\": 16.0, \"date\": \"2020-07-06T00:00:00\"}, {\"datetime\": \"2020-07-06T06:00:00\", \"Dry Bulb Temperature\": 16.2, \"date\": \"2020-07-06T00:00:00\"}, {\"datetime\": \"2020-07-06T07:00:00\", \"Dry Bulb Temperature\": 17.4, \"date\": \"2020-07-06T00:00:00\"}, {\"datetime\": \"2020-07-06T08:00:00\", \"Dry Bulb Temperature\": 18.2, \"date\": \"2020-07-06T00:00:00\"}, {\"datetime\": \"2020-07-06T09:00:00\", \"Dry Bulb Temperature\": 19.2, \"date\": \"2020-07-06T00:00:00\"}, {\"datetime\": \"2020-07-06T10:00:00\", \"Dry Bulb Temperature\": 20.9, \"date\": \"2020-07-06T00:00:00\"}, {\"datetime\": \"2020-07-06T11:00:00\", \"Dry Bulb Temperature\": 24.2, \"date\": \"2020-07-06T00:00:00\"}, {\"datetime\": \"2020-07-06T12:00:00\", \"Dry Bulb Temperature\": 25.0, \"date\": \"2020-07-06T00:00:00\"}, {\"datetime\": \"2020-07-06T13:00:00\", \"Dry Bulb Temperature\": 24.8, \"date\": \"2020-07-06T00:00:00\"}, {\"datetime\": \"2020-07-06T14:00:00\", \"Dry Bulb Temperature\": 26.0, \"date\": \"2020-07-06T00:00:00\"}, {\"datetime\": \"2020-07-06T15:00:00\", \"Dry Bulb Temperature\": 25.4, \"date\": \"2020-07-06T00:00:00\"}, {\"datetime\": \"2020-07-06T16:00:00\", \"Dry Bulb Temperature\": 23.0, \"date\": \"2020-07-06T00:00:00\"}, {\"datetime\": \"2020-07-06T17:00:00\", \"Dry Bulb Temperature\": 22.5, \"date\": \"2020-07-06T00:00:00\"}, {\"datetime\": \"2020-07-06T18:00:00\", \"Dry Bulb Temperature\": 20.5, \"date\": \"2020-07-06T00:00:00\"}, {\"datetime\": \"2020-07-06T19:00:00\", \"Dry Bulb Temperature\": 20.6, \"date\": \"2020-07-06T00:00:00\"}, {\"datetime\": \"2020-07-06T20:00:00\", \"Dry Bulb Temperature\": 19.6, \"date\": \"2020-07-06T00:00:00\"}, {\"datetime\": \"2020-07-06T21:00:00\", \"Dry Bulb Temperature\": 19.0, \"date\": \"2020-07-06T00:00:00\"}, {\"datetime\": \"2020-07-06T22:00:00\", \"Dry Bulb Temperature\": 18.4, \"date\": \"2020-07-06T00:00:00\"}, {\"datetime\": \"2020-07-06T23:00:00\", \"Dry Bulb Temperature\": 17.9, \"date\": \"2020-07-06T00:00:00\"}, {\"datetime\": \"2020-07-07T00:00:00\", \"Dry Bulb Temperature\": 17.3, \"date\": \"2020-07-07T00:00:00\"}, {\"datetime\": \"2020-07-07T01:00:00\", \"Dry Bulb Temperature\": 16.8, \"date\": \"2020-07-07T00:00:00\"}, {\"datetime\": \"2020-07-07T02:00:00\", \"Dry Bulb Temperature\": 16.2, \"date\": \"2020-07-07T00:00:00\"}, {\"datetime\": \"2020-07-07T03:00:00\", \"Dry Bulb Temperature\": 15.7, \"date\": \"2020-07-07T00:00:00\"}, {\"datetime\": \"2020-07-07T04:00:00\", \"Dry Bulb Temperature\": 15.1, \"date\": \"2020-07-07T00:00:00\"}, {\"datetime\": \"2020-07-07T05:00:00\", \"Dry Bulb Temperature\": 15.7, \"date\": \"2020-07-07T00:00:00\"}, {\"datetime\": \"2020-07-07T06:00:00\", \"Dry Bulb Temperature\": 16.0, \"date\": \"2020-07-07T00:00:00\"}, {\"datetime\": \"2020-07-07T07:00:00\", \"Dry Bulb Temperature\": 16.4, \"date\": \"2020-07-07T00:00:00\"}, {\"datetime\": \"2020-07-07T08:00:00\", \"Dry Bulb Temperature\": 18.4, \"date\": \"2020-07-07T00:00:00\"}, {\"datetime\": \"2020-07-07T09:00:00\", \"Dry Bulb Temperature\": 20.4, \"date\": \"2020-07-07T00:00:00\"}, {\"datetime\": \"2020-07-07T10:00:00\", \"Dry Bulb Temperature\": 21.6, \"date\": \"2020-07-07T00:00:00\"}, {\"datetime\": \"2020-07-07T11:00:00\", \"Dry Bulb Temperature\": 22.0, \"date\": \"2020-07-07T00:00:00\"}, {\"datetime\": \"2020-07-07T12:00:00\", \"Dry Bulb Temperature\": 22.2, \"date\": \"2020-07-07T00:00:00\"}, {\"datetime\": \"2020-07-07T13:00:00\", \"Dry Bulb Temperature\": 23.0, \"date\": \"2020-07-07T00:00:00\"}, {\"datetime\": \"2020-07-07T14:00:00\", \"Dry Bulb Temperature\": 24.4, \"date\": \"2020-07-07T00:00:00\"}, {\"datetime\": \"2020-07-07T15:00:00\", \"Dry Bulb Temperature\": 23.9, \"date\": \"2020-07-07T00:00:00\"}, {\"datetime\": \"2020-07-07T16:00:00\", \"Dry Bulb Temperature\": 21.6, \"date\": \"2020-07-07T00:00:00\"}, {\"datetime\": \"2020-07-07T17:00:00\", \"Dry Bulb Temperature\": 21.3, \"date\": \"2020-07-07T00:00:00\"}, {\"datetime\": \"2020-07-07T18:00:00\", \"Dry Bulb Temperature\": 19.4, \"date\": \"2020-07-07T00:00:00\"}, {\"datetime\": \"2020-07-07T19:00:00\", \"Dry Bulb Temperature\": 19.6, \"date\": \"2020-07-07T00:00:00\"}, {\"datetime\": \"2020-07-07T20:00:00\", \"Dry Bulb Temperature\": 18.7, \"date\": \"2020-07-07T00:00:00\"}, {\"datetime\": \"2020-07-07T21:00:00\", \"Dry Bulb Temperature\": 18.3, \"date\": \"2020-07-07T00:00:00\"}, {\"datetime\": \"2020-07-07T22:00:00\", \"Dry Bulb Temperature\": 17.8, \"date\": \"2020-07-07T00:00:00\"}, {\"datetime\": \"2020-07-07T23:00:00\", \"Dry Bulb Temperature\": 17.4, \"date\": \"2020-07-07T00:00:00\"}, {\"datetime\": \"2020-07-08T00:00:00\", \"Dry Bulb Temperature\": 17.0, \"date\": \"2020-07-08T00:00:00\"}, {\"datetime\": \"2020-07-08T01:00:00\", \"Dry Bulb Temperature\": 16.6, \"date\": \"2020-07-08T00:00:00\"}, {\"datetime\": \"2020-07-08T02:00:00\", \"Dry Bulb Temperature\": 16.1, \"date\": \"2020-07-08T00:00:00\"}, {\"datetime\": \"2020-07-08T03:00:00\", \"Dry Bulb Temperature\": 15.7, \"date\": \"2020-07-08T00:00:00\"}, {\"datetime\": \"2020-07-08T04:00:00\", \"Dry Bulb Temperature\": 15.3, \"date\": \"2020-07-08T00:00:00\"}, {\"datetime\": \"2020-07-08T05:00:00\", \"Dry Bulb Temperature\": 16.0, \"date\": \"2020-07-08T00:00:00\"}, {\"datetime\": \"2020-07-08T06:00:00\", \"Dry Bulb Temperature\": 16.2, \"date\": \"2020-07-08T00:00:00\"}, {\"datetime\": \"2020-07-08T07:00:00\", \"Dry Bulb Temperature\": 17.2, \"date\": \"2020-07-08T00:00:00\"}, {\"datetime\": \"2020-07-08T08:00:00\", \"Dry Bulb Temperature\": 18.4, \"date\": \"2020-07-08T00:00:00\"}, {\"datetime\": \"2020-07-08T09:00:00\", \"Dry Bulb Temperature\": 20.2, \"date\": \"2020-07-08T00:00:00\"}, {\"datetime\": \"2020-07-08T10:00:00\", \"Dry Bulb Temperature\": 21.8, \"date\": \"2020-07-08T00:00:00\"}, {\"datetime\": \"2020-07-08T11:00:00\", \"Dry Bulb Temperature\": 23.2, \"date\": \"2020-07-08T00:00:00\"}, {\"datetime\": \"2020-07-08T12:00:00\", \"Dry Bulb Temperature\": 24.0, \"date\": \"2020-07-08T00:00:00\"}, {\"datetime\": \"2020-07-08T13:00:00\", \"Dry Bulb Temperature\": 23.6, \"date\": \"2020-07-08T00:00:00\"}, {\"datetime\": \"2020-07-08T14:00:00\", \"Dry Bulb Temperature\": 24.9, \"date\": \"2020-07-08T00:00:00\"}, {\"datetime\": \"2020-07-08T15:00:00\", \"Dry Bulb Temperature\": 24.3, \"date\": \"2020-07-08T00:00:00\"}, {\"datetime\": \"2020-07-08T16:00:00\", \"Dry Bulb Temperature\": 22.1, \"date\": \"2020-07-08T00:00:00\"}, {\"datetime\": \"2020-07-08T17:00:00\", \"Dry Bulb Temperature\": 21.7, \"date\": \"2020-07-08T00:00:00\"}, {\"datetime\": \"2020-07-08T18:00:00\", \"Dry Bulb Temperature\": 19.8, \"date\": \"2020-07-08T00:00:00\"}, {\"datetime\": \"2020-07-08T19:00:00\", \"Dry Bulb Temperature\": 19.9, \"date\": \"2020-07-08T00:00:00\"}, {\"datetime\": \"2020-07-08T20:00:00\", \"Dry Bulb Temperature\": 19.0, \"date\": \"2020-07-08T00:00:00\"}, {\"datetime\": \"2020-07-08T21:00:00\", \"Dry Bulb Temperature\": 18.5, \"date\": \"2020-07-08T00:00:00\"}, {\"datetime\": \"2020-07-08T22:00:00\", \"Dry Bulb Temperature\": 18.1, \"date\": \"2020-07-08T00:00:00\"}, {\"datetime\": \"2020-07-08T23:00:00\", \"Dry Bulb Temperature\": 17.6, \"date\": \"2020-07-08T00:00:00\"}]}}, {\"mode\": \"vega-lite\"});\n",
       "</script>"
      ],
      "text/plain": [
       "alt.Chart(...)"
      ]
     },
     "execution_count": 199,
     "metadata": {},
     "output_type": "execute_result"
    }
   ],
   "source": [
    "alt.Chart(date_df).mark_bar().encode(\n",
    "    alt.X(\"Dry Bulb Temperature:Q\").bin(step=0.5),\n",
    "    y=alt.Y(\"count()\", title=\"count\"),\n",
    "    row=\"date\",\n",
    ").properties(\n",
    "    width=300, height=50\n",
    ")"
   ]
  },
  {
   "cell_type": "markdown",
   "metadata": {},
   "source": [
    "#### faceted (by day) analysis of variation "
   ]
  },
  {
   "cell_type": "code",
   "execution_count": null,
   "metadata": {},
   "outputs": [
    {
     "data": {
      "text/html": [
       "<div><style>\n",
       ".dataframe > thead > tr,\n",
       ".dataframe > tbody > tr {\n",
       "  text-align: right;\n",
       "  white-space: pre-wrap;\n",
       "}\n",
       "</style>\n",
       "<small>shape: (5, 3)</small><table border=\"1\" class=\"dataframe\"><thead><tr><th>date</th><th>global var</th><th>aftenoon var</th></tr><tr><td>date</td><td>f64</td><td>f64</td></tr></thead><tbody><tr><td>2020-07-01</td><td>7.918678</td><td>1.974286</td></tr><tr><td>2020-07-02</td><td>9.210851</td><td>2.025714</td></tr><tr><td>2020-07-03</td><td>4.458478</td><td>0.834286</td></tr><tr><td>2020-07-04</td><td>13.190417</td><td>2.13125</td></tr><tr><td>2020-07-05</td><td>9.436232</td><td>4.925714</td></tr></tbody></table></div>"
      ],
      "text/plain": [
       "shape: (5, 3)\n",
       "┌────────────┬────────────┬──────────────┐\n",
       "│ date       ┆ global var ┆ aftenoon var │\n",
       "│ ---        ┆ ---        ┆ ---          │\n",
       "│ date       ┆ f64        ┆ f64          │\n",
       "╞════════════╪════════════╪══════════════╡\n",
       "│ 2020-07-01 ┆ 7.918678   ┆ 1.974286     │\n",
       "│ 2020-07-02 ┆ 9.210851   ┆ 2.025714     │\n",
       "│ 2020-07-03 ┆ 4.458478   ┆ 0.834286     │\n",
       "│ 2020-07-04 ┆ 13.190417  ┆ 2.13125      │\n",
       "│ 2020-07-05 ┆ 9.436232   ┆ 4.925714     │\n",
       "└────────────┴────────────┴──────────────┘"
      ]
     },
     "execution_count": 195,
     "metadata": {},
     "output_type": "execute_result"
    }
   ],
   "source": [
    "var_df = date_df.with_columns(hour=pl.col(\"datetime\").dt.hour()).group_by(\n",
    "    \"date\", maintain_order=True\n",
    ").agg(\n",
    "    pl.col(\"Dry Bulb Temperature\").var().alias(\"global var\"),\n",
    "    pl.col(\"Dry Bulb Temperature\").filter(\n",
    "        (pl.col(\"hour\") > 9) & (pl.col(\"hour\") < 18)).var().alias(\"aftenoon var\"),\n",
    ")\n",
    "\n",
    "join_df = date_df.join(var_df, on=\"date\", )\n",
    "join_df.head()"
   ]
  },
  {
   "cell_type": "code",
   "execution_count": null,
   "metadata": {},
   "outputs": [
    {
     "data": {
      "text/html": [
       "\n",
       "<style>\n",
       "  #altair-viz-f31dfe1ed6074a978c85d85ce452cd81.vega-embed {\n",
       "    width: 100%;\n",
       "    display: flex;\n",
       "  }\n",
       "\n",
       "  #altair-viz-f31dfe1ed6074a978c85d85ce452cd81.vega-embed details,\n",
       "  #altair-viz-f31dfe1ed6074a978c85d85ce452cd81.vega-embed details summary {\n",
       "    position: relative;\n",
       "  }\n",
       "</style>\n",
       "<div id=\"altair-viz-f31dfe1ed6074a978c85d85ce452cd81\"></div>\n",
       "<script type=\"text/javascript\">\n",
       "  var VEGA_DEBUG = (typeof VEGA_DEBUG == \"undefined\") ? {} : VEGA_DEBUG;\n",
       "  (function(spec, embedOpt){\n",
       "    let outputDiv = document.currentScript.previousElementSibling;\n",
       "    if (outputDiv.id !== \"altair-viz-f31dfe1ed6074a978c85d85ce452cd81\") {\n",
       "      outputDiv = document.getElementById(\"altair-viz-f31dfe1ed6074a978c85d85ce452cd81\");\n",
       "    }\n",
       "\n",
       "    const paths = {\n",
       "      \"vega\": \"https://cdn.jsdelivr.net/npm/vega@5?noext\",\n",
       "      \"vega-lib\": \"https://cdn.jsdelivr.net/npm/vega-lib?noext\",\n",
       "      \"vega-lite\": \"https://cdn.jsdelivr.net/npm/vega-lite@5.20.1?noext\",\n",
       "      \"vega-embed\": \"https://cdn.jsdelivr.net/npm/vega-embed@6?noext\",\n",
       "    };\n",
       "\n",
       "    function maybeLoadScript(lib, version) {\n",
       "      var key = `${lib.replace(\"-\", \"\")}_version`;\n",
       "      return (VEGA_DEBUG[key] == version) ?\n",
       "        Promise.resolve(paths[lib]) :\n",
       "        new Promise(function(resolve, reject) {\n",
       "          var s = document.createElement('script');\n",
       "          document.getElementsByTagName(\"head\")[0].appendChild(s);\n",
       "          s.async = true;\n",
       "          s.onload = () => {\n",
       "            VEGA_DEBUG[key] = version;\n",
       "            return resolve(paths[lib]);\n",
       "          };\n",
       "          s.onerror = () => reject(`Error loading script: ${paths[lib]}`);\n",
       "          s.src = paths[lib];\n",
       "        });\n",
       "    }\n",
       "\n",
       "    function showError(err) {\n",
       "      outputDiv.innerHTML = `<div class=\"error\" style=\"color:red;\">${err}</div>`;\n",
       "      throw err;\n",
       "    }\n",
       "\n",
       "    function displayChart(vegaEmbed) {\n",
       "      vegaEmbed(outputDiv, spec, embedOpt)\n",
       "        .catch(err => showError(`Javascript Error: ${err.message}<br>This usually means there's a typo in your chart specification. See the javascript console for the full traceback.`));\n",
       "    }\n",
       "\n",
       "    if(typeof define === \"function\" && define.amd) {\n",
       "      requirejs.config({paths});\n",
       "      let deps = [\"vega-embed\"];\n",
       "      require(deps, displayChart, err => showError(`Error loading script: ${err.message}`));\n",
       "    } else {\n",
       "      maybeLoadScript(\"vega\", \"5\")\n",
       "        .then(() => maybeLoadScript(\"vega-lite\", \"5.20.1\"))\n",
       "        .then(() => maybeLoadScript(\"vega-embed\", \"6\"))\n",
       "        .catch(showError)\n",
       "        .then(() => displayChart(vegaEmbed));\n",
       "    }\n",
       "  })({\"config\": {\"view\": {\"continuousWidth\": 300, \"continuousHeight\": 300}}, \"data\": {\"name\": \"data-eb147e38f01ae3630d1e70dd6544f515\"}, \"facet\": {\"column\": {\"field\": \"datetime\", \"timeUnit\": \"date\", \"title\": \"day\", \"type\": \"ordinal\"}}, \"spec\": {\"layer\": [{\"mark\": {\"type\": \"line\"}, \"encoding\": {\"x\": {\"field\": \"datetime\", \"timeUnit\": \"hours\", \"title\": \"hours\", \"type\": \"temporal\"}, \"y\": {\"field\": \"Dry Bulb Temperature\", \"scale\": {\"zero\": false}, \"type\": \"quantitative\"}}}, {\"mark\": {\"type\": \"text\", \"baseline\": \"top\"}, \"encoding\": {\"text\": {\"aggregate\": \"mean\", \"field\": \"global var\", \"format\": \".1f\", \"title\": \"glob\", \"type\": \"quantitative\"}, \"x\": {\"value\": 12}, \"y\": {\"value\": 12}}}, {\"mark\": {\"type\": \"text\", \"baseline\": \"bottom\", \"fontWeight\": \"bold\"}, \"encoding\": {\"text\": {\"aggregate\": \"mean\", \"field\": \"aftenoon var\", \"format\": \".1f\", \"type\": \"quantitative\"}, \"x\": {\"value\": 12}, \"y\": {\"value\": 12}}}], \"height\": 100, \"width\": 100}, \"$schema\": \"https://vega.github.io/schema/vega-lite/v5.20.1.json\", \"datasets\": {\"data-eb147e38f01ae3630d1e70dd6544f515\": [{\"datetime\": \"2020-07-01T00:00:00\", \"Dry Bulb Temperature\": 17.6, \"date\": \"2020-07-01T00:00:00\", \"global var\": 7.918677536231888, \"aftenoon var\": 1.9742857142857169}, {\"datetime\": \"2020-07-01T01:00:00\", \"Dry Bulb Temperature\": 17.1, \"date\": \"2020-07-01T00:00:00\", \"global var\": 7.918677536231888, \"aftenoon var\": 1.9742857142857169}, {\"datetime\": \"2020-07-01T02:00:00\", \"Dry Bulb Temperature\": 16.5, \"date\": \"2020-07-01T00:00:00\", \"global var\": 7.918677536231888, \"aftenoon var\": 1.9742857142857169}, {\"datetime\": \"2020-07-01T03:00:00\", \"Dry Bulb Temperature\": 16.0, \"date\": \"2020-07-01T00:00:00\", \"global var\": 7.918677536231888, \"aftenoon var\": 1.9742857142857169}, {\"datetime\": \"2020-07-01T04:00:00\", \"Dry Bulb Temperature\": 15.4, \"date\": \"2020-07-01T00:00:00\", \"global var\": 7.918677536231888, \"aftenoon var\": 1.9742857142857169}, {\"datetime\": \"2020-07-01T05:00:00\", \"Dry Bulb Temperature\": 16.0, \"date\": \"2020-07-01T00:00:00\", \"global var\": 7.918677536231888, \"aftenoon var\": 1.9742857142857169}, {\"datetime\": \"2020-07-01T06:00:00\", \"Dry Bulb Temperature\": 16.2, \"date\": \"2020-07-01T00:00:00\", \"global var\": 7.918677536231888, \"aftenoon var\": 1.9742857142857169}, {\"datetime\": \"2020-07-01T07:00:00\", \"Dry Bulb Temperature\": 17.0, \"date\": \"2020-07-01T00:00:00\", \"global var\": 7.918677536231888, \"aftenoon var\": 1.9742857142857169}, {\"datetime\": \"2020-07-01T08:00:00\", \"Dry Bulb Temperature\": 17.4, \"date\": \"2020-07-01T00:00:00\", \"global var\": 7.918677536231888, \"aftenoon var\": 1.9742857142857169}, {\"datetime\": \"2020-07-01T09:00:00\", \"Dry Bulb Temperature\": 19.4, \"date\": \"2020-07-01T00:00:00\", \"global var\": 7.918677536231888, \"aftenoon var\": 1.9742857142857169}, {\"datetime\": \"2020-07-01T10:00:00\", \"Dry Bulb Temperature\": 21.2, \"date\": \"2020-07-01T00:00:00\", \"global var\": 7.918677536231888, \"aftenoon var\": 1.9742857142857169}, {\"datetime\": \"2020-07-01T11:00:00\", \"Dry Bulb Temperature\": 22.2, \"date\": \"2020-07-01T00:00:00\", \"global var\": 7.918677536231888, \"aftenoon var\": 1.9742857142857169}, {\"datetime\": \"2020-07-01T12:00:00\", \"Dry Bulb Temperature\": 23.2, \"date\": \"2020-07-01T00:00:00\", \"global var\": 7.918677536231888, \"aftenoon var\": 1.9742857142857169}, {\"datetime\": \"2020-07-01T13:00:00\", \"Dry Bulb Temperature\": 24.0, \"date\": \"2020-07-01T00:00:00\", \"global var\": 7.918677536231888, \"aftenoon var\": 1.9742857142857169}, {\"datetime\": \"2020-07-01T14:00:00\", \"Dry Bulb Temperature\": 23.8, \"date\": \"2020-07-01T00:00:00\", \"global var\": 7.918677536231888, \"aftenoon var\": 1.9742857142857169}, {\"datetime\": \"2020-07-01T15:00:00\", \"Dry Bulb Temperature\": 23.2, \"date\": \"2020-07-01T00:00:00\", \"global var\": 7.918677536231888, \"aftenoon var\": 1.9742857142857169}, {\"datetime\": \"2020-07-01T16:00:00\", \"Dry Bulb Temperature\": 20.8, \"date\": \"2020-07-01T00:00:00\", \"global var\": 7.918677536231888, \"aftenoon var\": 1.9742857142857169}, {\"datetime\": \"2020-07-01T17:00:00\", \"Dry Bulb Temperature\": 20.4, \"date\": \"2020-07-01T00:00:00\", \"global var\": 7.918677536231888, \"aftenoon var\": 1.9742857142857169}, {\"datetime\": \"2020-07-01T18:00:00\", \"Dry Bulb Temperature\": 18.4, \"date\": \"2020-07-01T00:00:00\", \"global var\": 7.918677536231888, \"aftenoon var\": 1.9742857142857169}, {\"datetime\": \"2020-07-01T19:00:00\", \"Dry Bulb Temperature\": 18.5, \"date\": \"2020-07-01T00:00:00\", \"global var\": 7.918677536231888, \"aftenoon var\": 1.9742857142857169}, {\"datetime\": \"2020-07-01T20:00:00\", \"Dry Bulb Temperature\": 17.5, \"date\": \"2020-07-01T00:00:00\", \"global var\": 7.918677536231888, \"aftenoon var\": 1.9742857142857169}, {\"datetime\": \"2020-07-01T21:00:00\", \"Dry Bulb Temperature\": 17.0, \"date\": \"2020-07-01T00:00:00\", \"global var\": 7.918677536231888, \"aftenoon var\": 1.9742857142857169}, {\"datetime\": \"2020-07-01T22:00:00\", \"Dry Bulb Temperature\": 16.5, \"date\": \"2020-07-01T00:00:00\", \"global var\": 7.918677536231888, \"aftenoon var\": 1.9742857142857169}, {\"datetime\": \"2020-07-01T23:00:00\", \"Dry Bulb Temperature\": 16.0, \"date\": \"2020-07-01T00:00:00\", \"global var\": 7.918677536231888, \"aftenoon var\": 1.9742857142857169}, {\"datetime\": \"2020-07-02T00:00:00\", \"Dry Bulb Temperature\": 15.5, \"date\": \"2020-07-02T00:00:00\", \"global var\": 9.210851449275362, \"aftenoon var\": 2.025714285714288}, {\"datetime\": \"2020-07-02T01:00:00\", \"Dry Bulb Temperature\": 14.9, \"date\": \"2020-07-02T00:00:00\", \"global var\": 9.210851449275362, \"aftenoon var\": 2.025714285714288}, {\"datetime\": \"2020-07-02T02:00:00\", \"Dry Bulb Temperature\": 14.4, \"date\": \"2020-07-02T00:00:00\", \"global var\": 9.210851449275362, \"aftenoon var\": 2.025714285714288}, {\"datetime\": \"2020-07-02T03:00:00\", \"Dry Bulb Temperature\": 13.9, \"date\": \"2020-07-02T00:00:00\", \"global var\": 9.210851449275362, \"aftenoon var\": 2.025714285714288}, {\"datetime\": \"2020-07-02T04:00:00\", \"Dry Bulb Temperature\": 13.4, \"date\": \"2020-07-02T00:00:00\", \"global var\": 9.210851449275362, \"aftenoon var\": 2.025714285714288}, {\"datetime\": \"2020-07-02T05:00:00\", \"Dry Bulb Temperature\": 14.0, \"date\": \"2020-07-02T00:00:00\", \"global var\": 9.210851449275362, \"aftenoon var\": 2.025714285714288}, {\"datetime\": \"2020-07-02T06:00:00\", \"Dry Bulb Temperature\": 14.8, \"date\": \"2020-07-02T00:00:00\", \"global var\": 9.210851449275362, \"aftenoon var\": 2.025714285714288}, {\"datetime\": \"2020-07-02T07:00:00\", \"Dry Bulb Temperature\": 15.8, \"date\": \"2020-07-02T00:00:00\", \"global var\": 9.210851449275362, \"aftenoon var\": 2.025714285714288}, {\"datetime\": \"2020-07-02T08:00:00\", \"Dry Bulb Temperature\": 17.4, \"date\": \"2020-07-02T00:00:00\", \"global var\": 9.210851449275362, \"aftenoon var\": 2.025714285714288}, {\"datetime\": \"2020-07-02T09:00:00\", \"Dry Bulb Temperature\": 19.0, \"date\": \"2020-07-02T00:00:00\", \"global var\": 9.210851449275362, \"aftenoon var\": 2.025714285714288}, {\"datetime\": \"2020-07-02T10:00:00\", \"Dry Bulb Temperature\": 19.4, \"date\": \"2020-07-02T00:00:00\", \"global var\": 9.210851449275362, \"aftenoon var\": 2.025714285714288}, {\"datetime\": \"2020-07-02T11:00:00\", \"Dry Bulb Temperature\": 21.2, \"date\": \"2020-07-02T00:00:00\", \"global var\": 9.210851449275362, \"aftenoon var\": 2.025714285714288}, {\"datetime\": \"2020-07-02T12:00:00\", \"Dry Bulb Temperature\": 22.2, \"date\": \"2020-07-02T00:00:00\", \"global var\": 9.210851449275362, \"aftenoon var\": 2.025714285714288}, {\"datetime\": \"2020-07-02T13:00:00\", \"Dry Bulb Temperature\": 23.0, \"date\": \"2020-07-02T00:00:00\", \"global var\": 9.210851449275362, \"aftenoon var\": 2.025714285714288}, {\"datetime\": \"2020-07-02T14:00:00\", \"Dry Bulb Temperature\": 22.9, \"date\": \"2020-07-02T00:00:00\", \"global var\": 9.210851449275362, \"aftenoon var\": 2.025714285714288}, {\"datetime\": \"2020-07-02T15:00:00\", \"Dry Bulb Temperature\": 22.4, \"date\": \"2020-07-02T00:00:00\", \"global var\": 9.210851449275362, \"aftenoon var\": 2.025714285714288}, {\"datetime\": \"2020-07-02T16:00:00\", \"Dry Bulb Temperature\": 20.2, \"date\": \"2020-07-02T00:00:00\", \"global var\": 9.210851449275362, \"aftenoon var\": 2.025714285714288}, {\"datetime\": \"2020-07-02T17:00:00\", \"Dry Bulb Temperature\": 19.9, \"date\": \"2020-07-02T00:00:00\", \"global var\": 9.210851449275362, \"aftenoon var\": 2.025714285714288}, {\"datetime\": \"2020-07-02T18:00:00\", \"Dry Bulb Temperature\": 18.1, \"date\": \"2020-07-02T00:00:00\", \"global var\": 9.210851449275362, \"aftenoon var\": 2.025714285714288}, {\"datetime\": \"2020-07-02T19:00:00\", \"Dry Bulb Temperature\": 18.3, \"date\": \"2020-07-02T00:00:00\", \"global var\": 9.210851449275362, \"aftenoon var\": 2.025714285714288}, {\"datetime\": \"2020-07-02T20:00:00\", \"Dry Bulb Temperature\": 17.4, \"date\": \"2020-07-02T00:00:00\", \"global var\": 9.210851449275362, \"aftenoon var\": 2.025714285714288}, {\"datetime\": \"2020-07-02T21:00:00\", \"Dry Bulb Temperature\": 17.0, \"date\": \"2020-07-02T00:00:00\", \"global var\": 9.210851449275362, \"aftenoon var\": 2.025714285714288}, {\"datetime\": \"2020-07-02T22:00:00\", \"Dry Bulb Temperature\": 16.6, \"date\": \"2020-07-02T00:00:00\", \"global var\": 9.210851449275362, \"aftenoon var\": 2.025714285714288}, {\"datetime\": \"2020-07-02T23:00:00\", \"Dry Bulb Temperature\": 16.2, \"date\": \"2020-07-02T00:00:00\", \"global var\": 9.210851449275362, \"aftenoon var\": 2.025714285714288}, {\"datetime\": \"2020-07-03T00:00:00\", \"Dry Bulb Temperature\": 15.8, \"date\": \"2020-07-03T00:00:00\", \"global var\": 4.458478260869562, \"aftenoon var\": 0.8342857142857129}, {\"datetime\": \"2020-07-03T01:00:00\", \"Dry Bulb Temperature\": 15.4, \"date\": \"2020-07-03T00:00:00\", \"global var\": 4.458478260869562, \"aftenoon var\": 0.8342857142857129}, {\"datetime\": \"2020-07-03T02:00:00\", \"Dry Bulb Temperature\": 15.0, \"date\": \"2020-07-03T00:00:00\", \"global var\": 4.458478260869562, \"aftenoon var\": 0.8342857142857129}, {\"datetime\": \"2020-07-03T03:00:00\", \"Dry Bulb Temperature\": 14.6, \"date\": \"2020-07-03T00:00:00\", \"global var\": 4.458478260869562, \"aftenoon var\": 0.8342857142857129}, {\"datetime\": \"2020-07-03T04:00:00\", \"Dry Bulb Temperature\": 14.3, \"date\": \"2020-07-03T00:00:00\", \"global var\": 4.458478260869562, \"aftenoon var\": 0.8342857142857129}, {\"datetime\": \"2020-07-03T05:00:00\", \"Dry Bulb Temperature\": 15.0, \"date\": \"2020-07-03T00:00:00\", \"global var\": 4.458478260869562, \"aftenoon var\": 0.8342857142857129}, {\"datetime\": \"2020-07-03T06:00:00\", \"Dry Bulb Temperature\": 15.1, \"date\": \"2020-07-03T00:00:00\", \"global var\": 4.458478260869562, \"aftenoon var\": 0.8342857142857129}, {\"datetime\": \"2020-07-03T07:00:00\", \"Dry Bulb Temperature\": 16.0, \"date\": \"2020-07-03T00:00:00\", \"global var\": 4.458478260869562, \"aftenoon var\": 0.8342857142857129}, {\"datetime\": \"2020-07-03T08:00:00\", \"Dry Bulb Temperature\": 17.1, \"date\": \"2020-07-03T00:00:00\", \"global var\": 4.458478260869562, \"aftenoon var\": 0.8342857142857129}, {\"datetime\": \"2020-07-03T09:00:00\", \"Dry Bulb Temperature\": 18.1, \"date\": \"2020-07-03T00:00:00\", \"global var\": 4.458478260869562, \"aftenoon var\": 0.8342857142857129}, {\"datetime\": \"2020-07-03T10:00:00\", \"Dry Bulb Temperature\": 19.2, \"date\": \"2020-07-03T00:00:00\", \"global var\": 4.458478260869562, \"aftenoon var\": 0.8342857142857129}, {\"datetime\": \"2020-07-03T11:00:00\", \"Dry Bulb Temperature\": 20.0, \"date\": \"2020-07-03T00:00:00\", \"global var\": 4.458478260869562, \"aftenoon var\": 0.8342857142857129}, {\"datetime\": \"2020-07-03T12:00:00\", \"Dry Bulb Temperature\": 20.2, \"date\": \"2020-07-03T00:00:00\", \"global var\": 4.458478260869562, \"aftenoon var\": 0.8342857142857129}, {\"datetime\": \"2020-07-03T13:00:00\", \"Dry Bulb Temperature\": 20.9, \"date\": \"2020-07-03T00:00:00\", \"global var\": 4.458478260869562, \"aftenoon var\": 0.8342857142857129}, {\"datetime\": \"2020-07-03T14:00:00\", \"Dry Bulb Temperature\": 21.0, \"date\": \"2020-07-03T00:00:00\", \"global var\": 4.458478260869562, \"aftenoon var\": 0.8342857142857129}, {\"datetime\": \"2020-07-03T15:00:00\", \"Dry Bulb Temperature\": 20.7, \"date\": \"2020-07-03T00:00:00\", \"global var\": 4.458478260869562, \"aftenoon var\": 0.8342857142857129}, {\"datetime\": \"2020-07-03T16:00:00\", \"Dry Bulb Temperature\": 18.8, \"date\": \"2020-07-03T00:00:00\", \"global var\": 4.458478260869562, \"aftenoon var\": 0.8342857142857129}, {\"datetime\": \"2020-07-03T17:00:00\", \"Dry Bulb Temperature\": 18.8, \"date\": \"2020-07-03T00:00:00\", \"global var\": 4.458478260869562, \"aftenoon var\": 0.8342857142857129}, {\"datetime\": \"2020-07-03T18:00:00\", \"Dry Bulb Temperature\": 17.2, \"date\": \"2020-07-03T00:00:00\", \"global var\": 4.458478260869562, \"aftenoon var\": 0.8342857142857129}, {\"datetime\": \"2020-07-03T19:00:00\", \"Dry Bulb Temperature\": 17.6, \"date\": \"2020-07-03T00:00:00\", \"global var\": 4.458478260869562, \"aftenoon var\": 0.8342857142857129}, {\"datetime\": \"2020-07-03T20:00:00\", \"Dry Bulb Temperature\": 17.0, \"date\": \"2020-07-03T00:00:00\", \"global var\": 4.458478260869562, \"aftenoon var\": 0.8342857142857129}, {\"datetime\": \"2020-07-03T21:00:00\", \"Dry Bulb Temperature\": 16.9, \"date\": \"2020-07-03T00:00:00\", \"global var\": 4.458478260869562, \"aftenoon var\": 0.8342857142857129}, {\"datetime\": \"2020-07-03T22:00:00\", \"Dry Bulb Temperature\": 16.8, \"date\": \"2020-07-03T00:00:00\", \"global var\": 4.458478260869562, \"aftenoon var\": 0.8342857142857129}, {\"datetime\": \"2020-07-03T23:00:00\", \"Dry Bulb Temperature\": 16.7, \"date\": \"2020-07-03T00:00:00\", \"global var\": 4.458478260869562, \"aftenoon var\": 0.8342857142857129}, {\"datetime\": \"2020-07-04T00:00:00\", \"Dry Bulb Temperature\": 16.5, \"date\": \"2020-07-04T00:00:00\", \"global var\": 13.190416666666668, \"aftenoon var\": 2.131249999999997}, {\"datetime\": \"2020-07-04T01:00:00\", \"Dry Bulb Temperature\": 16.4, \"date\": \"2020-07-04T00:00:00\", \"global var\": 13.190416666666668, \"aftenoon var\": 2.131249999999997}, {\"datetime\": \"2020-07-04T02:00:00\", \"Dry Bulb Temperature\": 16.3, \"date\": \"2020-07-04T00:00:00\", \"global var\": 13.190416666666668, \"aftenoon var\": 2.131249999999997}, {\"datetime\": \"2020-07-04T03:00:00\", \"Dry Bulb Temperature\": 16.1, \"date\": \"2020-07-04T00:00:00\", \"global var\": 13.190416666666668, \"aftenoon var\": 2.131249999999997}, {\"datetime\": \"2020-07-04T04:00:00\", \"Dry Bulb Temperature\": 16.0, \"date\": \"2020-07-04T00:00:00\", \"global var\": 13.190416666666668, \"aftenoon var\": 2.131249999999997}, {\"datetime\": \"2020-07-04T05:00:00\", \"Dry Bulb Temperature\": 17.0, \"date\": \"2020-07-04T00:00:00\", \"global var\": 13.190416666666668, \"aftenoon var\": 2.131249999999997}, {\"datetime\": \"2020-07-04T06:00:00\", \"Dry Bulb Temperature\": 17.2, \"date\": \"2020-07-04T00:00:00\", \"global var\": 13.190416666666668, \"aftenoon var\": 2.131249999999997}, {\"datetime\": \"2020-07-04T07:00:00\", \"Dry Bulb Temperature\": 18.2, \"date\": \"2020-07-04T00:00:00\", \"global var\": 13.190416666666668, \"aftenoon var\": 2.131249999999997}, {\"datetime\": \"2020-07-04T08:00:00\", \"Dry Bulb Temperature\": 19.7, \"date\": \"2020-07-04T00:00:00\", \"global var\": 13.190416666666668, \"aftenoon var\": 2.131249999999997}, {\"datetime\": \"2020-07-04T09:00:00\", \"Dry Bulb Temperature\": 21.4, \"date\": \"2020-07-04T00:00:00\", \"global var\": 13.190416666666668, \"aftenoon var\": 2.131249999999997}, {\"datetime\": \"2020-07-04T10:00:00\", \"Dry Bulb Temperature\": 23.2, \"date\": \"2020-07-04T00:00:00\", \"global var\": 13.190416666666668, \"aftenoon var\": 2.131249999999997}, {\"datetime\": \"2020-07-04T11:00:00\", \"Dry Bulb Temperature\": 24.0, \"date\": \"2020-07-04T00:00:00\", \"global var\": 13.190416666666668, \"aftenoon var\": 2.131249999999997}, {\"datetime\": \"2020-07-04T12:00:00\", \"Dry Bulb Temperature\": 25.5, \"date\": \"2020-07-04T00:00:00\", \"global var\": 13.190416666666668, \"aftenoon var\": 2.131249999999997}, {\"datetime\": \"2020-07-04T13:00:00\", \"Dry Bulb Temperature\": 26.5, \"date\": \"2020-07-04T00:00:00\", \"global var\": 13.190416666666668, \"aftenoon var\": 2.131249999999997}, {\"datetime\": \"2020-07-04T14:00:00\", \"Dry Bulb Temperature\": 27.0, \"date\": \"2020-07-04T00:00:00\", \"global var\": 13.190416666666668, \"aftenoon var\": 2.131249999999997}, {\"datetime\": \"2020-07-04T15:00:00\", \"Dry Bulb Temperature\": 26.4, \"date\": \"2020-07-04T00:00:00\", \"global var\": 13.190416666666668, \"aftenoon var\": 2.131249999999997}, {\"datetime\": \"2020-07-04T16:00:00\", \"Dry Bulb Temperature\": 24.1, \"date\": \"2020-07-04T00:00:00\", \"global var\": 13.190416666666668, \"aftenoon var\": 2.131249999999997}, {\"datetime\": \"2020-07-04T17:00:00\", \"Dry Bulb Temperature\": 23.8, \"date\": \"2020-07-04T00:00:00\", \"global var\": 13.190416666666668, \"aftenoon var\": 2.131249999999997}, {\"datetime\": \"2020-07-04T18:00:00\", \"Dry Bulb Temperature\": 21.8, \"date\": \"2020-07-04T00:00:00\", \"global var\": 13.190416666666668, \"aftenoon var\": 2.131249999999997}, {\"datetime\": \"2020-07-04T19:00:00\", \"Dry Bulb Temperature\": 22.0, \"date\": \"2020-07-04T00:00:00\", \"global var\": 13.190416666666668, \"aftenoon var\": 2.131249999999997}, {\"datetime\": \"2020-07-04T20:00:00\", \"Dry Bulb Temperature\": 21.0, \"date\": \"2020-07-04T00:00:00\", \"global var\": 13.190416666666668, \"aftenoon var\": 2.131249999999997}, {\"datetime\": \"2020-07-04T21:00:00\", \"Dry Bulb Temperature\": 20.6, \"date\": \"2020-07-04T00:00:00\", \"global var\": 13.190416666666668, \"aftenoon var\": 2.131249999999997}, {\"datetime\": \"2020-07-04T22:00:00\", \"Dry Bulb Temperature\": 20.1, \"date\": \"2020-07-04T00:00:00\", \"global var\": 13.190416666666668, \"aftenoon var\": 2.131249999999997}, {\"datetime\": \"2020-07-04T23:00:00\", \"Dry Bulb Temperature\": 19.7, \"date\": \"2020-07-04T00:00:00\", \"global var\": 13.190416666666668, \"aftenoon var\": 2.131249999999997}, {\"datetime\": \"2020-07-05T00:00:00\", \"Dry Bulb Temperature\": 19.2, \"date\": \"2020-07-05T00:00:00\", \"global var\": 9.436231884057964, \"aftenoon var\": 4.925714285714291}, {\"datetime\": \"2020-07-05T01:00:00\", \"Dry Bulb Temperature\": 18.7, \"date\": \"2020-07-05T00:00:00\", \"global var\": 9.436231884057964, \"aftenoon var\": 4.925714285714291}, {\"datetime\": \"2020-07-05T02:00:00\", \"Dry Bulb Temperature\": 18.3, \"date\": \"2020-07-05T00:00:00\", \"global var\": 9.436231884057964, \"aftenoon var\": 4.925714285714291}, {\"datetime\": \"2020-07-05T03:00:00\", \"Dry Bulb Temperature\": 17.8, \"date\": \"2020-07-05T00:00:00\", \"global var\": 9.436231884057964, \"aftenoon var\": 4.925714285714291}, {\"datetime\": \"2020-07-05T04:00:00\", \"Dry Bulb Temperature\": 17.3, \"date\": \"2020-07-05T00:00:00\", \"global var\": 9.436231884057964, \"aftenoon var\": 4.925714285714291}, {\"datetime\": \"2020-07-05T05:00:00\", \"Dry Bulb Temperature\": 18.0, \"date\": \"2020-07-05T00:00:00\", \"global var\": 9.436231884057964, \"aftenoon var\": 4.925714285714291}, {\"datetime\": \"2020-07-05T06:00:00\", \"Dry Bulb Temperature\": 18.3, \"date\": \"2020-07-05T00:00:00\", \"global var\": 9.436231884057964, \"aftenoon var\": 4.925714285714291}, {\"datetime\": \"2020-07-05T07:00:00\", \"Dry Bulb Temperature\": 18.6, \"date\": \"2020-07-05T00:00:00\", \"global var\": 9.436231884057964, \"aftenoon var\": 4.925714285714291}, {\"datetime\": \"2020-07-05T08:00:00\", \"Dry Bulb Temperature\": 19.2, \"date\": \"2020-07-05T00:00:00\", \"global var\": 9.436231884057964, \"aftenoon var\": 4.925714285714291}, {\"datetime\": \"2020-07-05T09:00:00\", \"Dry Bulb Temperature\": 20.2, \"date\": \"2020-07-05T00:00:00\", \"global var\": 9.436231884057964, \"aftenoon var\": 4.925714285714291}, {\"datetime\": \"2020-07-05T10:00:00\", \"Dry Bulb Temperature\": 21.2, \"date\": \"2020-07-05T00:00:00\", \"global var\": 9.436231884057964, \"aftenoon var\": 4.925714285714291}, {\"datetime\": \"2020-07-05T11:00:00\", \"Dry Bulb Temperature\": 22.4, \"date\": \"2020-07-05T00:00:00\", \"global var\": 9.436231884057964, \"aftenoon var\": 4.925714285714291}, {\"datetime\": \"2020-07-05T12:00:00\", \"Dry Bulb Temperature\": 24.4, \"date\": \"2020-07-05T00:00:00\", \"global var\": 9.436231884057964, \"aftenoon var\": 4.925714285714291}, {\"datetime\": \"2020-07-05T13:00:00\", \"Dry Bulb Temperature\": 26.4, \"date\": \"2020-07-05T00:00:00\", \"global var\": 9.436231884057964, \"aftenoon var\": 4.925714285714291}, {\"datetime\": \"2020-07-05T14:00:00\", \"Dry Bulb Temperature\": 27.6, \"date\": \"2020-07-05T00:00:00\", \"global var\": 9.436231884057964, \"aftenoon var\": 4.925714285714291}, {\"datetime\": \"2020-07-05T15:00:00\", \"Dry Bulb Temperature\": 26.9, \"date\": \"2020-07-05T00:00:00\", \"global var\": 9.436231884057964, \"aftenoon var\": 4.925714285714291}, {\"datetime\": \"2020-07-05T16:00:00\", \"Dry Bulb Temperature\": 24.4, \"date\": \"2020-07-05T00:00:00\", \"global var\": 9.436231884057964, \"aftenoon var\": 4.925714285714291}, {\"datetime\": \"2020-07-05T17:00:00\", \"Dry Bulb Temperature\": 23.9, \"date\": \"2020-07-05T00:00:00\", \"global var\": 9.436231884057964, \"aftenoon var\": 4.925714285714291}, {\"datetime\": \"2020-07-05T18:00:00\", \"Dry Bulb Temperature\": 21.7, \"date\": \"2020-07-05T00:00:00\", \"global var\": 9.436231884057964, \"aftenoon var\": 4.925714285714291}, {\"datetime\": \"2020-07-05T19:00:00\", \"Dry Bulb Temperature\": 21.7, \"date\": \"2020-07-05T00:00:00\", \"global var\": 9.436231884057964, \"aftenoon var\": 4.925714285714291}, {\"datetime\": \"2020-07-05T20:00:00\", \"Dry Bulb Temperature\": 20.6, \"date\": \"2020-07-05T00:00:00\", \"global var\": 9.436231884057964, \"aftenoon var\": 4.925714285714291}, {\"datetime\": \"2020-07-05T21:00:00\", \"Dry Bulb Temperature\": 20.0, \"date\": \"2020-07-05T00:00:00\", \"global var\": 9.436231884057964, \"aftenoon var\": 4.925714285714291}, {\"datetime\": \"2020-07-05T22:00:00\", \"Dry Bulb Temperature\": 19.3, \"date\": \"2020-07-05T00:00:00\", \"global var\": 9.436231884057964, \"aftenoon var\": 4.925714285714291}, {\"datetime\": \"2020-07-05T23:00:00\", \"Dry Bulb Temperature\": 18.7, \"date\": \"2020-07-05T00:00:00\", \"global var\": 9.436231884057964, \"aftenoon var\": 4.925714285714291}, {\"datetime\": \"2020-07-06T00:00:00\", \"Dry Bulb Temperature\": 18.1, \"date\": \"2020-07-06T00:00:00\", \"global var\": 10.987807971014485, \"aftenoon var\": 2.9278571428571483}, {\"datetime\": \"2020-07-06T01:00:00\", \"Dry Bulb Temperature\": 17.4, \"date\": \"2020-07-06T00:00:00\", \"global var\": 10.987807971014485, \"aftenoon var\": 2.9278571428571483}, {\"datetime\": \"2020-07-06T02:00:00\", \"Dry Bulb Temperature\": 16.8, \"date\": \"2020-07-06T00:00:00\", \"global var\": 10.987807971014485, \"aftenoon var\": 2.9278571428571483}, {\"datetime\": \"2020-07-06T03:00:00\", \"Dry Bulb Temperature\": 16.1, \"date\": \"2020-07-06T00:00:00\", \"global var\": 10.987807971014485, \"aftenoon var\": 2.9278571428571483}, {\"datetime\": \"2020-07-06T04:00:00\", \"Dry Bulb Temperature\": 15.5, \"date\": \"2020-07-06T00:00:00\", \"global var\": 10.987807971014485, \"aftenoon var\": 2.9278571428571483}, {\"datetime\": \"2020-07-06T05:00:00\", \"Dry Bulb Temperature\": 16.0, \"date\": \"2020-07-06T00:00:00\", \"global var\": 10.987807971014485, \"aftenoon var\": 2.9278571428571483}, {\"datetime\": \"2020-07-06T06:00:00\", \"Dry Bulb Temperature\": 16.2, \"date\": \"2020-07-06T00:00:00\", \"global var\": 10.987807971014485, \"aftenoon var\": 2.9278571428571483}, {\"datetime\": \"2020-07-06T07:00:00\", \"Dry Bulb Temperature\": 17.4, \"date\": \"2020-07-06T00:00:00\", \"global var\": 10.987807971014485, \"aftenoon var\": 2.9278571428571483}, {\"datetime\": \"2020-07-06T08:00:00\", \"Dry Bulb Temperature\": 18.2, \"date\": \"2020-07-06T00:00:00\", \"global var\": 10.987807971014485, \"aftenoon var\": 2.9278571428571483}, {\"datetime\": \"2020-07-06T09:00:00\", \"Dry Bulb Temperature\": 19.2, \"date\": \"2020-07-06T00:00:00\", \"global var\": 10.987807971014485, \"aftenoon var\": 2.9278571428571483}, {\"datetime\": \"2020-07-06T10:00:00\", \"Dry Bulb Temperature\": 20.9, \"date\": \"2020-07-06T00:00:00\", \"global var\": 10.987807971014485, \"aftenoon var\": 2.9278571428571483}, {\"datetime\": \"2020-07-06T11:00:00\", \"Dry Bulb Temperature\": 24.2, \"date\": \"2020-07-06T00:00:00\", \"global var\": 10.987807971014485, \"aftenoon var\": 2.9278571428571483}, {\"datetime\": \"2020-07-06T12:00:00\", \"Dry Bulb Temperature\": 25.0, \"date\": \"2020-07-06T00:00:00\", \"global var\": 10.987807971014485, \"aftenoon var\": 2.9278571428571483}, {\"datetime\": \"2020-07-06T13:00:00\", \"Dry Bulb Temperature\": 24.8, \"date\": \"2020-07-06T00:00:00\", \"global var\": 10.987807971014485, \"aftenoon var\": 2.9278571428571483}, {\"datetime\": \"2020-07-06T14:00:00\", \"Dry Bulb Temperature\": 26.0, \"date\": \"2020-07-06T00:00:00\", \"global var\": 10.987807971014485, \"aftenoon var\": 2.9278571428571483}, {\"datetime\": \"2020-07-06T15:00:00\", \"Dry Bulb Temperature\": 25.4, \"date\": \"2020-07-06T00:00:00\", \"global var\": 10.987807971014485, \"aftenoon var\": 2.9278571428571483}, {\"datetime\": \"2020-07-06T16:00:00\", \"Dry Bulb Temperature\": 23.0, \"date\": \"2020-07-06T00:00:00\", \"global var\": 10.987807971014485, \"aftenoon var\": 2.9278571428571483}, {\"datetime\": \"2020-07-06T17:00:00\", \"Dry Bulb Temperature\": 22.5, \"date\": \"2020-07-06T00:00:00\", \"global var\": 10.987807971014485, \"aftenoon var\": 2.9278571428571483}, {\"datetime\": \"2020-07-06T18:00:00\", \"Dry Bulb Temperature\": 20.5, \"date\": \"2020-07-06T00:00:00\", \"global var\": 10.987807971014485, \"aftenoon var\": 2.9278571428571483}, {\"datetime\": \"2020-07-06T19:00:00\", \"Dry Bulb Temperature\": 20.6, \"date\": \"2020-07-06T00:00:00\", \"global var\": 10.987807971014485, \"aftenoon var\": 2.9278571428571483}, {\"datetime\": \"2020-07-06T20:00:00\", \"Dry Bulb Temperature\": 19.6, \"date\": \"2020-07-06T00:00:00\", \"global var\": 10.987807971014485, \"aftenoon var\": 2.9278571428571483}, {\"datetime\": \"2020-07-06T21:00:00\", \"Dry Bulb Temperature\": 19.0, \"date\": \"2020-07-06T00:00:00\", \"global var\": 10.987807971014485, \"aftenoon var\": 2.9278571428571483}, {\"datetime\": \"2020-07-06T22:00:00\", \"Dry Bulb Temperature\": 18.4, \"date\": \"2020-07-06T00:00:00\", \"global var\": 10.987807971014485, \"aftenoon var\": 2.9278571428571483}, {\"datetime\": \"2020-07-06T23:00:00\", \"Dry Bulb Temperature\": 17.9, \"date\": \"2020-07-06T00:00:00\", \"global var\": 10.987807971014485, \"aftenoon var\": 2.9278571428571483}, {\"datetime\": \"2020-07-07T00:00:00\", \"Dry Bulb Temperature\": 17.3, \"date\": \"2020-07-07T00:00:00\", \"global var\": 7.936231884057975, \"aftenoon var\": 1.3171428571428567}, {\"datetime\": \"2020-07-07T01:00:00\", \"Dry Bulb Temperature\": 16.8, \"date\": \"2020-07-07T00:00:00\", \"global var\": 7.936231884057975, \"aftenoon var\": 1.3171428571428567}, {\"datetime\": \"2020-07-07T02:00:00\", \"Dry Bulb Temperature\": 16.2, \"date\": \"2020-07-07T00:00:00\", \"global var\": 7.936231884057975, \"aftenoon var\": 1.3171428571428567}, {\"datetime\": \"2020-07-07T03:00:00\", \"Dry Bulb Temperature\": 15.7, \"date\": \"2020-07-07T00:00:00\", \"global var\": 7.936231884057975, \"aftenoon var\": 1.3171428571428567}, {\"datetime\": \"2020-07-07T04:00:00\", \"Dry Bulb Temperature\": 15.1, \"date\": \"2020-07-07T00:00:00\", \"global var\": 7.936231884057975, \"aftenoon var\": 1.3171428571428567}, {\"datetime\": \"2020-07-07T05:00:00\", \"Dry Bulb Temperature\": 15.7, \"date\": \"2020-07-07T00:00:00\", \"global var\": 7.936231884057975, \"aftenoon var\": 1.3171428571428567}, {\"datetime\": \"2020-07-07T06:00:00\", \"Dry Bulb Temperature\": 16.0, \"date\": \"2020-07-07T00:00:00\", \"global var\": 7.936231884057975, \"aftenoon var\": 1.3171428571428567}, {\"datetime\": \"2020-07-07T07:00:00\", \"Dry Bulb Temperature\": 16.4, \"date\": \"2020-07-07T00:00:00\", \"global var\": 7.936231884057975, \"aftenoon var\": 1.3171428571428567}, {\"datetime\": \"2020-07-07T08:00:00\", \"Dry Bulb Temperature\": 18.4, \"date\": \"2020-07-07T00:00:00\", \"global var\": 7.936231884057975, \"aftenoon var\": 1.3171428571428567}, {\"datetime\": \"2020-07-07T09:00:00\", \"Dry Bulb Temperature\": 20.4, \"date\": \"2020-07-07T00:00:00\", \"global var\": 7.936231884057975, \"aftenoon var\": 1.3171428571428567}, {\"datetime\": \"2020-07-07T10:00:00\", \"Dry Bulb Temperature\": 21.6, \"date\": \"2020-07-07T00:00:00\", \"global var\": 7.936231884057975, \"aftenoon var\": 1.3171428571428567}, {\"datetime\": \"2020-07-07T11:00:00\", \"Dry Bulb Temperature\": 22.0, \"date\": \"2020-07-07T00:00:00\", \"global var\": 7.936231884057975, \"aftenoon var\": 1.3171428571428567}, {\"datetime\": \"2020-07-07T12:00:00\", \"Dry Bulb Temperature\": 22.2, \"date\": \"2020-07-07T00:00:00\", \"global var\": 7.936231884057975, \"aftenoon var\": 1.3171428571428567}, {\"datetime\": \"2020-07-07T13:00:00\", \"Dry Bulb Temperature\": 23.0, \"date\": \"2020-07-07T00:00:00\", \"global var\": 7.936231884057975, \"aftenoon var\": 1.3171428571428567}, {\"datetime\": \"2020-07-07T14:00:00\", \"Dry Bulb Temperature\": 24.4, \"date\": \"2020-07-07T00:00:00\", \"global var\": 7.936231884057975, \"aftenoon var\": 1.3171428571428567}, {\"datetime\": \"2020-07-07T15:00:00\", \"Dry Bulb Temperature\": 23.9, \"date\": \"2020-07-07T00:00:00\", \"global var\": 7.936231884057975, \"aftenoon var\": 1.3171428571428567}, {\"datetime\": \"2020-07-07T16:00:00\", \"Dry Bulb Temperature\": 21.6, \"date\": \"2020-07-07T00:00:00\", \"global var\": 7.936231884057975, \"aftenoon var\": 1.3171428571428567}, {\"datetime\": \"2020-07-07T17:00:00\", \"Dry Bulb Temperature\": 21.3, \"date\": \"2020-07-07T00:00:00\", \"global var\": 7.936231884057975, \"aftenoon var\": 1.3171428571428567}, {\"datetime\": \"2020-07-07T18:00:00\", \"Dry Bulb Temperature\": 19.4, \"date\": \"2020-07-07T00:00:00\", \"global var\": 7.936231884057975, \"aftenoon var\": 1.3171428571428567}, {\"datetime\": \"2020-07-07T19:00:00\", \"Dry Bulb Temperature\": 19.6, \"date\": \"2020-07-07T00:00:00\", \"global var\": 7.936231884057975, \"aftenoon var\": 1.3171428571428567}, {\"datetime\": \"2020-07-07T20:00:00\", \"Dry Bulb Temperature\": 18.7, \"date\": \"2020-07-07T00:00:00\", \"global var\": 7.936231884057975, \"aftenoon var\": 1.3171428571428567}, {\"datetime\": \"2020-07-07T21:00:00\", \"Dry Bulb Temperature\": 18.3, \"date\": \"2020-07-07T00:00:00\", \"global var\": 7.936231884057975, \"aftenoon var\": 1.3171428571428567}, {\"datetime\": \"2020-07-07T22:00:00\", \"Dry Bulb Temperature\": 17.8, \"date\": \"2020-07-07T00:00:00\", \"global var\": 7.936231884057975, \"aftenoon var\": 1.3171428571428567}, {\"datetime\": \"2020-07-07T23:00:00\", \"Dry Bulb Temperature\": 17.4, \"date\": \"2020-07-07T00:00:00\", \"global var\": 7.936231884057975, \"aftenoon var\": 1.3171428571428567}, {\"datetime\": \"2020-07-08T00:00:00\", \"Dry Bulb Temperature\": 17.0, \"date\": \"2020-07-08T00:00:00\", \"global var\": 9.361449275362306, \"aftenoon var\": 1.4742857142857138}, {\"datetime\": \"2020-07-08T01:00:00\", \"Dry Bulb Temperature\": 16.6, \"date\": \"2020-07-08T00:00:00\", \"global var\": 9.361449275362306, \"aftenoon var\": 1.4742857142857138}, {\"datetime\": \"2020-07-08T02:00:00\", \"Dry Bulb Temperature\": 16.1, \"date\": \"2020-07-08T00:00:00\", \"global var\": 9.361449275362306, \"aftenoon var\": 1.4742857142857138}, {\"datetime\": \"2020-07-08T03:00:00\", \"Dry Bulb Temperature\": 15.7, \"date\": \"2020-07-08T00:00:00\", \"global var\": 9.361449275362306, \"aftenoon var\": 1.4742857142857138}, {\"datetime\": \"2020-07-08T04:00:00\", \"Dry Bulb Temperature\": 15.3, \"date\": \"2020-07-08T00:00:00\", \"global var\": 9.361449275362306, \"aftenoon var\": 1.4742857142857138}, {\"datetime\": \"2020-07-08T05:00:00\", \"Dry Bulb Temperature\": 16.0, \"date\": \"2020-07-08T00:00:00\", \"global var\": 9.361449275362306, \"aftenoon var\": 1.4742857142857138}, {\"datetime\": \"2020-07-08T06:00:00\", \"Dry Bulb Temperature\": 16.2, \"date\": \"2020-07-08T00:00:00\", \"global var\": 9.361449275362306, \"aftenoon var\": 1.4742857142857138}, {\"datetime\": \"2020-07-08T07:00:00\", \"Dry Bulb Temperature\": 17.2, \"date\": \"2020-07-08T00:00:00\", \"global var\": 9.361449275362306, \"aftenoon var\": 1.4742857142857138}, {\"datetime\": \"2020-07-08T08:00:00\", \"Dry Bulb Temperature\": 18.4, \"date\": \"2020-07-08T00:00:00\", \"global var\": 9.361449275362306, \"aftenoon var\": 1.4742857142857138}, {\"datetime\": \"2020-07-08T09:00:00\", \"Dry Bulb Temperature\": 20.2, \"date\": \"2020-07-08T00:00:00\", \"global var\": 9.361449275362306, \"aftenoon var\": 1.4742857142857138}, {\"datetime\": \"2020-07-08T10:00:00\", \"Dry Bulb Temperature\": 21.8, \"date\": \"2020-07-08T00:00:00\", \"global var\": 9.361449275362306, \"aftenoon var\": 1.4742857142857138}, {\"datetime\": \"2020-07-08T11:00:00\", \"Dry Bulb Temperature\": 23.2, \"date\": \"2020-07-08T00:00:00\", \"global var\": 9.361449275362306, \"aftenoon var\": 1.4742857142857138}, {\"datetime\": \"2020-07-08T12:00:00\", \"Dry Bulb Temperature\": 24.0, \"date\": \"2020-07-08T00:00:00\", \"global var\": 9.361449275362306, \"aftenoon var\": 1.4742857142857138}, {\"datetime\": \"2020-07-08T13:00:00\", \"Dry Bulb Temperature\": 23.6, \"date\": \"2020-07-08T00:00:00\", \"global var\": 9.361449275362306, \"aftenoon var\": 1.4742857142857138}, {\"datetime\": \"2020-07-08T14:00:00\", \"Dry Bulb Temperature\": 24.9, \"date\": \"2020-07-08T00:00:00\", \"global var\": 9.361449275362306, \"aftenoon var\": 1.4742857142857138}, {\"datetime\": \"2020-07-08T15:00:00\", \"Dry Bulb Temperature\": 24.3, \"date\": \"2020-07-08T00:00:00\", \"global var\": 9.361449275362306, \"aftenoon var\": 1.4742857142857138}, {\"datetime\": \"2020-07-08T16:00:00\", \"Dry Bulb Temperature\": 22.1, \"date\": \"2020-07-08T00:00:00\", \"global var\": 9.361449275362306, \"aftenoon var\": 1.4742857142857138}, {\"datetime\": \"2020-07-08T17:00:00\", \"Dry Bulb Temperature\": 21.7, \"date\": \"2020-07-08T00:00:00\", \"global var\": 9.361449275362306, \"aftenoon var\": 1.4742857142857138}, {\"datetime\": \"2020-07-08T18:00:00\", \"Dry Bulb Temperature\": 19.8, \"date\": \"2020-07-08T00:00:00\", \"global var\": 9.361449275362306, \"aftenoon var\": 1.4742857142857138}, {\"datetime\": \"2020-07-08T19:00:00\", \"Dry Bulb Temperature\": 19.9, \"date\": \"2020-07-08T00:00:00\", \"global var\": 9.361449275362306, \"aftenoon var\": 1.4742857142857138}, {\"datetime\": \"2020-07-08T20:00:00\", \"Dry Bulb Temperature\": 19.0, \"date\": \"2020-07-08T00:00:00\", \"global var\": 9.361449275362306, \"aftenoon var\": 1.4742857142857138}, {\"datetime\": \"2020-07-08T21:00:00\", \"Dry Bulb Temperature\": 18.5, \"date\": \"2020-07-08T00:00:00\", \"global var\": 9.361449275362306, \"aftenoon var\": 1.4742857142857138}, {\"datetime\": \"2020-07-08T22:00:00\", \"Dry Bulb Temperature\": 18.1, \"date\": \"2020-07-08T00:00:00\", \"global var\": 9.361449275362306, \"aftenoon var\": 1.4742857142857138}, {\"datetime\": \"2020-07-08T23:00:00\", \"Dry Bulb Temperature\": 17.6, \"date\": \"2020-07-08T00:00:00\", \"global var\": 9.361449275362306, \"aftenoon var\": 1.4742857142857138}]}}, {\"mode\": \"vega-lite\"});\n",
       "</script>"
      ],
      "text/plain": [
       "alt.FacetChart(...)"
      ]
     },
     "execution_count": 197,
     "metadata": {},
     "output_type": "execute_result"
    }
   ],
   "source": [
    "base = alt.Chart(join_df).mark_line().encode(\n",
    "alt.X('hours(datetime):T', title=\"hours\"),\n",
    "alt.Y(\"Dry Bulb Temperature\").scale(zero=False)\n",
    ").properties(width=100, height=100)\n",
    "\n",
    "text1 = base.mark_text(baseline=\"top\").encode(\n",
    "    y=alt.value(12),\n",
    "    x=alt.value(12),\n",
    "    # all the same value on a given day, so mean is taking the unique\n",
    "    text=alt.Text(\"global var\", aggregate=\"mean\", format=\".1f\", title=\"glob\") \n",
    ")\n",
    "\n",
    "text2 = base.mark_text(baseline=\"bottom\", fontWeight=\"bold\").encode(\n",
    "    y=alt.value(12),\n",
    "    x=alt.value(12),\n",
    "    # all the same value on a given day, so mean is taking the unique\n",
    "    text=alt.Text(\"aftenoon var\", aggregate=\"mean\", format=\".1f\") \n",
    ")\n",
    "\n",
    "chart = (base + text1 + text2).facet(column=alt.Column('date(datetime):O', title=\"day\"))\n",
    "chart"
   ]
  },
  {
   "cell_type": "code",
   "execution_count": 198,
   "metadata": {},
   "outputs": [],
   "source": [
    "chart.save(get_todays_save_path() / \"faceted_temps_and_var.png\")"
   ]
  }
 ],
 "metadata": {
  "kernelspec": {
   "display_name": ".venv",
   "language": "python",
   "name": "python3"
  },
  "language_info": {
   "codemirror_mode": {
    "name": "ipython",
    "version": 3
   },
   "file_extension": ".py",
   "mimetype": "text/x-python",
   "name": "python",
   "nbconvert_exporter": "python",
   "pygments_lexer": "ipython3",
   "version": "3.13.2"
  }
 },
 "nbformat": 4,
 "nbformat_minor": 2
}
