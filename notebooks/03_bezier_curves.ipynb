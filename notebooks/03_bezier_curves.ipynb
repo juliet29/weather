{
 "cells": [
  {
   "cell_type": "code",
   "execution_count": 152,
   "metadata": {},
   "outputs": [],
   "source": [
    "from math import comb\n",
    "\n",
    "import numpy as np\n",
    "import altair as alt\n",
    "import polars as pl\n",
    "from scipy.interpolate import CubicSpline\n",
    "import matplotlib.pyplot as plt"
   ]
  },
  {
   "cell_type": "code",
   "execution_count": 149,
   "metadata": {},
   "outputs": [
    {
     "data": {
      "text/plain": [
       "(0, 6, 12, 18, 23.98)"
      ]
     },
     "execution_count": 149,
     "metadata": {},
     "output_type": "execute_result"
    }
   ],
   "source": [
    "\n",
    "temp_coords_5 = [\n",
    "    (0, 20),\n",
    "    (6, 15),\n",
    "    (12, 30),\n",
    "    (18, 15),\n",
    "    (23.98, 20),\n",
    "]\n",
    "temp_coords_3 = [\n",
    "    (0, 20),\n",
    "    (6, 19),\n",
    "    (12, 50),\n",
    "    (18, 19),\n",
    "    (23.98, 20),\n",
    "]\n",
    "bx, by = zip(*temp_coords_5)\n",
    "bx"
   ]
  },
  {
   "cell_type": "code",
   "execution_count": 147,
   "metadata": {},
   "outputs": [
    {
     "data": {
      "text/plain": [
       "array([ 0.  ,  6.  , 12.  ,  6.  , 23.98])"
      ]
     },
     "execution_count": 147,
     "metadata": {},
     "output_type": "execute_result"
    }
   ],
   "source": [
    "np.array(bx)"
   ]
  },
  {
   "cell_type": "code",
   "execution_count": 151,
   "metadata": {},
   "outputs": [],
   "source": [
    "cs = CubicSpline(np.array(bx), np.array(by))\n"
   ]
  },
  {
   "cell_type": "code",
   "execution_count": 159,
   "metadata": {},
   "outputs": [
    {
     "data": {
      "text/plain": [
       "array([ 0. ,  0.1,  0.2,  0.3,  0.4,  0.5,  0.6,  0.7,  0.8,  0.9,  1. ,\n",
       "        1.1,  1.2,  1.3,  1.4,  1.5,  1.6,  1.7,  1.8,  1.9,  2. ,  2.1,\n",
       "        2.2,  2.3,  2.4,  2.5,  2.6,  2.7,  2.8,  2.9,  3. ,  3.1,  3.2,\n",
       "        3.3,  3.4,  3.5,  3.6,  3.7,  3.8,  3.9,  4. ,  4.1,  4.2,  4.3,\n",
       "        4.4,  4.5,  4.6,  4.7,  4.8,  4.9,  5. ,  5.1,  5.2,  5.3,  5.4,\n",
       "        5.5,  5.6,  5.7,  5.8,  5.9,  6. ,  6.1,  6.2,  6.3,  6.4,  6.5,\n",
       "        6.6,  6.7,  6.8,  6.9,  7. ,  7.1,  7.2,  7.3,  7.4,  7.5,  7.6,\n",
       "        7.7,  7.8,  7.9,  8. ,  8.1,  8.2,  8.3,  8.4,  8.5,  8.6,  8.7,\n",
       "        8.8,  8.9,  9. ,  9.1,  9.2,  9.3,  9.4,  9.5,  9.6,  9.7,  9.8,\n",
       "        9.9, 10. , 10.1, 10.2, 10.3, 10.4, 10.5, 10.6, 10.7, 10.8, 10.9,\n",
       "       11. , 11.1, 11.2, 11.3, 11.4, 11.5, 11.6, 11.7, 11.8, 11.9, 12. ,\n",
       "       12.1, 12.2, 12.3, 12.4, 12.5, 12.6, 12.7, 12.8, 12.9, 13. , 13.1,\n",
       "       13.2, 13.3, 13.4, 13.5, 13.6, 13.7, 13.8, 13.9, 14. , 14.1, 14.2,\n",
       "       14.3, 14.4, 14.5, 14.6, 14.7, 14.8, 14.9, 15. , 15.1, 15.2, 15.3,\n",
       "       15.4, 15.5, 15.6, 15.7, 15.8, 15.9, 16. , 16.1, 16.2, 16.3, 16.4,\n",
       "       16.5, 16.6, 16.7, 16.8, 16.9, 17. , 17.1, 17.2, 17.3, 17.4, 17.5,\n",
       "       17.6, 17.7, 17.8, 17.9, 18. , 18.1, 18.2, 18.3, 18.4, 18.5, 18.6,\n",
       "       18.7, 18.8, 18.9, 19. , 19.1, 19.2, 19.3, 19.4, 19.5, 19.6, 19.7,\n",
       "       19.8, 19.9, 20. , 20.1, 20.2, 20.3, 20.4, 20.5, 20.6, 20.7, 20.8,\n",
       "       20.9, 21. , 21.1, 21.2, 21.3, 21.4, 21.5, 21.6, 21.7, 21.8, 21.9,\n",
       "       22. , 22.1, 22.2, 22.3, 22.4, 22.5, 22.6, 22.7, 22.8, 22.9, 23. ,\n",
       "       23.1, 23.2, 23.3, 23.4, 23.5, 23.6, 23.7, 23.8, 23.9])"
      ]
     },
     "execution_count": 159,
     "metadata": {},
     "output_type": "execute_result"
    }
   ],
   "source": [
    "xs = np.arange(0, 24, 0.1)\n",
    "xs"
   ]
  },
  {
   "cell_type": "code",
   "execution_count": 160,
   "metadata": {},
   "outputs": [
    {
     "data": {
      "text/plain": [
       "[<matplotlib.lines.Line2D at 0x1240ea5d0>]"
      ]
     },
     "execution_count": 160,
     "metadata": {},
     "output_type": "execute_result"
    },
    {
     "data": {
      "image/png": "[encoded data removed]",
      "text/plain": [
       "<Figure size 650x400 with 1 Axes>"
      ]
     },
     "metadata": {},
     "output_type": "display_data"
    }
   ],
   "source": [
    "fig, ax = plt.subplots(figsize=(6.5, 4))\n",
    "ax.plot(xs, cs(xs), label=\"S\")"
   ]
  },
  {
   "cell_type": "code",
   "execution_count": 161,
   "metadata": {},
   "outputs": [
    {
     "data": {
      "text/plain": [
       "array([[-5.78961532e-02, -5.78961532e-02,  5.79992846e-02,\n",
       "         5.79992846e-02],\n",
       "       [ 1.31990854e+00,  2.77777778e-01, -7.64352980e-01,\n",
       "         2.79634143e-01],\n",
       "       [-6.66852303e+00,  2.91759485e+00, -1.85636495e-03,\n",
       "        -2.91016939e+00],\n",
       "       [ 2.00000000e+01,  1.50000000e+01,  3.00000000e+01,\n",
       "         1.50000000e+01]])"
      ]
     },
     "execution_count": 161,
     "metadata": {},
     "output_type": "execute_result"
    }
   ],
   "source": [
    "cs.c"
   ]
  },
  {
   "cell_type": "code",
   "execution_count": 118,
   "metadata": {},
   "outputs": [],
   "source": [
    "def general_bezier(t:float, Bs:list[float]):\n",
    "    # we have n+1 control points.. \n",
    "    # and range function goes to n-1\n",
    "    n = len(Bs) - 1\n",
    "    def inner_eq(i):\n",
    "        return comb(n,i) * (1-t)**(n-i) * t**i * Bs[i]\n",
    "    return sum(inner_eq(i) for i in range(n+1))"
   ]
  },
  {
   "cell_type": "code",
   "execution_count": 119,
   "metadata": {},
   "outputs": [
    {
     "name": "stdout",
     "output_type": "stream",
     "text": [
      "0.0: [1.0, 1.0]\n",
      "0.1: [1.1, 1.1]\n",
      "0.2: [1.2, 1.2]\n",
      "0.3: [1.3, 1.3]\n",
      "0.4: [1.4, 1.4]\n",
      "0.5: [1.5, 1.5]\n",
      "0.6: [1.6, 1.6]\n",
      "0.7: [1.7, 1.7]\n",
      "0.8: [1.8, 1.8]\n",
      "0.9: [1.9, 1.9]\n"
     ]
    }
   ],
   "source": [
    "def eq(t, b1, b2):\n",
    "        return (1-t)*b1 + t*b2\n",
    "\n",
    "bxs = [1,2]\n",
    "for t in np.arange(step=0.1, stop=1):\n",
    "    res = eq(t, *bxs)\n",
    "    gen = general_bezier(t, bxs)\n",
    "    assert res == gen\n",
    "    print(f\"{t:.2}: [{res:.2}, {gen:.2}]\")"
   ]
  },
  {
   "cell_type": "code",
   "execution_count": 85,
   "metadata": {},
   "outputs": [
    {
     "data": {
      "text/plain": [
       "0.36999999999999994"
      ]
     },
     "execution_count": 85,
     "metadata": {},
     "output_type": "execute_result"
    }
   ],
   "source": [
    "general_bezier(.9, [1,2])"
   ]
  },
  {
   "cell_type": "code",
   "execution_count": 150,
   "metadata": {},
   "outputs": [
    {
     "data": {
      "text/html": [
       "\n",
       "<style>\n",
       "  #altair-viz-88f4ef901da84c469626cc3a67356847.vega-embed {\n",
       "    width: 100%;\n",
       "    display: flex;\n",
       "  }\n",
       "\n",
       "  #altair-viz-88f4ef901da84c469626cc3a67356847.vega-embed details,\n",
       "  #altair-viz-88f4ef901da84c469626cc3a67356847.vega-embed details summary {\n",
       "    position: relative;\n",
       "  }\n",
       "</style>\n",
       "<div id=\"altair-viz-88f4ef901da84c469626cc3a67356847\"></div>\n",
       "<script type=\"text/javascript\">\n",
       "  var VEGA_DEBUG = (typeof VEGA_DEBUG == \"undefined\") ? {} : VEGA_DEBUG;\n",
       "  (function(spec, embedOpt){\n",
       "    let outputDiv = document.currentScript.previousElementSibling;\n",
       "    if (outputDiv.id !== \"altair-viz-88f4ef901da84c469626cc3a67356847\") {\n",
       "      outputDiv = document.getElementById(\"altair-viz-88f4ef901da84c469626cc3a67356847\");\n",
       "    }\n",
       "\n",
       "    const paths = {\n",
       "      \"vega\": \"https://cdn.jsdelivr.net/npm/vega@5?noext\",\n",
       "      \"vega-lib\": \"https://cdn.jsdelivr.net/npm/vega-lib?noext\",\n",
       "      \"vega-lite\": \"https://cdn.jsdelivr.net/npm/vega-lite@5.20.1?noext\",\n",
       "      \"vega-embed\": \"https://cdn.jsdelivr.net/npm/vega-embed@6?noext\",\n",
       "    };\n",
       "\n",
       "    function maybeLoadScript(lib, version) {\n",
       "      var key = `${lib.replace(\"-\", \"\")}_version`;\n",
       "      return (VEGA_DEBUG[key] == version) ?\n",
       "        Promise.resolve(paths[lib]) :\n",
       "        new Promise(function(resolve, reject) {\n",
       "          var s = document.createElement('script');\n",
       "          document.getElementsByTagName(\"head\")[0].appendChild(s);\n",
       "          s.async = true;\n",
       "          s.onload = () => {\n",
       "            VEGA_DEBUG[key] = version;\n",
       "            return resolve(paths[lib]);\n",
       "          };\n",
       "          s.onerror = () => reject(`Error loading script: ${paths[lib]}`);\n",
       "          s.src = paths[lib];\n",
       "        });\n",
       "    }\n",
       "\n",
       "    function showError(err) {\n",
       "      outputDiv.innerHTML = `<div class=\"error\" style=\"color:red;\">${err}</div>`;\n",
       "      throw err;\n",
       "    }\n",
       "\n",
       "    function displayChart(vegaEmbed) {\n",
       "      vegaEmbed(outputDiv, spec, embedOpt)\n",
       "        .catch(err => showError(`Javascript Error: ${err.message}<br>This usually means there's a typo in your chart specification. See the javascript console for the full traceback.`));\n",
       "    }\n",
       "\n",
       "    if(typeof define === \"function\" && define.amd) {\n",
       "      requirejs.config({paths});\n",
       "      let deps = [\"vega-embed\"];\n",
       "      require(deps, displayChart, err => showError(`Error loading script: ${err.message}`));\n",
       "    } else {\n",
       "      maybeLoadScript(\"vega\", \"5\")\n",
       "        .then(() => maybeLoadScript(\"vega-lite\", \"5.20.1\"))\n",
       "        .then(() => maybeLoadScript(\"vega-embed\", \"6\"))\n",
       "        .catch(showError)\n",
       "        .then(() => displayChart(vegaEmbed));\n",
       "    }\n",
       "  })({\"config\": {\"view\": {\"continuousWidth\": 300, \"continuousHeight\": 300}}, \"data\": {\"name\": \"data-2d42f4785c209f7d47830b5d151473e0\"}, \"mark\": {\"type\": \"line\"}, \"encoding\": {\"order\": {\"field\": \"t\", \"type\": \"quantitative\"}, \"x\": {\"field\": \"x\", \"type\": \"quantitative\"}, \"y\": {\"field\": \"y\", \"scale\": {\"zero\": false}, \"type\": \"quantitative\"}}, \"transform\": [{\"calculate\": \"(((((0 + (((1 * pow((1 - datum.t),4)) * pow(datum.t,0)) * 0)) + (((4 * pow((1 - datum.t),3)) * pow(datum.t,1)) * 6)) + (((6 * pow((1 - datum.t),2)) * pow(datum.t,2)) * 12)) + (((4 * pow((1 - datum.t),1)) * pow(datum.t,3)) * 18)) + (((1 * pow((1 - datum.t),0)) * pow(datum.t,4)) * 23.98))\", \"as\": \"x\"}, {\"calculate\": \"(((((0 + (((1 * pow((1 - datum.t),4)) * pow(datum.t,0)) * 20)) + (((4 * pow((1 - datum.t),3)) * pow(datum.t,1)) * 15)) + (((6 * pow((1 - datum.t),2)) * pow(datum.t,2)) * 30)) + (((4 * pow((1 - datum.t),1)) * pow(datum.t,3)) * 15)) + (((1 * pow((1 - datum.t),0)) * pow(datum.t,4)) * 20))\", \"as\": \"y\"}], \"$schema\": \"https://vega.github.io/schema/vega-lite/v5.20.1.json\", \"datasets\": {\"data-2d42f4785c209f7d47830b5d151473e0\": [{\"t\": 0.0}, {\"t\": 0.01}, {\"t\": 0.02}, {\"t\": 0.03}, {\"t\": 0.04}, {\"t\": 0.05}, {\"t\": 0.06}, {\"t\": 0.07}, {\"t\": 0.08}, {\"t\": 0.09}, {\"t\": 0.1}, {\"t\": 0.11}, {\"t\": 0.12}, {\"t\": 0.13}, {\"t\": 0.14}, {\"t\": 0.15}, {\"t\": 0.16}, {\"t\": 0.17}, {\"t\": 0.18}, {\"t\": 0.19}, {\"t\": 0.2}, {\"t\": 0.21}, {\"t\": 0.22}, {\"t\": 0.23}, {\"t\": 0.24}, {\"t\": 0.25}, {\"t\": 0.26}, {\"t\": 0.27}, {\"t\": 0.28}, {\"t\": 0.29}, {\"t\": 0.3}, {\"t\": 0.31}, {\"t\": 0.32}, {\"t\": 0.33}, {\"t\": 0.34}, {\"t\": 0.35000000000000003}, {\"t\": 0.36}, {\"t\": 0.37}, {\"t\": 0.38}, {\"t\": 0.39}, {\"t\": 0.4}, {\"t\": 0.41000000000000003}, {\"t\": 0.42}, {\"t\": 0.43}, {\"t\": 0.44}, {\"t\": 0.45}, {\"t\": 0.46}, {\"t\": 0.47000000000000003}, {\"t\": 0.48}, {\"t\": 0.49}, {\"t\": 0.5}, {\"t\": 0.51}, {\"t\": 0.52}, {\"t\": 0.53}, {\"t\": 0.54}, {\"t\": 0.55}, {\"t\": 0.56}, {\"t\": 0.5700000000000001}, {\"t\": 0.58}, {\"t\": 0.59}, {\"t\": 0.6}, {\"t\": 0.61}, {\"t\": 0.62}, {\"t\": 0.63}, {\"t\": 0.64}, {\"t\": 0.65}, {\"t\": 0.66}, {\"t\": 0.67}, {\"t\": 0.68}, {\"t\": 0.6900000000000001}, {\"t\": 0.7000000000000001}, {\"t\": 0.71}, {\"t\": 0.72}, {\"t\": 0.73}, {\"t\": 0.74}, {\"t\": 0.75}, {\"t\": 0.76}, {\"t\": 0.77}, {\"t\": 0.78}, {\"t\": 0.79}, {\"t\": 0.8}, {\"t\": 0.81}, {\"t\": 0.8200000000000001}, {\"t\": 0.8300000000000001}, {\"t\": 0.84}, {\"t\": 0.85}, {\"t\": 0.86}, {\"t\": 0.87}, {\"t\": 0.88}, {\"t\": 0.89}, {\"t\": 0.9}, {\"t\": 0.91}, {\"t\": 0.92}, {\"t\": 0.93}, {\"t\": 0.9400000000000001}, {\"t\": 0.9500000000000001}, {\"t\": 0.96}, {\"t\": 0.97}, {\"t\": 0.98}, {\"t\": 0.99}]}}, {\"mode\": \"vega-lite\"});\n",
       "</script>"
      ],
      "text/plain": [
       "alt.Chart(...)"
      ]
     },
     "execution_count": 150,
     "metadata": {},
     "output_type": "execute_result"
    }
   ],
   "source": [
    "time = np.arange(start=0., step=0.01, stop=1.)\n",
    "data = pl.DataFrame({'t': time})\n",
    "coords = temp_coords_5\n",
    "bx, by = zip(*coords)\n",
    "\n",
    "alt.Chart(data).mark_line().encode(\n",
    "    x='x:Q',\n",
    "    y=alt.Y('y:Q').scale(zero=False),\n",
    "    order='t:Q'\n",
    ").transform_calculate(\n",
    "    x=general_bezier(alt.datum.t, bx),\n",
    "    y=general_bezier(alt.datum.t, by)\n",
    ")"
   ]
  },
  {
   "cell_type": "code",
   "execution_count": 88,
   "metadata": {},
   "outputs": [
    {
     "data": {
      "text/html": [
       "\n",
       "<style>\n",
       "  #altair-viz-7e9ef5c97aa24dba9b0e2be0ca469239.vega-embed {\n",
       "    width: 100%;\n",
       "    display: flex;\n",
       "  }\n",
       "\n",
       "  #altair-viz-7e9ef5c97aa24dba9b0e2be0ca469239.vega-embed details,\n",
       "  #altair-viz-7e9ef5c97aa24dba9b0e2be0ca469239.vega-embed details summary {\n",
       "    position: relative;\n",
       "  }\n",
       "</style>\n",
       "<div id=\"altair-viz-7e9ef5c97aa24dba9b0e2be0ca469239\"></div>\n",
       "<script type=\"text/javascript\">\n",
       "  var VEGA_DEBUG = (typeof VEGA_DEBUG == \"undefined\") ? {} : VEGA_DEBUG;\n",
       "  (function(spec, embedOpt){\n",
       "    let outputDiv = document.currentScript.previousElementSibling;\n",
       "    if (outputDiv.id !== \"altair-viz-7e9ef5c97aa24dba9b0e2be0ca469239\") {\n",
       "      outputDiv = document.getElementById(\"altair-viz-7e9ef5c97aa24dba9b0e2be0ca469239\");\n",
       "    }\n",
       "\n",
       "    const paths = {\n",
       "      \"vega\": \"https://cdn.jsdelivr.net/npm/vega@5?noext\",\n",
       "      \"vega-lib\": \"https://cdn.jsdelivr.net/npm/vega-lib?noext\",\n",
       "      \"vega-lite\": \"https://cdn.jsdelivr.net/npm/vega-lite@5.20.1?noext\",\n",
       "      \"vega-embed\": \"https://cdn.jsdelivr.net/npm/vega-embed@6?noext\",\n",
       "    };\n",
       "\n",
       "    function maybeLoadScript(lib, version) {\n",
       "      var key = `${lib.replace(\"-\", \"\")}_version`;\n",
       "      return (VEGA_DEBUG[key] == version) ?\n",
       "        Promise.resolve(paths[lib]) :\n",
       "        new Promise(function(resolve, reject) {\n",
       "          var s = document.createElement('script');\n",
       "          document.getElementsByTagName(\"head\")[0].appendChild(s);\n",
       "          s.async = true;\n",
       "          s.onload = () => {\n",
       "            VEGA_DEBUG[key] = version;\n",
       "            return resolve(paths[lib]);\n",
       "          };\n",
       "          s.onerror = () => reject(`Error loading script: ${paths[lib]}`);\n",
       "          s.src = paths[lib];\n",
       "        });\n",
       "    }\n",
       "\n",
       "    function showError(err) {\n",
       "      outputDiv.innerHTML = `<div class=\"error\" style=\"color:red;\">${err}</div>`;\n",
       "      throw err;\n",
       "    }\n",
       "\n",
       "    function displayChart(vegaEmbed) {\n",
       "      vegaEmbed(outputDiv, spec, embedOpt)\n",
       "        .catch(err => showError(`Javascript Error: ${err.message}<br>This usually means there's a typo in your chart specification. See the javascript console for the full traceback.`));\n",
       "    }\n",
       "\n",
       "    if(typeof define === \"function\" && define.amd) {\n",
       "      requirejs.config({paths});\n",
       "      let deps = [\"vega-embed\"];\n",
       "      require(deps, displayChart, err => showError(`Error loading script: ${err.message}`));\n",
       "    } else {\n",
       "      maybeLoadScript(\"vega\", \"5\")\n",
       "        .then(() => maybeLoadScript(\"vega-lite\", \"5.20.1\"))\n",
       "        .then(() => maybeLoadScript(\"vega-embed\", \"6\"))\n",
       "        .catch(showError)\n",
       "        .then(() => displayChart(vegaEmbed));\n",
       "    }\n",
       "  })({\"config\": {\"view\": {\"continuousWidth\": 300, \"continuousHeight\": 300}}, \"data\": {\"name\": \"data-2d42f4785c209f7d47830b5d151473e0\"}, \"mark\": {\"type\": \"line\"}, \"encoding\": {\"order\": {\"field\": \"t\", \"type\": \"quantitative\"}, \"x\": {\"field\": \"x\", \"type\": \"quantitative\"}, \"y\": {\"field\": \"y\", \"type\": \"quantitative\"}}, \"transform\": [{\"calculate\": \"(((1 - datum.t) * 1) + (datum.t * 2))\", \"as\": \"x\"}, {\"calculate\": \"(((1 - datum.t) * 1) + (datum.t * 2))\", \"as\": \"y\"}], \"$schema\": \"https://vega.github.io/schema/vega-lite/v5.20.1.json\", \"datasets\": {\"data-2d42f4785c209f7d47830b5d151473e0\": [{\"t\": 0.0}, {\"t\": 0.01}, {\"t\": 0.02}, {\"t\": 0.03}, {\"t\": 0.04}, {\"t\": 0.05}, {\"t\": 0.06}, {\"t\": 0.07}, {\"t\": 0.08}, {\"t\": 0.09}, {\"t\": 0.1}, {\"t\": 0.11}, {\"t\": 0.12}, {\"t\": 0.13}, {\"t\": 0.14}, {\"t\": 0.15}, {\"t\": 0.16}, {\"t\": 0.17}, {\"t\": 0.18}, {\"t\": 0.19}, {\"t\": 0.2}, {\"t\": 0.21}, {\"t\": 0.22}, {\"t\": 0.23}, {\"t\": 0.24}, {\"t\": 0.25}, {\"t\": 0.26}, {\"t\": 0.27}, {\"t\": 0.28}, {\"t\": 0.29}, {\"t\": 0.3}, {\"t\": 0.31}, {\"t\": 0.32}, {\"t\": 0.33}, {\"t\": 0.34}, {\"t\": 0.35000000000000003}, {\"t\": 0.36}, {\"t\": 0.37}, {\"t\": 0.38}, {\"t\": 0.39}, {\"t\": 0.4}, {\"t\": 0.41000000000000003}, {\"t\": 0.42}, {\"t\": 0.43}, {\"t\": 0.44}, {\"t\": 0.45}, {\"t\": 0.46}, {\"t\": 0.47000000000000003}, {\"t\": 0.48}, {\"t\": 0.49}, {\"t\": 0.5}, {\"t\": 0.51}, {\"t\": 0.52}, {\"t\": 0.53}, {\"t\": 0.54}, {\"t\": 0.55}, {\"t\": 0.56}, {\"t\": 0.5700000000000001}, {\"t\": 0.58}, {\"t\": 0.59}, {\"t\": 0.6}, {\"t\": 0.61}, {\"t\": 0.62}, {\"t\": 0.63}, {\"t\": 0.64}, {\"t\": 0.65}, {\"t\": 0.66}, {\"t\": 0.67}, {\"t\": 0.68}, {\"t\": 0.6900000000000001}, {\"t\": 0.7000000000000001}, {\"t\": 0.71}, {\"t\": 0.72}, {\"t\": 0.73}, {\"t\": 0.74}, {\"t\": 0.75}, {\"t\": 0.76}, {\"t\": 0.77}, {\"t\": 0.78}, {\"t\": 0.79}, {\"t\": 0.8}, {\"t\": 0.81}, {\"t\": 0.8200000000000001}, {\"t\": 0.8300000000000001}, {\"t\": 0.84}, {\"t\": 0.85}, {\"t\": 0.86}, {\"t\": 0.87}, {\"t\": 0.88}, {\"t\": 0.89}, {\"t\": 0.9}, {\"t\": 0.91}, {\"t\": 0.92}, {\"t\": 0.93}, {\"t\": 0.9400000000000001}, {\"t\": 0.9500000000000001}, {\"t\": 0.96}, {\"t\": 0.97}, {\"t\": 0.98}, {\"t\": 0.99}]}}, {\"mode\": \"vega-lite\"});\n",
       "</script>"
      ],
      "text/plain": [
       "alt.Chart(...)"
      ]
     },
     "execution_count": 88,
     "metadata": {},
     "output_type": "execute_result"
    }
   ],
   "source": [
    "# coords = [(1,1), (9,3), (2,2)]\n",
    "def eq(t, b1, b2):\n",
    "        return (1-t)*b1 + t*b2\n",
    "\n",
    "\n",
    "alt.Chart(data).mark_line().encode(\n",
    "    x='x:Q',\n",
    "    y='y:Q',\n",
    "    order='t:Q'\n",
    ").transform_calculate(\n",
    "    x=eq(alt.datum.t, *bx),\n",
    "    y=eq(alt.datum.t, *by)\n",
    ")"
   ]
  }
 ],
 "metadata": {
  "kernelspec": {
   "display_name": ".venv",
   "language": "python",
   "name": "python3"
  },
  "language_info": {
   "codemirror_mode": {
    "name": "ipython",
    "version": 3
   },
   "file_extension": ".py",
   "mimetype": "text/x-python",
   "name": "python",
   "nbconvert_exporter": "python",
   "pygments_lexer": "ipython3",
   "version": "3.13.1"
  }
 },
 "nbformat": 4,
 "nbformat_minor": 2
}
