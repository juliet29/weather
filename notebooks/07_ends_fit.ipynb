{
 "cells": [
  {
   "cell_type": "code",
   "execution_count": 3,
   "metadata": {},
   "outputs": [
    {
     "name": "stdout",
     "output_type": "stream",
     "text": [
      "The autoreload extension is already loaded. To reload it, use:\n",
      "  %reload_ext autoreload\n"
     ]
    }
   ],
   "source": [
    "%load_ext autoreload\n",
    "%autoreload 2"
   ]
  },
  {
   "cell_type": "code",
   "execution_count": null,
   "metadata": {},
   "outputs": [],
   "source": [
    "from weather.fit.ends_fit import create_morning_and_evening_models, visually_check_regression, MORNING, EVENING"
   ]
  },
  {
   "cell_type": "code",
   "execution_count": null,
   "metadata": {},
   "outputs": [
    {
     "name": "stdout",
     "output_type": "stream",
     "text": [
      "r-value: 0.9016184183543983\n",
      "r-value: 0.9674964780616764\n"
     ]
    }
   ],
   "source": [
    "morn, eve = create_morning_and_evening_models()"
   ]
  },
  {
   "cell_type": "code",
   "execution_count": 17,
   "metadata": {},
   "outputs": [
    {
     "data": {
      "text/plain": [
       "np.float64(9.438809758964357)"
      ]
     },
     "execution_count": 17,
     "metadata": {},
     "output_type": "execute_result"
    }
   ],
   "source": [
    "morn(8)"
   ]
  },
  {
   "cell_type": "code",
   "execution_count": null,
   "metadata": {},
   "outputs": [
    {
     "data": {
      "text/html": [
       "\n",
       "<style>\n",
       "  #altair-viz-33af983f3da84bda91b6c54785e1c8d8.vega-embed {\n",
       "    width: 100%;\n",
       "    display: flex;\n",
       "  }\n",
       "\n",
       "  #altair-viz-33af983f3da84bda91b6c54785e1c8d8.vega-embed details,\n",
       "  #altair-viz-33af983f3da84bda91b6c54785e1c8d8.vega-embed details summary {\n",
       "    position: relative;\n",
       "  }\n",
       "</style>\n",
       "<div id=\"altair-viz-33af983f3da84bda91b6c54785e1c8d8\"></div>\n",
       "<script type=\"text/javascript\">\n",
       "  var VEGA_DEBUG = (typeof VEGA_DEBUG == \"undefined\") ? {} : VEGA_DEBUG;\n",
       "  (function(spec, embedOpt){\n",
       "    let outputDiv = document.currentScript.previousElementSibling;\n",
       "    if (outputDiv.id !== \"altair-viz-33af983f3da84bda91b6c54785e1c8d8\") {\n",
       "      outputDiv = document.getElementById(\"altair-viz-33af983f3da84bda91b6c54785e1c8d8\");\n",
       "    }\n",
       "\n",
       "    const paths = {\n",
       "      \"vega\": \"https://cdn.jsdelivr.net/npm/vega@5?noext\",\n",
       "      \"vega-lib\": \"https://cdn.jsdelivr.net/npm/vega-lib?noext\",\n",
       "      \"vega-lite\": \"https://cdn.jsdelivr.net/npm/vega-lite@5.20.1?noext\",\n",
       "      \"vega-embed\": \"https://cdn.jsdelivr.net/npm/vega-embed@6?noext\",\n",
       "    };\n",
       "\n",
       "    function maybeLoadScript(lib, version) {\n",
       "      var key = `${lib.replace(\"-\", \"\")}_version`;\n",
       "      return (VEGA_DEBUG[key] == version) ?\n",
       "        Promise.resolve(paths[lib]) :\n",
       "        new Promise(function(resolve, reject) {\n",
       "          var s = document.createElement('script');\n",
       "          document.getElementsByTagName(\"head\")[0].appendChild(s);\n",
       "          s.async = true;\n",
       "          s.onload = () => {\n",
       "            VEGA_DEBUG[key] = version;\n",
       "            return resolve(paths[lib]);\n",
       "          };\n",
       "          s.onerror = () => reject(`Error loading script: ${paths[lib]}`);\n",
       "          s.src = paths[lib];\n",
       "        });\n",
       "    }\n",
       "\n",
       "    function showError(err) {\n",
       "      outputDiv.innerHTML = `<div class=\"error\" style=\"color:red;\">${err}</div>`;\n",
       "      throw err;\n",
       "    }\n",
       "\n",
       "    function displayChart(vegaEmbed) {\n",
       "      vegaEmbed(outputDiv, spec, embedOpt)\n",
       "        .catch(err => showError(`Javascript Error: ${err.message}<br>This usually means there's a typo in your chart specification. See the javascript console for the full traceback.`));\n",
       "    }\n",
       "\n",
       "    if(typeof define === \"function\" && define.amd) {\n",
       "      requirejs.config({paths});\n",
       "      let deps = [\"vega-embed\"];\n",
       "      require(deps, displayChart, err => showError(`Error loading script: ${err.message}`));\n",
       "    } else {\n",
       "      maybeLoadScript(\"vega\", \"5\")\n",
       "        .then(() => maybeLoadScript(\"vega-lite\", \"5.20.1\"))\n",
       "        .then(() => maybeLoadScript(\"vega-embed\", \"6\"))\n",
       "        .catch(showError)\n",
       "        .then(() => displayChart(vegaEmbed));\n",
       "    }\n",
       "  })({\"config\": {\"view\": {\"continuousWidth\": 300, \"continuousHeight\": 300}}, \"layer\": [{\"mark\": {\"type\": \"circle\"}, \"encoding\": {\"x\": {\"field\": \"0\", \"scale\": {\"zero\": false}, \"type\": \"quantitative\"}, \"y\": {\"field\": \"4\", \"scale\": {\"zero\": false}, \"type\": \"quantitative\"}}}, {\"mark\": {\"type\": \"line\"}, \"encoding\": {\"color\": {\"value\": \"black\"}, \"x\": {\"field\": \"0\", \"scale\": {\"zero\": false}, \"type\": \"quantitative\"}, \"y\": {\"field\": \"fit_data\", \"scale\": {\"zero\": false}, \"type\": \"quantitative\"}}}], \"data\": {\"name\": \"data-a100305550750edad621324f8383f71d\"}, \"$schema\": \"https://vega.github.io/schema/vega-lite/v5.20.1.json\", \"datasets\": {\"data-a100305550750edad621324f8383f71d\": [{\"date\": \"2020-06-01T00:00:00\", \"0\": 16.0, \"4\": 15.1, \"deltaT\": 0.9000000000000004, \"fit_data\": 14.998970721474457}, {\"date\": \"2020-06-02T00:00:00\", \"0\": 18.3, \"4\": 17.1, \"deltaT\": 1.1999999999999993, \"fit_data\": 16.597516998196113}, {\"date\": \"2020-06-03T00:00:00\", \"0\": 22.4, \"4\": 20.4, \"deltaT\": 2.0, \"fit_data\": 19.447099491482536}, {\"date\": \"2020-06-04T00:00:00\", \"0\": 20.8, \"4\": 17.6, \"deltaT\": 3.1999999999999993, \"fit_data\": 18.33506729898052}, {\"date\": \"2020-06-05T00:00:00\", \"0\": 19.2, \"4\": 16.5, \"deltaT\": 2.6999999999999993, \"fit_data\": 17.2230351064785}, {\"date\": \"2020-06-06T00:00:00\", \"0\": 15.9, \"4\": 15.4, \"deltaT\": 0.5, \"fit_data\": 14.92946870944308}, {\"date\": \"2020-06-07T00:00:00\", \"0\": 14.5, \"4\": 13.2, \"deltaT\": 1.3000000000000007, \"fit_data\": 13.956440541003813}, {\"date\": \"2020-06-08T00:00:00\", \"0\": 16.2, \"4\": 15.9, \"deltaT\": 0.29999999999999893, \"fit_data\": 15.137974745537209}, {\"date\": \"2020-06-09T00:00:00\", \"0\": 17.5, \"4\": 15.4, \"deltaT\": 2.0999999999999996, \"fit_data\": 16.0415009019451}, {\"date\": \"2020-06-10T00:00:00\", \"0\": 18.8, \"4\": 16.4, \"deltaT\": 2.400000000000002, \"fit_data\": 16.94502705835299}, {\"date\": \"2020-06-11T00:00:00\", \"0\": 17.6, \"4\": 15.4, \"deltaT\": 2.200000000000001, \"fit_data\": 16.111002913976478}, {\"date\": \"2020-06-12T00:00:00\", \"0\": 17.8, \"4\": 15.9, \"deltaT\": 1.9000000000000004, \"fit_data\": 16.250006938039228}, {\"date\": \"2020-06-13T00:00:00\", \"0\": 15.0, \"4\": 14.3, \"deltaT\": 0.6999999999999993, \"fit_data\": 14.303950601160695}, {\"date\": \"2020-06-14T00:00:00\", \"0\": 16.5, \"4\": 15.8, \"deltaT\": 0.6999999999999993, \"fit_data\": 15.346480781631339}, {\"date\": \"2020-06-15T00:00:00\", \"0\": 16.9, \"4\": 16.2, \"deltaT\": 0.6999999999999993, \"fit_data\": 15.624488829756842}, {\"date\": \"2020-06-16T00:00:00\", \"0\": 16.6, \"4\": 15.2, \"deltaT\": 1.4000000000000021, \"fit_data\": 15.415982793662716}, {\"date\": \"2020-06-17T00:00:00\", \"0\": 16.9, \"4\": 16.1, \"deltaT\": 0.7999999999999972, \"fit_data\": 15.624488829756842}, {\"date\": \"2020-06-18T00:00:00\", \"0\": 20.0, \"4\": 17.5, \"deltaT\": 2.5, \"fit_data\": 17.779051202729505}, {\"date\": \"2020-06-19T00:00:00\", \"0\": 19.6, \"4\": 16.6, \"deltaT\": 3.0, \"fit_data\": 17.501043154604005}, {\"date\": \"2020-06-20T00:00:00\", \"0\": 16.5, \"4\": 15.2, \"deltaT\": 1.3000000000000007, \"fit_data\": 15.346480781631339}, {\"date\": \"2020-06-21T00:00:00\", \"0\": 16.6, \"4\": 16.0, \"deltaT\": 0.6000000000000014, \"fit_data\": 15.415982793662716}, {\"date\": \"2020-06-22T00:00:00\", \"0\": 17.3, \"4\": 16.1, \"deltaT\": 1.1999999999999993, \"fit_data\": 15.90249687788235}, {\"date\": \"2020-06-23T00:00:00\", \"0\": 18.0, \"4\": 16.9, \"deltaT\": 1.1000000000000014, \"fit_data\": 16.38901096210198}, {\"date\": \"2020-06-24T00:00:00\", \"0\": 17.4, \"4\": 16.2, \"deltaT\": 1.1999999999999993, \"fit_data\": 15.971998889913724}, {\"date\": \"2020-06-25T00:00:00\", \"0\": 17.5, \"4\": 16.2, \"deltaT\": 1.3000000000000007, \"fit_data\": 16.0415009019451}, {\"date\": \"2020-06-26T00:00:00\", \"0\": 17.9, \"4\": 17.1, \"deltaT\": 0.7999999999999972, \"fit_data\": 16.319508950070606}, {\"date\": \"2020-06-27T00:00:00\", \"0\": 16.9, \"4\": 16.1, \"deltaT\": 0.7999999999999972, \"fit_data\": 15.624488829756842}, {\"date\": \"2020-06-28T00:00:00\", \"0\": 16.5, \"4\": 15.2, \"deltaT\": 1.3000000000000007, \"fit_data\": 15.346480781631339}, {\"date\": \"2020-06-29T00:00:00\", \"0\": 15.1, \"4\": 13.3, \"deltaT\": 1.799999999999999, \"fit_data\": 14.37345261319207}]}}, {\"mode\": \"vega-lite\"});\n",
       "</script>"
      ],
      "text/plain": [
       "alt.LayerChart(...)"
      ]
     },
     "execution_count": 15,
     "metadata": {},
     "output_type": "execute_result"
    }
   ],
   "source": [
    "visually_check_regression(MORNING, morn)"
   ]
  },
  {
   "cell_type": "code",
   "execution_count": null,
   "metadata": {},
   "outputs": [
    {
     "data": {
      "text/html": [
       "\n",
       "<style>\n",
       "  #altair-viz-29c9827740374904ad1fa2546dfe5916.vega-embed {\n",
       "    width: 100%;\n",
       "    display: flex;\n",
       "  }\n",
       "\n",
       "  #altair-viz-29c9827740374904ad1fa2546dfe5916.vega-embed details,\n",
       "  #altair-viz-29c9827740374904ad1fa2546dfe5916.vega-embed details summary {\n",
       "    position: relative;\n",
       "  }\n",
       "</style>\n",
       "<div id=\"altair-viz-29c9827740374904ad1fa2546dfe5916\"></div>\n",
       "<script type=\"text/javascript\">\n",
       "  var VEGA_DEBUG = (typeof VEGA_DEBUG == \"undefined\") ? {} : VEGA_DEBUG;\n",
       "  (function(spec, embedOpt){\n",
       "    let outputDiv = document.currentScript.previousElementSibling;\n",
       "    if (outputDiv.id !== \"altair-viz-29c9827740374904ad1fa2546dfe5916\") {\n",
       "      outputDiv = document.getElementById(\"altair-viz-29c9827740374904ad1fa2546dfe5916\");\n",
       "    }\n",
       "\n",
       "    const paths = {\n",
       "      \"vega\": \"https://cdn.jsdelivr.net/npm/vega@5?noext\",\n",
       "      \"vega-lib\": \"https://cdn.jsdelivr.net/npm/vega-lib?noext\",\n",
       "      \"vega-lite\": \"https://cdn.jsdelivr.net/npm/vega-lite@5.20.1?noext\",\n",
       "      \"vega-embed\": \"https://cdn.jsdelivr.net/npm/vega-embed@6?noext\",\n",
       "    };\n",
       "\n",
       "    function maybeLoadScript(lib, version) {\n",
       "      var key = `${lib.replace(\"-\", \"\")}_version`;\n",
       "      return (VEGA_DEBUG[key] == version) ?\n",
       "        Promise.resolve(paths[lib]) :\n",
       "        new Promise(function(resolve, reject) {\n",
       "          var s = document.createElement('script');\n",
       "          document.getElementsByTagName(\"head\")[0].appendChild(s);\n",
       "          s.async = true;\n",
       "          s.onload = () => {\n",
       "            VEGA_DEBUG[key] = version;\n",
       "            return resolve(paths[lib]);\n",
       "          };\n",
       "          s.onerror = () => reject(`Error loading script: ${paths[lib]}`);\n",
       "          s.src = paths[lib];\n",
       "        });\n",
       "    }\n",
       "\n",
       "    function showError(err) {\n",
       "      outputDiv.innerHTML = `<div class=\"error\" style=\"color:red;\">${err}</div>`;\n",
       "      throw err;\n",
       "    }\n",
       "\n",
       "    function displayChart(vegaEmbed) {\n",
       "      vegaEmbed(outputDiv, spec, embedOpt)\n",
       "        .catch(err => showError(`Javascript Error: ${err.message}<br>This usually means there's a typo in your chart specification. See the javascript console for the full traceback.`));\n",
       "    }\n",
       "\n",
       "    if(typeof define === \"function\" && define.amd) {\n",
       "      requirejs.config({paths});\n",
       "      let deps = [\"vega-embed\"];\n",
       "      require(deps, displayChart, err => showError(`Error loading script: ${err.message}`));\n",
       "    } else {\n",
       "      maybeLoadScript(\"vega\", \"5\")\n",
       "        .then(() => maybeLoadScript(\"vega-lite\", \"5.20.1\"))\n",
       "        .then(() => maybeLoadScript(\"vega-embed\", \"6\"))\n",
       "        .catch(showError)\n",
       "        .then(() => displayChart(vegaEmbed));\n",
       "    }\n",
       "  })({\"config\": {\"view\": {\"continuousWidth\": 300, \"continuousHeight\": 300}}, \"layer\": [{\"mark\": {\"type\": \"circle\"}, \"encoding\": {\"x\": {\"field\": \"18\", \"scale\": {\"zero\": false}, \"type\": \"quantitative\"}, \"y\": {\"field\": \"23\", \"scale\": {\"zero\": false}, \"type\": \"quantitative\"}}}, {\"mark\": {\"type\": \"line\"}, \"encoding\": {\"color\": {\"value\": \"black\"}, \"x\": {\"field\": \"18\", \"scale\": {\"zero\": false}, \"type\": \"quantitative\"}, \"y\": {\"field\": \"fit_data\", \"scale\": {\"zero\": false}, \"type\": \"quantitative\"}}}], \"data\": {\"name\": \"data-80e8adbcc1108065677c1d20b8f50f33\"}, \"$schema\": \"https://vega.github.io/schema/vega-lite/v5.20.1.json\", \"datasets\": {\"data-80e8adbcc1108065677c1d20b8f50f33\": [{\"date\": \"2020-06-01T00:00:00\", \"18\": 19.9, \"23\": 18.6, \"deltaT\": 1.2999999999999972, \"fit_data\": 18.106068652640857}, {\"date\": \"2020-06-02T00:00:00\", \"18\": 25.4, \"23\": 22.9, \"deltaT\": 2.5, \"fit_data\": 21.8367016416001}, {\"date\": \"2020-06-03T00:00:00\", \"18\": 25.4, \"23\": 21.6, \"deltaT\": 3.799999999999997, \"fit_data\": 21.8367016416001}, {\"date\": \"2020-06-04T00:00:00\", \"18\": 23.0, \"23\": 19.8, \"deltaT\": 3.1999999999999993, \"fit_data\": 20.208789064599706}, {\"date\": \"2020-06-05T00:00:00\", \"18\": 16.6, \"23\": 16.1, \"deltaT\": 0.5, \"fit_data\": 15.867688859265312}, {\"date\": \"2020-06-06T00:00:00\", \"18\": 16.4, \"23\": 14.9, \"deltaT\": 1.4999999999999982, \"fit_data\": 15.732029477848611}, {\"date\": \"2020-06-07T00:00:00\", \"18\": 16.5, \"23\": 16.3, \"deltaT\": 0.1999999999999993, \"fit_data\": 15.799859168556962}, {\"date\": \"2020-06-08T00:00:00\", \"18\": 20.4, \"23\": 18.0, \"deltaT\": 2.3999999999999986, \"fit_data\": 18.445217106182607}, {\"date\": \"2020-06-09T00:00:00\", \"18\": 22.2, \"23\": 19.4, \"deltaT\": 2.8000000000000007, \"fit_data\": 19.66615153893291}, {\"date\": \"2020-06-10T00:00:00\", \"18\": 20.7, \"23\": 18.1, \"deltaT\": 2.599999999999998, \"fit_data\": 18.648706178307656}, {\"date\": \"2020-06-11T00:00:00\", \"18\": 20.6, \"23\": 18.3, \"deltaT\": 2.3000000000000007, \"fit_data\": 18.580876487599312}, {\"date\": \"2020-06-12T00:00:00\", \"18\": 16.1, \"23\": 15.2, \"deltaT\": 0.9000000000000021, \"fit_data\": 15.528540405723563}, {\"date\": \"2020-06-13T00:00:00\", \"18\": 17.4, \"23\": 16.6, \"deltaT\": 0.7999999999999972, \"fit_data\": 16.410326384932112}, {\"date\": \"2020-06-14T00:00:00\", \"18\": 17.8, \"23\": 17.1, \"deltaT\": 0.6999999999999993, \"fit_data\": 16.68164514776551}, {\"date\": \"2020-06-15T00:00:00\", \"18\": 18.5, \"23\": 16.9, \"deltaT\": 1.6000000000000014, \"fit_data\": 17.156452982723962}, {\"date\": \"2020-06-16T00:00:00\", \"18\": 18.0, \"23\": 17.1, \"deltaT\": 0.8999999999999986, \"fit_data\": 16.81730452918221}, {\"date\": \"2020-06-17T00:00:00\", \"18\": 23.7, \"23\": 20.6, \"deltaT\": 3.099999999999998, \"fit_data\": 20.683596899558154}, {\"date\": \"2020-06-18T00:00:00\", \"18\": 23.9, \"23\": 20.3, \"deltaT\": 3.599999999999998, \"fit_data\": 20.819256280974855}, {\"date\": \"2020-06-19T00:00:00\", \"18\": 18.2, \"23\": 16.8, \"deltaT\": 1.3999999999999986, \"fit_data\": 16.95296391059891}, {\"date\": \"2020-06-20T00:00:00\", \"18\": 17.5, \"23\": 16.8, \"deltaT\": 0.6999999999999993, \"fit_data\": 16.478156075640463}, {\"date\": \"2020-06-21T00:00:00\", \"18\": 18.8, \"23\": 17.6, \"deltaT\": 1.1999999999999993, \"fit_data\": 17.35994205484901}, {\"date\": \"2020-06-22T00:00:00\", \"18\": 19.5, \"23\": 18.3, \"deltaT\": 1.1999999999999993, \"fit_data\": 17.834749889807462}, {\"date\": \"2020-06-23T00:00:00\", \"18\": 19.1, \"23\": 17.7, \"deltaT\": 1.4000000000000021, \"fit_data\": 17.56343112697406}, {\"date\": \"2020-06-24T00:00:00\", \"18\": 19.4, \"23\": 17.9, \"deltaT\": 1.5, \"fit_data\": 17.766920199099108}, {\"date\": \"2020-06-25T00:00:00\", \"18\": 19.0, \"23\": 18.1, \"deltaT\": 0.8999999999999986, \"fit_data\": 17.49560143626571}, {\"date\": \"2020-06-26T00:00:00\", \"18\": 18.0, \"23\": 17.1, \"deltaT\": 0.8999999999999986, \"fit_data\": 16.81730452918221}, {\"date\": \"2020-06-27T00:00:00\", \"18\": 18.4, \"23\": 16.9, \"deltaT\": 1.5, \"fit_data\": 17.088623292015612}, {\"date\": \"2020-06-28T00:00:00\", \"18\": 17.6, \"23\": 15.5, \"deltaT\": 2.1000000000000014, \"fit_data\": 16.545985766348814}, {\"date\": \"2020-06-29T00:00:00\", \"18\": 19.7, \"23\": 18.2, \"deltaT\": 1.5, \"fit_data\": 17.970409271224156}]}}, {\"mode\": \"vega-lite\"});\n",
       "</script>"
      ],
      "text/plain": [
       "alt.LayerChart(...)"
      ]
     },
     "execution_count": 16,
     "metadata": {},
     "output_type": "execute_result"
    }
   ],
   "source": [
    "visually_check_regression(EVENING, eve)"
   ]
  }
 ],
 "metadata": {
  "kernelspec": {
   "display_name": ".venv",
   "language": "python",
   "name": "python3"
  },
  "language_info": {
   "codemirror_mode": {
    "name": "ipython",
    "version": 3
   },
   "file_extension": ".py",
   "mimetype": "text/x-python",
   "name": "python",
   "nbconvert_exporter": "python",
   "pygments_lexer": "ipython3",
   "version": "3.13.2"
  }
 },
 "nbformat": 4,
 "nbformat_minor": 2
}
