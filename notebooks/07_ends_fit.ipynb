{
 "cells": [
  {
   "cell_type": "code",
   "execution_count": 4,
   "metadata": {},
   "outputs": [],
   "source": [
    "%load_ext autoreload\n",
    "%autoreload 2"
   ]
  },
  {
   "cell_type": "code",
   "execution_count": 19,
   "metadata": {},
   "outputs": [],
   "source": [
    "from functools import partial\n",
    "\n",
    "import polars as pl\n",
    "import altair as alt\n",
    "from scipy.stats import linregress\n",
    "import numpy as np\n",
    "\n",
    "from weather.helpers.epw_read import read_epw\n",
    "from weather.helpers.weather_data import PALO_ALTO_20\n",
    "from weather.helpers.filter import filter_df_by_month\n",
    "from weather.helpers.figures import get_todays_save_path"
   ]
  },
  {
   "cell_type": "code",
   "execution_count": 2,
   "metadata": {},
   "outputs": [],
   "source": [
    "df = read_epw(PALO_ALTO_20.path)\n",
    "month_filter = partial(filter_df_by_month, df, PALO_ALTO_20)\n",
    "june = (\n",
    "    month_filter(7)\n",
    "    .filter(pl.col(\"datetime\").dt.day() != 30)\n",
    "    .select([\"datetime\", \"Dry Bulb Temperature\"])\n",
    ")  # last day has only 23 values intead of 24..\n",
    "assert (june[\"datetime\"].dt.date().unique_counts().unique() == 24).all()"
   ]
  },
  {
   "cell_type": "code",
   "execution_count": 36,
   "metadata": {},
   "outputs": [
    {
     "data": {
      "text/html": [
       "<div><style>\n",
       ".dataframe > thead > tr,\n",
       ".dataframe > tbody > tr {\n",
       "  text-align: right;\n",
       "  white-space: pre-wrap;\n",
       "}\n",
       "</style>\n",
       "<small>shape: (5, 5)</small><table border=\"1\" class=\"dataframe\"><thead><tr><th>date</th><th>0</th><th>4</th><th>5</th><th>deltaT</th></tr><tr><td>date</td><td>f64</td><td>f64</td><td>f64</td><td>f64</td></tr></thead><tbody><tr><td>2020-07-01</td><td>17.6</td><td>15.4</td><td>16.0</td><td>2.2</td></tr><tr><td>2020-07-02</td><td>15.5</td><td>13.4</td><td>14.0</td><td>2.1</td></tr><tr><td>2020-07-03</td><td>15.8</td><td>14.3</td><td>15.0</td><td>1.5</td></tr><tr><td>2020-07-04</td><td>16.5</td><td>16.0</td><td>17.0</td><td>0.5</td></tr><tr><td>2020-07-05</td><td>19.2</td><td>17.3</td><td>18.0</td><td>1.9</td></tr></tbody></table></div>"
      ],
      "text/plain": [
       "shape: (5, 5)\n",
       "┌────────────┬──────┬──────┬──────┬────────┐\n",
       "│ date       ┆ 0    ┆ 4    ┆ 5    ┆ deltaT │\n",
       "│ ---        ┆ ---  ┆ ---  ┆ ---  ┆ ---    │\n",
       "│ date       ┆ f64  ┆ f64  ┆ f64  ┆ f64    │\n",
       "╞════════════╪══════╪══════╪══════╪════════╡\n",
       "│ 2020-07-01 ┆ 17.6 ┆ 15.4 ┆ 16.0 ┆ 2.2    │\n",
       "│ 2020-07-02 ┆ 15.5 ┆ 13.4 ┆ 14.0 ┆ 2.1    │\n",
       "│ 2020-07-03 ┆ 15.8 ┆ 14.3 ┆ 15.0 ┆ 1.5    │\n",
       "│ 2020-07-04 ┆ 16.5 ┆ 16.0 ┆ 17.0 ┆ 0.5    │\n",
       "│ 2020-07-05 ┆ 19.2 ┆ 17.3 ┆ 18.0 ┆ 1.9    │\n",
       "└────────────┴──────┴──────┴──────┴────────┘"
      ]
     },
     "execution_count": 36,
     "metadata": {},
     "output_type": "execute_result"
    }
   ],
   "source": [
    "morn_df = (\n",
    "    june.filter(\n",
    "        (pl.col(\"datetime\").dt.hour() == 0) | (pl.col(\"datetime\").dt.hour() == 4) | (pl.col(\"datetime\").dt.hour() == 5)\n",
    "    )\n",
    "    .with_columns(hour=pl.col(\"datetime\").dt.hour(), date=pl.col(\"datetime\").dt.date())\n",
    "    .pivot(on=\"hour\", index=\"date\", values=\"Dry Bulb Temperature\")\n",
    "    .with_columns(deltaT=pl.col(\"0\") - pl.col(\"4\"))\n",
    ")\n",
    "morn_df.head()"
   ]
  },
  {
   "cell_type": "code",
   "execution_count": 38,
   "metadata": {},
   "outputs": [
    {
     "data": {
      "text/plain": [
       "LinregressResult(slope=np.float64(0.7582940395855099), intercept=np.float64(2.8352147273908024), rvalue=np.float64(0.7926789266301113), pvalue=np.float64(2.962355444713497e-07), stderr=np.float64(0.11223580570656057), intercept_stderr=np.float64(1.9293372262011512))"
      ]
     },
     "execution_count": 38,
     "metadata": {},
     "output_type": "execute_result"
    }
   ],
   "source": [
    "morn_fit = linregress(morn_df[\"0\"], morn_df[\"4\"])\n",
    "morn_fit"
   ]
  },
  {
   "cell_type": "code",
   "execution_count": 18,
   "metadata": {},
   "outputs": [],
   "source": [
    "def predict_4am(temp_at_midnight):\n",
    "    # y = mx + b \n",
    "    # 4am_temp = fit.slope * tem_at_midnight + fit.intercept \n",
    "    return (morn_fit.slope * temp_at_midnight) + morn_fit.intercept"
   ]
  },
  {
   "cell_type": "code",
   "execution_count": null,
   "metadata": {},
   "outputs": [
    {
     "data": {
      "text/html": [
       "\n",
       "<style>\n",
       "  #altair-viz-d965766f032d48988442f1752036cf27.vega-embed {\n",
       "    width: 100%;\n",
       "    display: flex;\n",
       "  }\n",
       "\n",
       "  #altair-viz-d965766f032d48988442f1752036cf27.vega-embed details,\n",
       "  #altair-viz-d965766f032d48988442f1752036cf27.vega-embed details summary {\n",
       "    position: relative;\n",
       "  }\n",
       "</style>\n",
       "<div id=\"altair-viz-d965766f032d48988442f1752036cf27\"></div>\n",
       "<script type=\"text/javascript\">\n",
       "  var VEGA_DEBUG = (typeof VEGA_DEBUG == \"undefined\") ? {} : VEGA_DEBUG;\n",
       "  (function(spec, embedOpt){\n",
       "    let outputDiv = document.currentScript.previousElementSibling;\n",
       "    if (outputDiv.id !== \"altair-viz-d965766f032d48988442f1752036cf27\") {\n",
       "      outputDiv = document.getElementById(\"altair-viz-d965766f032d48988442f1752036cf27\");\n",
       "    }\n",
       "\n",
       "    const paths = {\n",
       "      \"vega\": \"https://cdn.jsdelivr.net/npm/vega@5?noext\",\n",
       "      \"vega-lib\": \"https://cdn.jsdelivr.net/npm/vega-lib?noext\",\n",
       "      \"vega-lite\": \"https://cdn.jsdelivr.net/npm/vega-lite@5.20.1?noext\",\n",
       "      \"vega-embed\": \"https://cdn.jsdelivr.net/npm/vega-embed@6?noext\",\n",
       "    };\n",
       "\n",
       "    function maybeLoadScript(lib, version) {\n",
       "      var key = `${lib.replace(\"-\", \"\")}_version`;\n",
       "      return (VEGA_DEBUG[key] == version) ?\n",
       "        Promise.resolve(paths[lib]) :\n",
       "        new Promise(function(resolve, reject) {\n",
       "          var s = document.createElement('script');\n",
       "          document.getElementsByTagName(\"head\")[0].appendChild(s);\n",
       "          s.async = true;\n",
       "          s.onload = () => {\n",
       "            VEGA_DEBUG[key] = version;\n",
       "            return resolve(paths[lib]);\n",
       "          };\n",
       "          s.onerror = () => reject(`Error loading script: ${paths[lib]}`);\n",
       "          s.src = paths[lib];\n",
       "        });\n",
       "    }\n",
       "\n",
       "    function showError(err) {\n",
       "      outputDiv.innerHTML = `<div class=\"error\" style=\"color:red;\">${err}</div>`;\n",
       "      throw err;\n",
       "    }\n",
       "\n",
       "    function displayChart(vegaEmbed) {\n",
       "      vegaEmbed(outputDiv, spec, embedOpt)\n",
       "        .catch(err => showError(`Javascript Error: ${err.message}<br>This usually means there's a typo in your chart specification. See the javascript console for the full traceback.`));\n",
       "    }\n",
       "\n",
       "    if(typeof define === \"function\" && define.amd) {\n",
       "      requirejs.config({paths});\n",
       "      let deps = [\"vega-embed\"];\n",
       "      require(deps, displayChart, err => showError(`Error loading script: ${err.message}`));\n",
       "    } else {\n",
       "      maybeLoadScript(\"vega\", \"5\")\n",
       "        .then(() => maybeLoadScript(\"vega-lite\", \"5.20.1\"))\n",
       "        .then(() => maybeLoadScript(\"vega-embed\", \"6\"))\n",
       "        .catch(showError)\n",
       "        .then(() => displayChart(vegaEmbed));\n",
       "    }\n",
       "  })({\"config\": {\"view\": {\"continuousWidth\": 300, \"continuousHeight\": 300}}, \"layer\": [{\"data\": {\"name\": \"data-2164d5827027c83992f7c3f78b3fd526\"}, \"mark\": {\"type\": \"circle\"}, \"encoding\": {\"x\": {\"field\": \"0\", \"scale\": {\"zero\": false}, \"type\": \"quantitative\"}, \"y\": {\"field\": \"4\", \"scale\": {\"zero\": false}, \"type\": \"quantitative\"}}}, {\"data\": {\"name\": \"data-9235ee272c4b2fadc56906b8a8f476c2\"}, \"mark\": {\"type\": \"line\"}, \"encoding\": {\"color\": {\"value\": \"black\"}, \"x\": {\"field\": \"x\", \"type\": \"quantitative\"}, \"y\": {\"field\": \"y\", \"type\": \"quantitative\"}}}], \"$schema\": \"https://vega.github.io/schema/vega-lite/v5.20.1.json\", \"datasets\": {\"data-2164d5827027c83992f7c3f78b3fd526\": [{\"date\": \"2020-07-01T00:00:00\", \"0\": 17.6, \"4\": 15.4, \"deltaT\": 2.200000000000001}, {\"date\": \"2020-07-02T00:00:00\", \"0\": 15.5, \"4\": 13.4, \"deltaT\": 2.0999999999999996}, {\"date\": \"2020-07-03T00:00:00\", \"0\": 15.8, \"4\": 14.3, \"deltaT\": 1.5}, {\"date\": \"2020-07-04T00:00:00\", \"0\": 16.5, \"4\": 16.0, \"deltaT\": 0.5}, {\"date\": \"2020-07-05T00:00:00\", \"0\": 19.2, \"4\": 17.3, \"deltaT\": 1.8999999999999986}, {\"date\": \"2020-07-06T00:00:00\", \"0\": 18.1, \"4\": 15.5, \"deltaT\": 2.6000000000000014}, {\"date\": \"2020-07-07T00:00:00\", \"0\": 17.3, \"4\": 15.1, \"deltaT\": 2.200000000000001}, {\"date\": \"2020-07-08T00:00:00\", \"0\": 17.0, \"4\": 15.3, \"deltaT\": 1.6999999999999993}, {\"date\": \"2020-07-09T00:00:00\", \"0\": 17.2, \"4\": 15.3, \"deltaT\": 1.8999999999999986}, {\"date\": \"2020-07-10T00:00:00\", \"0\": 18.2, \"4\": 16.3, \"deltaT\": 1.8999999999999986}, {\"date\": \"2020-07-11T00:00:00\", \"0\": 18.2, \"4\": 17.1, \"deltaT\": 1.0999999999999979}, {\"date\": \"2020-07-12T00:00:00\", \"0\": 18.9, \"4\": 17.3, \"deltaT\": 1.5999999999999979}, {\"date\": \"2020-07-13T00:00:00\", \"0\": 17.9, \"4\": 16.3, \"deltaT\": 1.5999999999999979}, {\"date\": \"2020-07-14T00:00:00\", \"0\": 15.7, \"4\": 15.0, \"deltaT\": 0.6999999999999993}, {\"date\": \"2020-07-15T00:00:00\", \"0\": 16.2, \"4\": 15.1, \"deltaT\": 1.0999999999999996}, {\"date\": \"2020-07-16T00:00:00\", \"0\": 16.3, \"4\": 15.1, \"deltaT\": 1.200000000000001}, {\"date\": \"2020-07-17T00:00:00\", \"0\": 16.1, \"4\": 15.9, \"deltaT\": 0.20000000000000107}, {\"date\": \"2020-07-18T00:00:00\", \"0\": 17.7, \"4\": 16.4, \"deltaT\": 1.3000000000000007}, {\"date\": \"2020-07-19T00:00:00\", \"0\": 17.7, \"4\": 16.9, \"deltaT\": 0.8000000000000007}, {\"date\": \"2020-07-20T00:00:00\", \"0\": 17.3, \"4\": 16.3, \"deltaT\": 1.0}, {\"date\": \"2020-07-21T00:00:00\", \"0\": 16.6, \"4\": 16.1, \"deltaT\": 0.5}, {\"date\": \"2020-07-22T00:00:00\", \"0\": 16.3, \"4\": 15.3, \"deltaT\": 1.0}, {\"date\": \"2020-07-23T00:00:00\", \"0\": 17.3, \"4\": 15.6, \"deltaT\": 1.700000000000001}, {\"date\": \"2020-07-24T00:00:00\", \"0\": 17.2, \"4\": 16.3, \"deltaT\": 0.8999999999999986}, {\"date\": \"2020-07-25T00:00:00\", \"0\": 17.0, \"4\": 16.2, \"deltaT\": 0.8000000000000007}, {\"date\": \"2020-07-26T00:00:00\", \"0\": 18.2, \"4\": 17.0, \"deltaT\": 1.1999999999999993}, {\"date\": \"2020-07-27T00:00:00\", \"0\": 17.4, \"4\": 16.4, \"deltaT\": 1.0}, {\"date\": \"2020-07-28T00:00:00\", \"0\": 17.0, \"4\": 16.2, \"deltaT\": 0.8000000000000007}, {\"date\": \"2020-07-29T00:00:00\", \"0\": 16.4, \"4\": 15.3, \"deltaT\": 1.0999999999999979}], \"data-9235ee272c4b2fadc56906b8a8f476c2\": [{\"x\": 15.5, \"y\": 14.588772340966205}, {\"x\": 16.0, \"y\": 14.96791936075896}, {\"x\": 16.5, \"y\": 15.347066380551716}, {\"x\": 17.0, \"y\": 15.72621340034447}, {\"x\": 17.5, \"y\": 16.105360420137224}, {\"x\": 18.0, \"y\": 16.48450743992998}, {\"x\": 18.5, \"y\": 16.863654459722735}, {\"x\": 19.0, \"y\": 17.242801479515492}, {\"x\": 19.5, \"y\": 17.621948499308246}]}}, {\"mode\": \"vega-lite\"});\n",
       "</script>"
      ],
      "text/plain": [
       "alt.LayerChart(...)"
      ]
     },
     "execution_count": 34,
     "metadata": {},
     "output_type": "execute_result"
    }
   ],
   "source": [
    "data = alt.Chart(morn_df).mark_circle().encode(\n",
    "    alt.X(\"0:Q\").scale(zero=False), alt.Y(\"4:Q\").scale(zero=False)\n",
    ")\n",
    "\n",
    "x = np.arange(start=15.5, step=0.5, stop=20)\n",
    "source = pl.DataFrame({\"x\": x}).with_columns(pl.col(\"x\").map_elements(predict_4am, return_dtype=pl.Float64).alias(\"y\"))\n",
    "\n",
    "source\n",
    "\n",
    "base = alt.Chart(source).mark_line().encode(\n",
    "    x=\"x:Q\",\n",
    "    y=\"y:Q\",\n",
    "    color=alt.value(\"black\")\n",
    ")\n",
    "\n",
    "data + base\n",
    "\n"
   ]
  },
  {
   "cell_type": "code",
   "execution_count": 11,
   "metadata": {},
   "outputs": [
    {
     "data": {
      "text/plain": [
       "LinregressResult(slope=np.float64(0.24170596041449002), intercept=np.float64(-2.835214727390797), rvalue=np.float64(0.3828712927200296), pvalue=np.float64(0.04036541490268517), stderr=np.float64(0.11223580570656054), intercept_stderr=np.float64(1.9293372262011508))"
      ]
     },
     "execution_count": 11,
     "metadata": {},
     "output_type": "execute_result"
    }
   ],
   "source": [
    "morn_dt_fit = linregress(morn_df[\"0\"], morn_df[\"deltaT\"])\n",
    "morn_dt_fit"
   ]
  },
  {
   "cell_type": "code",
   "execution_count": 15,
   "metadata": {},
   "outputs": [],
   "source": [
    "def predict_4am(temp_at_midnight):\n",
    "    # y = mx + b \n",
    "    # 4am_temp = fit.slope * tem_at_midnight + fit.intercept \n",
    "    return (morn_fit.slope * temp_at_midnight) + morn_fit.intercept"
   ]
  },
  {
   "cell_type": "code",
   "execution_count": 16,
   "metadata": {},
   "outputs": [
    {
     "data": {
      "text/plain": [
       "np.float64(16.181189824095778)"
      ]
     },
     "execution_count": 16,
     "metadata": {},
     "output_type": "execute_result"
    }
   ],
   "source": [
    "predict_4am(morn_df[\"0\"][0])"
   ]
  }
 ],
 "metadata": {
  "kernelspec": {
   "display_name": ".venv",
   "language": "python",
   "name": "python3"
  },
  "language_info": {
   "codemirror_mode": {
    "name": "ipython",
    "version": 3
   },
   "file_extension": ".py",
   "mimetype": "text/x-python",
   "name": "python",
   "nbconvert_exporter": "python",
   "pygments_lexer": "ipython3",
   "version": "3.13.2"
  }
 },
 "nbformat": 4,
 "nbformat_minor": 2
}
